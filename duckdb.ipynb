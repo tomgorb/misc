{
 "cells": [
  {
   "cell_type": "markdown",
   "id": "429c637c-0d2f-4b8e-9056-08eabaaacceb",
   "metadata": {},
   "source": [
    "### Requirements\n",
    "-----"
   ]
  },
  {
   "cell_type": "code",
   "execution_count": 1,
   "id": "f74c9db4-c2f7-4988-81a2-2c1918987656",
   "metadata": {},
   "outputs": [
    {
     "data": {
      "text/plain": [
       "'1.0.0'"
      ]
     },
     "execution_count": 1,
     "metadata": {},
     "output_type": "execute_result"
    }
   ],
   "source": [
    "import duckdb\n",
    "duckdb.__version__"
   ]
  },
  {
   "cell_type": "code",
   "execution_count": 2,
   "id": "d88ab024-dcda-4e98-bbfd-a7a8c89ffbda",
   "metadata": {},
   "outputs": [
    {
     "data": {
      "text/plain": [
       "'0.10.11'"
      ]
     },
     "execution_count": 2,
     "metadata": {},
     "output_type": "execute_result"
    }
   ],
   "source": [
    "import sql\n",
    "sql.__version__"
   ]
  },
  {
   "cell_type": "markdown",
   "id": "83ee31cd-a56e-411e-ad2f-2b60c6c879e8",
   "metadata": {},
   "source": [
    "-----"
   ]
  },
  {
   "cell_type": "code",
   "execution_count": 3,
   "id": "baf05b74-0345-45c4-885a-3009d6d1f71f",
   "metadata": {},
   "outputs": [
    {
     "name": "stdout",
     "output_type": "stream",
     "text": [
      "Deploy Panel apps for free on Ploomber Cloud! Learn more: https://ploomber.io/s/signup\n"
     ]
    }
   ],
   "source": [
    "%load_ext sql\n",
    "\n",
    "%config SqlMagic.autopandas = True\n",
    "%config SqlMagic.displaycon = False\n",
    "%config SqlMagic.feedback   = 0"
   ]
  },
  {
   "cell_type": "code",
   "execution_count": 4,
   "id": "6cc5cf8a-8a1c-4bea-97b2-d12eb19932ff",
   "metadata": {},
   "outputs": [],
   "source": [
    "%sql duckdb:///data/duckdb.db"
   ]
  },
  {
   "cell_type": "code",
   "execution_count": 5,
   "id": "1949523f-c4c9-4325-b883-b2f2a08cb1f5",
   "metadata": {},
   "outputs": [
    {
     "data": {
      "text/html": [
       "<div>\n",
       "<style scoped>\n",
       "    .dataframe tbody tr th:only-of-type {\n",
       "        vertical-align: middle;\n",
       "    }\n",
       "\n",
       "    .dataframe tbody tr th {\n",
       "        vertical-align: top;\n",
       "    }\n",
       "\n",
       "    .dataframe thead th {\n",
       "        text-align: right;\n",
       "    }\n",
       "</style>\n",
       "<table border=\"1\" class=\"dataframe\">\n",
       "  <thead>\n",
       "    <tr style=\"text-align: right;\">\n",
       "      <th></th>\n",
       "      <th>Success</th>\n",
       "    </tr>\n",
       "  </thead>\n",
       "  <tbody>\n",
       "  </tbody>\n",
       "</table>\n",
       "</div>"
      ],
      "text/plain": [
       "Empty DataFrame\n",
       "Columns: [Success]\n",
       "Index: []"
      ]
     },
     "execution_count": 5,
     "metadata": {},
     "output_type": "execute_result"
    }
   ],
   "source": [
    "%sql SET GLOBAL pandas_analyze_sample=100000"
   ]
  },
  {
   "cell_type": "code",
   "execution_count": 6,
   "id": "6d4b5490-78b2-4ed1-b82e-41a7e191b7d1",
   "metadata": {},
   "outputs": [
    {
     "data": {
      "text/html": [
       "<div>\n",
       "<style scoped>\n",
       "    .dataframe tbody tr th:only-of-type {\n",
       "        vertical-align: middle;\n",
       "    }\n",
       "\n",
       "    .dataframe tbody tr th {\n",
       "        vertical-align: top;\n",
       "    }\n",
       "\n",
       "    .dataframe thead th {\n",
       "        text-align: right;\n",
       "    }\n",
       "</style>\n",
       "<table border=\"1\" class=\"dataframe\">\n",
       "  <thead>\n",
       "    <tr style=\"text-align: right;\">\n",
       "      <th></th>\n",
       "      <th>1</th>\n",
       "    </tr>\n",
       "  </thead>\n",
       "  <tbody>\n",
       "    <tr>\n",
       "      <th>0</th>\n",
       "      <td>1</td>\n",
       "    </tr>\n",
       "  </tbody>\n",
       "</table>\n",
       "</div>"
      ],
      "text/plain": [
       "   1\n",
       "0  1"
      ]
     },
     "execution_count": 6,
     "metadata": {},
     "output_type": "execute_result"
    }
   ],
   "source": [
    "%%sql \n",
    "SELECT 1"
   ]
  },
  {
   "cell_type": "code",
   "execution_count": 7,
   "id": "94783f6d-dcd0-4b72-bb20-eb266b0e9f43",
   "metadata": {},
   "outputs": [],
   "source": [
    "%%sql\n",
    "res << SELECT RANGE(10) AS l"
   ]
  },
  {
   "cell_type": "code",
   "execution_count": 8,
   "id": "4b13e34b-2cc3-410a-a589-f804b9863905",
   "metadata": {},
   "outputs": [
    {
     "data": {
      "text/plain": [
       "array([0, 1, 2, 3, 4, 5, 6, 7, 8, 9])"
      ]
     },
     "execution_count": 8,
     "metadata": {},
     "output_type": "execute_result"
    }
   ],
   "source": [
    "res['l'][0]"
   ]
  },
  {
   "cell_type": "code",
   "execution_count": null,
   "id": "a19abe59-a5c2-4c31-a25f-1d2bf6f00aa3",
   "metadata": {},
   "outputs": [],
   "source": []
  }
 ],
 "metadata": {
  "kernelspec": {
   "display_name": "sandbox",
   "language": "python",
   "name": "sandbox"
  },
  "language_info": {
   "codemirror_mode": {
    "name": "ipython",
    "version": 3
   },
   "file_extension": ".py",
   "mimetype": "text/x-python",
   "name": "python",
   "nbconvert_exporter": "python",
   "pygments_lexer": "ipython3",
   "version": "3.12.3"
  }
 },
 "nbformat": 4,
 "nbformat_minor": 5
}
