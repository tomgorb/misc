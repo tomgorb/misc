{
 "cells": [
  {
   "cell_type": "markdown",
   "metadata": {},
   "source": [
    "### Requirements\n",
    "-----"
   ]
  },
  {
   "cell_type": "code",
   "execution_count": 1,
   "metadata": {},
   "outputs": [
    {
     "data": {
      "text/plain": [
       "'1.5.3'"
      ]
     },
     "execution_count": 1,
     "metadata": {},
     "output_type": "execute_result"
    }
   ],
   "source": [
    "import pandas as pd\n",
    "pd.__version__"
   ]
  },
  {
   "cell_type": "code",
   "execution_count": 2,
   "metadata": {},
   "outputs": [
    {
     "data": {
      "text/plain": [
       "'1.26.4'"
      ]
     },
     "execution_count": 2,
     "metadata": {},
     "output_type": "execute_result"
    }
   ],
   "source": [
    "import numpy as np\n",
    "np.__version__"
   ]
  },
  {
   "cell_type": "code",
   "execution_count": 3,
   "metadata": {},
   "outputs": [
    {
     "data": {
      "text/plain": [
       "'1.5.0'"
      ]
     },
     "execution_count": 3,
     "metadata": {},
     "output_type": "execute_result"
    }
   ],
   "source": [
    "import sklearn\n",
    "sklearn.__version__"
   ]
  },
  {
   "cell_type": "code",
   "execution_count": 4,
   "metadata": {},
   "outputs": [
    {
     "data": {
      "text/plain": [
       "'1.13.1'"
      ]
     },
     "execution_count": 4,
     "metadata": {},
     "output_type": "execute_result"
    }
   ],
   "source": [
    "import scipy\n",
    "scipy.__version__"
   ]
  },
  {
   "cell_type": "markdown",
   "metadata": {},
   "source": [
    "-----"
   ]
  },
  {
   "cell_type": "markdown",
   "metadata": {},
   "source": [
    "Extreme Learning Machines\n",
    "-----"
   ]
  },
  {
   "cell_type": "code",
   "execution_count": 5,
   "metadata": {},
   "outputs": [],
   "source": [
    "from sklearn.model_selection import train_test_split\n",
    "from sklearn.preprocessing import OneHotEncoder\n",
    "from sklearn.preprocessing import MinMaxScaler\n",
    "from scipy.linalg import pinv"
   ]
  },
  {
   "cell_type": "code",
   "execution_count": 6,
   "metadata": {},
   "outputs": [],
   "source": [
    "from sklearn.datasets import fetch_openml\n",
    "mnist = fetch_openml('mnist_784', version=1)\n",
    "\n",
    "X_train, X_test, y_train, y_test = train_test_split(mnist.data, mnist.target, test_size=0.2, random_state=42, stratify=mnist.target)"
   ]
  },
  {
   "cell_type": "code",
   "execution_count": 7,
   "metadata": {},
   "outputs": [],
   "source": [
    "onehotencoder = OneHotEncoder(categories='auto')\n",
    "scaler = MinMaxScaler()\n",
    "\n",
    "X_train = scaler.fit_transform(X_train)\n",
    "y_train = onehotencoder.fit_transform(y_train.to_numpy().reshape(-1, 1)).toarray()\n",
    "\n",
    "X_test = scaler.fit_transform(X_test)\n",
    "y_test = onehotencoder.fit_transform(y_test.to_numpy().reshape(-1, 1)).toarray()"
   ]
  },
  {
   "cell_type": "code",
   "execution_count": 8,
   "metadata": {},
   "outputs": [
    {
     "name": "stdout",
     "output_type": "stream",
     "text": [
      "(56000, 784)\n",
      "(56000, 10)\n",
      "(14000, 784)\n",
      "(14000, 10)\n"
     ]
    }
   ],
   "source": [
    "print(X_train.shape)\n",
    "print(y_train.shape)\n",
    "print(X_test.shape)\n",
    "print(y_test.shape)"
   ]
  },
  {
   "cell_type": "markdown",
   "metadata": {},
   "source": [
    "To initialize our network, we need to identify the following:\n",
    "1. The size of the input layer, which is the number of input features\n",
    "2. Number of hidden neurons\n",
    "3. Input to hidden weights\n",
    "4. Hidden layer activation function\n",
    "\n",
    "The size of the input layer refers to the number of input features of the dataset."
   ]
  },
  {
   "cell_type": "code",
   "execution_count": 9,
   "metadata": {},
   "outputs": [],
   "source": [
    "def compute_network_accuracy(hidden_size=1000):\n",
    "\n",
    "    input_size = X_train.shape[1]\n",
    "\n",
    "    input_weights = np.random.normal(size=[input_size,hidden_size])\n",
    "    biases = np.random.normal(size=[hidden_size])\n",
    "\n",
    "    def relu(x):\n",
    "        return np.maximum(x, 0, x)\n",
    "\n",
    "    def hidden_nodes(X):\n",
    "        G = np.dot(X, input_weights)\n",
    "        G = G + biases\n",
    "        H = relu(G)\n",
    "        return H\n",
    "\n",
    "    output_weights = np.dot(pinv(hidden_nodes(X_train)), y_train)\n",
    "    def predict(X):\n",
    "        out = hidden_nodes(X)\n",
    "        out = np.dot(out, output_weights)\n",
    "        return out\n",
    "\n",
    "    prediction = predict(X_test)\n",
    "    correct = 0\n",
    "    total = X_test.shape[0]\n",
    "    for i in range(total):\n",
    "        predicted = np.argmax(prediction[i])\n",
    "        actual = np.argmax(y_test[i])\n",
    "        correct += 1 if predicted == actual else 0\n",
    "    accuracy = correct/total\n",
    "    print('Accuracy for', hidden_size, ' hidden nodes:', accuracy)\n",
    "\n",
    "    return hidden_size, accuracy"
   ]
  },
  {
   "cell_type": "code",
   "execution_count": 10,
   "metadata": {},
   "outputs": [
    {
     "name": "stdout",
     "output_type": "stream",
     "text": [
      "Accuracy for 500  hidden nodes: 0.9125\n",
      "5 s\n",
      "Accuracy for 1000  hidden nodes: 0.9402142857142857\n",
      "15 s\n",
      "Accuracy for 1500  hidden nodes: 0.9497142857142857\n",
      "25 s\n",
      "Accuracy for 2000  hidden nodes: 0.9557142857142857\n",
      "49 s\n",
      "Accuracy for 2500  hidden nodes: 0.9596428571428571\n",
      "72 s\n",
      "Accuracy for 3000  hidden nodes: 0.9630714285714286\n",
      "115 s\n",
      "Accuracy for 3500  hidden nodes: 0.9652857142857143\n",
      "160 s\n",
      "Accuracy for 4000  hidden nodes: 0.9659285714285715\n",
      "223 s\n",
      "Accuracy for 4500  hidden nodes: 0.9670714285714286\n",
      "281 s\n",
      "Accuracy for 5000  hidden nodes: 0.9705714285714285\n",
      "355 s\n"
     ]
    }
   ],
   "source": [
    "from datetime import datetime\n",
    "X=[]\n",
    "y=[]\n",
    "t=[]\n",
    "for h in range(1,11):\n",
    "    size = h*500\n",
    "    start = datetime.now()\n",
    "    tmp_X, tmp_y = compute_network_accuracy(size)\n",
    "    X.append(tmp_X)\n",
    "    y.append(tmp_y)\n",
    "    tmp_t = (datetime.now()-start).seconds\n",
    "    print(tmp_t, \"s\")\n",
    "    t.append(tmp_t)"
   ]
  },
  {
   "cell_type": "code",
   "execution_count": 11,
   "metadata": {},
   "outputs": [
    {
     "data": {
      "text/plain": [
       "[<matplotlib.lines.Line2D at 0x7e955e1586b0>]"
      ]
     },
     "execution_count": 11,
     "metadata": {},
     "output_type": "execute_result"
    },
    {
     "data": {
      "image/png": "[encoded data removed]",
      "text/plain": [
       "<Figure size 640x480 with 1 Axes>"
      ]
     },
     "metadata": {},
     "output_type": "display_data"
    }
   ],
   "source": [
    "%matplotlib inline\n",
    "import matplotlib.pyplot as plt\n",
    "plt.plot(X, y, '-bo')"
   ]
  },
  {
   "cell_type": "code",
   "execution_count": 12,
   "metadata": {},
   "outputs": [
    {
     "data": {
      "text/plain": [
       "[<matplotlib.lines.Line2D at 0x7e955e1d3b60>]"
      ]
     },
     "execution_count": 12,
     "metadata": {},
     "output_type": "execute_result"
    },
    {
     "data": {
      "image/png": "[encoded data removed]",
      "text/plain": [
       "<Figure size 640x480 with 1 Axes>"
      ]
     },
     "metadata": {},
     "output_type": "display_data"
    }
   ],
   "source": [
    "plt.plot(X, t)"
   ]
  },
  {
   "cell_type": "markdown",
   "metadata": {},
   "source": [
    "-----\n",
    "#### Standard Feedforward Neural Network:\n",
    "\n",
    "1. multiply inputs by weights\n",
    "2. add bias\n",
    "3. apply the activation function\n",
    "4. repeat steps 1–3 number of layers times\n",
    "5. calculate output\n",
    "6. backpropagate\n",
    "7. repeat everything\n",
    "\n",
    "#### Extreme Learning Machines\n",
    "\n",
    "- remove *step 4*: ELM is always SLFN (Single hidden Layer Feedforward Neural network) \n",
    "- replace *step 6* and remove *step 7*: ELM doesn’t require gradient-based backpropagation to work. It uses Moore-Penrose generalized inverse - once - to set its weights.\n",
    "\n",
    "$$f_L(x)=\\sum_{i=1}^{L}\\beta_i g_i(x)=\\sum_{i=1}^{L}\\beta_i g(w_i.x_j+b_i),j=1,\\dots,N$$\n",
    "\n",
    "Where:\n",
    "- $L$ is a number of hidden units\n",
    "- $N$ is a number of training samples\n",
    "- $\\beta$ is a weight vector between hidden layer and output\n",
    "- $w$ is a weight vector between input and hidden layer\n",
    "- $g$ is an activation function\n",
    "- $b$ is a bias vector\n",
    "- $x$ in an input vector\n",
    "\n",
    "$$T=H\\beta$$\n",
    "\n",
    "Where:\n",
    "$$\n",
    "\\begin{equation*}\n",
    "H = \n",
    "\\begin{bmatrix}\n",
    "g(w_1.x_1+b_1) & \\dots & g(w_L.x_1+b_L) \\\\\n",
    "\\vdots & \\dots & \\vdots \\\\\n",
    "g(w_1.x_N+b_1) & \\dots & g(w_L.x_N+b_L)\n",
    "\\end{bmatrix}_{N\\times L}\n",
    "\\end{equation*}\n",
    "$$\n",
    "\n",
    "$$\n",
    "\\begin{equation*}\n",
    "\\beta = \n",
    "\\begin{bmatrix}\n",
    "\\beta_1^T \\\\\n",
    "\\vdots \\\\\n",
    "\\beta_L^T \\\\\n",
    "\\end{bmatrix}_{L\\times m}\n",
    "T = \n",
    "\\begin{bmatrix}\n",
    "t_1^T \\\\\n",
    "\\vdots \\\\\n",
    "t_N^T \\\\\n",
    "\\end{bmatrix}_{N\\times m}\n",
    "\\end{equation*}\n",
    "$$\n",
    "\n",
    "Where:\n",
    "- $m$ is a number of outputs\n",
    "- $H$ is called **Hidden Layer Output Matrix**\n",
    "- $T$ is a training data target matrix\n",
    "\n",
    "**Algorithm**\n",
    "1. Randomly assign weight $w_i$ and bias $b_i,i=1,\\dots,L$\n",
    "2. Calculate hidden layer output $H$\n",
    "3. Calculate output weight matrix $\\hat{\\beta} = H^\\top T$\n",
    "4. Use $\\hat{\\beta}$ to make a prediction on new data $T=H\\hat{\\beta}$\n",
    "------"
   ]
  },
  {
   "cell_type": "code",
   "execution_count": null,
   "metadata": {},
   "outputs": [],
   "source": []
  }
 ],
 "metadata": {
  "kernelspec": {
   "display_name": "sandbox",
   "language": "python",
   "name": "sandbox"
  },
  "language_info": {
   "codemirror_mode": {
    "name": "ipython",
    "version": 3
   },
   "file_extension": ".py",
   "mimetype": "text/x-python",
   "name": "python",
   "nbconvert_exporter": "python",
   "pygments_lexer": "ipython3",
   "version": "3.12.3"
  }
 },
 "nbformat": 4,
 "nbformat_minor": 4
}
