{
 "cells": [
  {
   "cell_type": "markdown",
   "metadata": {},
   "source": [
    "Extreme Learning Machines\n",
    "-----"
   ]
  },
  {
   "cell_type": "code",
   "execution_count": 1,
   "metadata": {},
   "outputs": [],
   "source": [
    "import numpy as np\n",
    "import pandas as pd\n",
    "from sklearn.model_selection import train_test_split\n",
    "from sklearn.preprocessing import OneHotEncoder\n",
    "from sklearn.preprocessing import MinMaxScaler\n",
    "from scipy.linalg import pinv2\n",
    "from tqdm.notebook import tqdm"
   ]
  },
  {
   "cell_type": "code",
   "execution_count": 2,
   "metadata": {},
   "outputs": [],
   "source": [
    "from sklearn.datasets import fetch_openml\n",
    "mnist = fetch_openml('mnist_784', version=1)\n",
    "\n",
    "X_train, X_test, y_train, y_test = train_test_split(mnist.data, mnist.target, test_size=0.2, random_state=42, stratify=mnist.target)"
   ]
  },
  {
   "cell_type": "code",
   "execution_count": 3,
   "metadata": {},
   "outputs": [],
   "source": [
    "onehotencoder = OneHotEncoder(categories='auto')\n",
    "scaler = MinMaxScaler()\n",
    "\n",
    "X_train = scaler.fit_transform(X_train)\n",
    "y_train = onehotencoder.fit_transform(y_train.reshape(-1, 1)).toarray()\n",
    "\n",
    "X_test = scaler.fit_transform(X_test)\n",
    "y_test = onehotencoder.fit_transform(y_test.reshape(-1, 1)).toarray()"
   ]
  },
  {
   "cell_type": "code",
   "execution_count": 4,
   "metadata": {},
   "outputs": [
    {
     "name": "stdout",
     "output_type": "stream",
     "text": [
      "(56000, 784)\n",
      "(56000, 10)\n",
      "(14000, 784)\n",
      "(14000, 10)\n"
     ]
    }
   ],
   "source": [
    "print(X_train.shape)\n",
    "print(y_train.shape)\n",
    "print(X_test.shape)\n",
    "print(y_test.shape)"
   ]
  },
  {
   "cell_type": "markdown",
   "metadata": {},
   "source": [
    "To initialize our network, we need to identify the following:\n",
    "1. The size of the input layer, which is the number of input features\n",
    "2. Number of hidden neurons\n",
    "3. Input to hidden weights\n",
    "4. Hidden layer activation function\n",
    "\n",
    "The size of the input layer refers to the number of input features of the dataset."
   ]
  },
  {
   "cell_type": "code",
   "execution_count": 5,
   "metadata": {},
   "outputs": [],
   "source": [
    "def compute_network_accuracy(hidden_size=1000):\n",
    "\n",
    "    input_size = X_train.shape[1]\n",
    "\n",
    "    input_weights = np.random.normal(size=[input_size,hidden_size])\n",
    "    biases = np.random.normal(size=[hidden_size])\n",
    "\n",
    "    def relu(x):\n",
    "        return np.maximum(x, 0, x)\n",
    "\n",
    "    def hidden_nodes(X):\n",
    "        G = np.dot(X, input_weights)\n",
    "        G = G + biases\n",
    "        H = relu(G)\n",
    "        return H\n",
    "\n",
    "    output_weights = np.dot(pinv2(hidden_nodes(X_train)), y_train)\n",
    "\n",
    "    def predict(X):\n",
    "        out = hidden_nodes(X)\n",
    "        out = np.dot(out, output_weights)\n",
    "        return out\n",
    "\n",
    "    prediction = predict(X_test)\n",
    "    correct = 0\n",
    "    total = X_test.shape[0]\n",
    "\n",
    "    for i in range(total):\n",
    "        predicted = np.argmax(prediction[i])\n",
    "        actual = np.argmax(y_test[i])\n",
    "        correct += 1 if predicted == actual else 0\n",
    "    accuracy = correct/total\n",
    "    print('Accuracy for ', hidden_size, ' hidden nodes: ', accuracy)\n",
    "\n",
    "    return hidden_size, accuracy"
   ]
  },
  {
   "cell_type": "code",
   "execution_count": 6,
   "metadata": {},
   "outputs": [
    {
     "name": "stdout",
     "output_type": "stream",
     "text": [
      "Accuracy for  1000  hidden nodes:  0.941\n",
      "12 s\n",
      "Accuracy for  2000  hidden nodes:  0.9556428571428571\n",
      "49 s\n",
      "Accuracy for  3000  hidden nodes:  0.9635714285714285\n",
      "111 s\n",
      "Accuracy for  4000  hidden nodes:  0.9659285714285715\n",
      "207 s\n",
      "Accuracy for  5000  hidden nodes:  0.9698571428571429\n",
      "344 s\n",
      "Accuracy for  6000  hidden nodes:  0.9713571428571428\n",
      "489 s\n",
      "Accuracy for  7000  hidden nodes:  0.9737857142857143\n",
      "819 s\n"
     ]
    }
   ],
   "source": [
    "from datetime import datetime\n",
    "X=[]\n",
    "y=[]\n",
    "t=[]\n",
    "for h in range(1,8):\n",
    "    size = h*1000\n",
    "    start = datetime.now()\n",
    "    tmp_X, tmp_y = compute_network_accuracy(size)\n",
    "    X.append(tmp_X)\n",
    "    y.append(tmp_y)\n",
    "    tmp_t = (datetime.now()-start).seconds\n",
    "    print(tmp_t, \"s\")\n",
    "    t.append(tmp_t)"
   ]
  },
  {
   "cell_type": "code",
   "execution_count": 7,
   "metadata": {},
   "outputs": [
    {
     "data": {
      "text/plain": [
       "[<matplotlib.lines.Line2D at 0x7f2708438eb8>]"
      ]
     },
     "execution_count": 7,
     "metadata": {},
     "output_type": "execute_result"
    },
    {
     "data": {
      "image/png": "[encoded data removed]",
      "text/plain": [
       "<Figure size 432x288 with 1 Axes>"
      ]
     },
     "metadata": {
      "needs_background": "light"
     },
     "output_type": "display_data"
    }
   ],
   "source": [
    "%matplotlib inline\n",
    "import matplotlib.pyplot as plt\n",
    "plt.plot(X, y, '-bo')"
   ]
  },
  {
   "cell_type": "code",
   "execution_count": 8,
   "metadata": {},
   "outputs": [
    {
     "data": {
      "text/plain": [
       "[<matplotlib.lines.Line2D at 0x7f2707f16ef0>]"
      ]
     },
     "execution_count": 8,
     "metadata": {},
     "output_type": "execute_result"
    },
    {
     "data": {
      "image/png": "[encoded data removed]",
      "text/plain": [
       "<Figure size 432x288 with 1 Axes>"
      ]
     },
     "metadata": {
      "needs_background": "light"
     },
     "output_type": "display_data"
    }
   ],
   "source": [
    "plt.plot(X, t)"
   ]
  },
  {
   "cell_type": "code",
   "execution_count": null,
   "metadata": {},
   "outputs": [],
   "source": []
  }
 ],
 "metadata": {
  "kernelspec": {
   "display_name": "Python 3",
   "language": "python",
   "name": "python3"
  },
  "language_info": {
   "codemirror_mode": {
    "name": "ipython",
    "version": 3
   },
   "file_extension": ".py",
   "mimetype": "text/x-python",
   "name": "python",
   "nbconvert_exporter": "python",
   "pygments_lexer": "ipython3",
   "version": "3.6.9"
  }
 },
 "nbformat": 4,
 "nbformat_minor": 4
}
