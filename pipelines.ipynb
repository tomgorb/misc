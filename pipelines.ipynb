{
 "cells": [
  {
   "cell_type": "markdown",
   "metadata": {},
   "source": [
    "# Pipelines\n",
    "-----------\n",
    "\n",
    "- Pipelines are a natural way to think about a machine learning system. Indeed with some practice a data scientist can visualise data \"flowing\" through a series of steps. The input is typically some raw data which has to be processed in some manner. The goal is to represent the data in such a way that is can be ingested by a machine learning algorithm. Along the way some steps will extract features, while others will normalize the data and remove undesirable elements. Pipelines are simple, and yet they are a powerful way of designing sophisticated machine learning systems.\n",
    "\n",
    "- Both **scikit-learn** and **pandas** make it possible to use pipelines. However it's quite rare to see pipelines being used in practice. Sometimes you get to see people using scikit-learn's `pipeline` module, however the `pipe` method from `pandas` is sadly underappreciated. A big reason why pipelines are not given much love is that it's easier to think of batch learning in terms of a script or a notebook. Indeed many people doing data science seem to prefer a procedural style to a declarative style. Moreover in practice pipelines can be a bit rigid if one wishes to do non-orthodox operations.\n",
    "\n",
    "- Although pipelines may be a bit of an odd fit for batch learning, they make complete sense when they are used for online learning. Indeed the UNIX philosophy has advocated the use of pipelines for data processing for many decades. If you can visualise data as a stream of observations then using pipelines should make a lot of sense to you."
   ]
  },
  {
   "cell_type": "code",
   "execution_count": 3,
   "metadata": {},
   "outputs": [
    {
     "data": {
      "text/html": [
       "<div>\n",
       "<style scoped>\n",
       "    .dataframe tbody tr th:only-of-type {\n",
       "        vertical-align: middle;\n",
       "    }\n",
       "\n",
       "    .dataframe tbody tr th {\n",
       "        vertical-align: top;\n",
       "    }\n",
       "\n",
       "    .dataframe thead th {\n",
       "        text-align: right;\n",
       "    }\n",
       "</style>\n",
       "<table border=\"1\" class=\"dataframe\">\n",
       "  <thead>\n",
       "    <tr style=\"text-align: right;\">\n",
       "      <th></th>\n",
       "      <th>hits</th>\n",
       "      <th>visits</th>\n",
       "      <th>day</th>\n",
       "      <th>identifier</th>\n",
       "      <th>orders</th>\n",
       "      <th>amount</th>\n",
       "      <th>product_pages</th>\n",
       "      <th>direct_visit</th>\n",
       "      <th>organic_visit</th>\n",
       "      <th>paid_search_visit</th>\n",
       "      <th>email_visit</th>\n",
       "    </tr>\n",
       "  </thead>\n",
       "  <tbody>\n",
       "    <tr>\n",
       "      <th>0</th>\n",
       "      <td>1084135</td>\n",
       "      <td>145634</td>\n",
       "      <td>2020-04-27</td>\n",
       "      <td>96</td>\n",
       "      <td>45986</td>\n",
       "      <td>3061233.89</td>\n",
       "      <td>707126</td>\n",
       "      <td>400028</td>\n",
       "      <td>260021</td>\n",
       "      <td>846</td>\n",
       "      <td>6</td>\n",
       "    </tr>\n",
       "    <tr>\n",
       "      <th>1</th>\n",
       "      <td>734485</td>\n",
       "      <td>111792</td>\n",
       "      <td>2020-04-30</td>\n",
       "      <td>96</td>\n",
       "      <td>53344</td>\n",
       "      <td>3271520.39</td>\n",
       "      <td>479824</td>\n",
       "      <td>255051</td>\n",
       "      <td>159261</td>\n",
       "      <td>431</td>\n",
       "      <td>0</td>\n",
       "    </tr>\n",
       "    <tr>\n",
       "      <th>2</th>\n",
       "      <td>2084615</td>\n",
       "      <td>182338</td>\n",
       "      <td>2020-04-08</td>\n",
       "      <td>96</td>\n",
       "      <td>11576</td>\n",
       "      <td>908171.75</td>\n",
       "      <td>1319358</td>\n",
       "      <td>675851</td>\n",
       "      <td>337172</td>\n",
       "      <td>37056</td>\n",
       "      <td>12</td>\n",
       "    </tr>\n",
       "    <tr>\n",
       "      <th>3</th>\n",
       "      <td>1133765</td>\n",
       "      <td>157161</td>\n",
       "      <td>2020-04-25</td>\n",
       "      <td>96</td>\n",
       "      <td>49829</td>\n",
       "      <td>3398320.87</td>\n",
       "      <td>720391</td>\n",
       "      <td>416621</td>\n",
       "      <td>237090</td>\n",
       "      <td>801</td>\n",
       "      <td>7</td>\n",
       "    </tr>\n",
       "    <tr>\n",
       "      <th>4</th>\n",
       "      <td>2473217</td>\n",
       "      <td>254864</td>\n",
       "      <td>2020-04-14</td>\n",
       "      <td>96</td>\n",
       "      <td>24317</td>\n",
       "      <td>2029124.65</td>\n",
       "      <td>1503301</td>\n",
       "      <td>736847</td>\n",
       "      <td>523907</td>\n",
       "      <td>75793</td>\n",
       "      <td>0</td>\n",
       "    </tr>\n",
       "  </tbody>\n",
       "</table>\n",
       "</div>"
      ],
      "text/plain": [
       "      hits  visits         day  identifier  orders      amount  product_pages  \\\n",
       "0  1084135  145634  2020-04-27          96   45986  3061233.89         707126   \n",
       "1   734485  111792  2020-04-30          96   53344  3271520.39         479824   \n",
       "2  2084615  182338  2020-04-08          96   11576   908171.75        1319358   \n",
       "3  1133765  157161  2020-04-25          96   49829  3398320.87         720391   \n",
       "4  2473217  254864  2020-04-14          96   24317  2029124.65        1503301   \n",
       "\n",
       "   direct_visit  organic_visit  paid_search_visit  email_visit  \n",
       "0        400028         260021                846            6  \n",
       "1        255051         159261                431            0  \n",
       "2        675851         337172              37056           12  \n",
       "3        416621         237090                801            7  \n",
       "4        736847         523907              75793            0  "
      ]
     },
     "execution_count": 3,
     "metadata": {},
     "output_type": "execute_result"
    }
   ],
   "source": [
    "import pandas as pd\n",
    "df = pd.read_csv('data/data.csv', header=0, sep='|')\n",
    "df.fillna(df.mean(), inplace=True)\n",
    "df.head()"
   ]
  },
  {
   "cell_type": "code",
   "execution_count": 4,
   "metadata": {},
   "outputs": [],
   "source": [
    "X=df.drop(['identifier', 'day'],axis=1)\n",
    "Y=df['identifier']\n",
    "\n",
    "from sklearn.model_selection import train_test_split\n",
    "X_train, X_test, y_train, y_test = train_test_split(X,Y,test_size=0.2, random_state=30, stratify=Y)"
   ]
  },
  {
   "cell_type": "markdown",
   "metadata": {},
   "source": [
    "## scikit-learn"
   ]
  },
  {
   "cell_type": "markdown",
   "metadata": {},
   "source": [
    "### without"
   ]
  },
  {
   "cell_type": "code",
   "execution_count": 5,
   "metadata": {},
   "outputs": [
    {
     "name": "stdout",
     "output_type": "stream",
     "text": [
      "score = 0.94\n"
     ]
    }
   ],
   "source": [
    "from sklearn.svm import SVC\n",
    "from sklearn.preprocessing import StandardScaler\n",
    "\n",
    "scaler = StandardScaler().fit(X_train)\n",
    "\n",
    "X_train_scaled = scaler.transform(X_train)\n",
    "\n",
    "model = SVC().fit(X_train_scaled, y_train)\n",
    "\n",
    "print(\"score = %3.2f\" %(model.score(scaler.transform(X_test),y_test)))"
   ]
  },
  {
   "cell_type": "markdown",
   "metadata": {},
   "source": [
    "There is an intrinsic problem of applying a transformer and an estimator separately where the parameters for estimator (SVM) are determined using `GridSearchCV`.\n",
    "\n",
    "When SVC.fit() is done using cross-validation the features already include info from the test-fold as StandardScaler.fit() was done on the whole training set."
   ]
  },
  {
   "cell_type": "markdown",
   "metadata": {},
   "source": [
    "### with"
   ]
  },
  {
   "cell_type": "code",
   "execution_count": 6,
   "metadata": {},
   "outputs": [
    {
     "name": "stdout",
     "output_type": "stream",
     "text": [
      "score = 0.94\n"
     ]
    }
   ],
   "source": [
    "from sklearn.pipeline import Pipeline\n",
    "\n",
    "steps = [\n",
    "    ('scaler', StandardScaler()), \n",
    "    ('SVM', SVC())\n",
    "]\n",
    "\n",
    "pipeline = Pipeline(steps)\n",
    "\n",
    "model = pipeline.fit(X_train, y_train)\n",
    "\n",
    "print(\"score = %3.2f\" %(model.score(X_test,y_test)))"
   ]
  },
  {
   "cell_type": "markdown",
   "metadata": {},
   "source": [
    "### with GridSearch"
   ]
  },
  {
   "cell_type": "code",
   "execution_count": 7,
   "metadata": {},
   "outputs": [
    {
     "name": "stdout",
     "output_type": "stream",
     "text": [
      "score = 0.99\n",
      "{'SVM__C': 100, 'SVM__gamma': 0.1}\n"
     ]
    }
   ],
   "source": [
    "from sklearn.model_selection import GridSearchCV\n",
    "\n",
    "parameters = {'SVM__C':[0.1,10,100], 'SVM__gamma':[0.1,0.01]}\n",
    "\n",
    "grid = GridSearchCV(pipeline, param_grid=parameters, cv=5)\n",
    "\n",
    "grid.fit(X_train, y_train)\n",
    "\n",
    "print(\"score = %3.2f\" %(grid.score(X_test,y_test)))\n",
    "print(grid.best_params_)"
   ]
  },
  {
   "cell_type": "markdown",
   "metadata": {},
   "source": [
    "## pandas"
   ]
  },
  {
   "cell_type": "code",
   "execution_count": 8,
   "metadata": {},
   "outputs": [
    {
     "data": {
      "text/html": [
       "<div>\n",
       "<style scoped>\n",
       "    .dataframe tbody tr th:only-of-type {\n",
       "        vertical-align: middle;\n",
       "    }\n",
       "\n",
       "    .dataframe tbody tr th {\n",
       "        vertical-align: top;\n",
       "    }\n",
       "\n",
       "    .dataframe thead th {\n",
       "        text-align: right;\n",
       "    }\n",
       "</style>\n",
       "<table border=\"1\" class=\"dataframe\">\n",
       "  <thead>\n",
       "    <tr style=\"text-align: right;\">\n",
       "      <th></th>\n",
       "      <th>hits</th>\n",
       "      <th>visits</th>\n",
       "      <th>day</th>\n",
       "      <th>identifier</th>\n",
       "      <th>orders</th>\n",
       "      <th>amount</th>\n",
       "      <th>product_pages</th>\n",
       "      <th>direct_visit</th>\n",
       "      <th>organic_visit</th>\n",
       "      <th>paid_search_visit</th>\n",
       "      <th>email_visit</th>\n",
       "    </tr>\n",
       "  </thead>\n",
       "  <tbody>\n",
       "    <tr>\n",
       "      <th>0</th>\n",
       "      <td>1084135</td>\n",
       "      <td>145634</td>\n",
       "      <td>2020-04-27</td>\n",
       "      <td>96</td>\n",
       "      <td>45986</td>\n",
       "      <td>3061233.89</td>\n",
       "      <td>707126</td>\n",
       "      <td>400028</td>\n",
       "      <td>260021</td>\n",
       "      <td>846</td>\n",
       "      <td>6</td>\n",
       "    </tr>\n",
       "    <tr>\n",
       "      <th>1</th>\n",
       "      <td>734485</td>\n",
       "      <td>111792</td>\n",
       "      <td>2020-04-30</td>\n",
       "      <td>96</td>\n",
       "      <td>53344</td>\n",
       "      <td>3271520.39</td>\n",
       "      <td>479824</td>\n",
       "      <td>255051</td>\n",
       "      <td>159261</td>\n",
       "      <td>431</td>\n",
       "      <td>0</td>\n",
       "    </tr>\n",
       "    <tr>\n",
       "      <th>2</th>\n",
       "      <td>2084615</td>\n",
       "      <td>182338</td>\n",
       "      <td>2020-04-08</td>\n",
       "      <td>96</td>\n",
       "      <td>11576</td>\n",
       "      <td>908171.75</td>\n",
       "      <td>1319358</td>\n",
       "      <td>675851</td>\n",
       "      <td>337172</td>\n",
       "      <td>37056</td>\n",
       "      <td>12</td>\n",
       "    </tr>\n",
       "    <tr>\n",
       "      <th>3</th>\n",
       "      <td>1133765</td>\n",
       "      <td>157161</td>\n",
       "      <td>2020-04-25</td>\n",
       "      <td>96</td>\n",
       "      <td>49829</td>\n",
       "      <td>3398320.87</td>\n",
       "      <td>720391</td>\n",
       "      <td>416621</td>\n",
       "      <td>237090</td>\n",
       "      <td>801</td>\n",
       "      <td>7</td>\n",
       "    </tr>\n",
       "    <tr>\n",
       "      <th>4</th>\n",
       "      <td>2473217</td>\n",
       "      <td>254864</td>\n",
       "      <td>2020-04-14</td>\n",
       "      <td>96</td>\n",
       "      <td>24317</td>\n",
       "      <td>2029124.65</td>\n",
       "      <td>1503301</td>\n",
       "      <td>736847</td>\n",
       "      <td>523907</td>\n",
       "      <td>75793</td>\n",
       "      <td>0</td>\n",
       "    </tr>\n",
       "  </tbody>\n",
       "</table>\n",
       "</div>"
      ],
      "text/plain": [
       "      hits  visits         day  identifier  orders      amount  product_pages  \\\n",
       "0  1084135  145634  2020-04-27          96   45986  3061233.89         707126   \n",
       "1   734485  111792  2020-04-30          96   53344  3271520.39         479824   \n",
       "2  2084615  182338  2020-04-08          96   11576   908171.75        1319358   \n",
       "3  1133765  157161  2020-04-25          96   49829  3398320.87         720391   \n",
       "4  2473217  254864  2020-04-14          96   24317  2029124.65        1503301   \n",
       "\n",
       "   direct_visit  organic_visit  paid_search_visit  email_visit  \n",
       "0        400028         260021                846            6  \n",
       "1        255051         159261                431            0  \n",
       "2        675851         337172              37056           12  \n",
       "3        416621         237090                801            7  \n",
       "4        736847         523907              75793            0  "
      ]
     },
     "execution_count": 8,
     "metadata": {},
     "output_type": "execute_result"
    }
   ],
   "source": [
    "df.head()"
   ]
  },
  {
   "cell_type": "code",
   "execution_count": 9,
   "metadata": {},
   "outputs": [],
   "source": [
    "import numpy as np\n",
    "def csnap(df, fn=lambda x: x.shape, msg=None):\n",
    "    \"\"\" Custom Help function to print things in method chaining.\n",
    "        Returns back the df to further use in chaining.\n",
    "    \"\"\"\n",
    "    if msg:\n",
    "        print(msg)\n",
    "    display(fn(df))\n",
    "    return df"
   ]
  },
  {
   "cell_type": "code",
   "execution_count": 10,
   "metadata": {},
   "outputs": [
    {
     "data": {
      "text/plain": [
       "(3158, 11)"
      ]
     },
     "metadata": {},
     "output_type": "display_data"
    },
    {
     "data": {
      "text/plain": [
       "(3158, 12)"
      ]
     },
     "metadata": {},
     "output_type": "display_data"
    },
    {
     "data": {
      "text/plain": [
       "(2591, 12)"
      ]
     },
     "metadata": {},
     "output_type": "display_data"
    },
    {
     "data": {
      "text/plain": [
       "(1000, 12)"
      ]
     },
     "metadata": {},
     "output_type": "display_data"
    },
    {
     "data": {
      "text/html": [
       "<div>\n",
       "<style scoped>\n",
       "    .dataframe tbody tr th:only-of-type {\n",
       "        vertical-align: middle;\n",
       "    }\n",
       "\n",
       "    .dataframe tbody tr th {\n",
       "        vertical-align: top;\n",
       "    }\n",
       "\n",
       "    .dataframe thead th {\n",
       "        text-align: right;\n",
       "    }\n",
       "</style>\n",
       "<table border=\"1\" class=\"dataframe\">\n",
       "  <thead>\n",
       "    <tr style=\"text-align: right;\">\n",
       "      <th></th>\n",
       "      <th>account</th>\n",
       "      <th>orders</th>\n",
       "      <th>myFilter</th>\n",
       "    </tr>\n",
       "  </thead>\n",
       "  <tbody>\n",
       "    <tr>\n",
       "      <th>143</th>\n",
       "      <td>45</td>\n",
       "      <td>105320</td>\n",
       "      <td>1</td>\n",
       "    </tr>\n",
       "    <tr>\n",
       "      <th>284</th>\n",
       "      <td>96</td>\n",
       "      <td>79630</td>\n",
       "      <td>0</td>\n",
       "    </tr>\n",
       "    <tr>\n",
       "      <th>582</th>\n",
       "      <td>36</td>\n",
       "      <td>55757</td>\n",
       "      <td>1</td>\n",
       "    </tr>\n",
       "    <tr>\n",
       "      <th>674</th>\n",
       "      <td>96</td>\n",
       "      <td>51006</td>\n",
       "      <td>1</td>\n",
       "    </tr>\n",
       "    <tr>\n",
       "      <th>342</th>\n",
       "      <td>34</td>\n",
       "      <td>73364</td>\n",
       "      <td>1</td>\n",
       "    </tr>\n",
       "  </tbody>\n",
       "</table>\n",
       "</div>"
      ],
      "text/plain": [
       "     account  orders  myFilter\n",
       "143       45  105320         1\n",
       "284       96   79630         0\n",
       "582       36   55757         1\n",
       "674       96   51006         1\n",
       "342       34   73364         1"
      ]
     },
     "metadata": {},
     "output_type": "display_data"
    }
   ],
   "source": [
    "pdPipeline = (df.pipe(csnap)\n",
    "                .rename(columns={\"identifier\": \"account\"}) \n",
    "                .assign(myFilter=lambda x: np.where((x['product_pages']> 10000) & (x.email_visit > 0), 1, 0))\n",
    "                .pipe(csnap)\n",
    "                .query(\"hits >= 100000\")\n",
    "                .pipe(csnap)\n",
    "                .sort_values(\"orders\", ascending=False)\n",
    "                .reset_index(drop=True)\n",
    "                .loc[1:1000]\n",
    "                .pipe(csnap)\n",
    "                .filter([\"account\", \"orders\", \"myFilter\"], axis=1)\n",
    "                .pipe(csnap, lambda x: x.sample(5))\n",
    "             )"
   ]
  }
 ],
 "metadata": {
  "kernelspec": {
   "display_name": "Python 3",
   "language": "python",
   "name": "python3"
  },
  "language_info": {
   "codemirror_mode": {
    "name": "ipython",
    "version": 3
   },
   "file_extension": ".py",
   "mimetype": "text/x-python",
   "name": "python",
   "nbconvert_exporter": "python",
   "pygments_lexer": "ipython3",
   "version": "3.6.9"
  }
 },
 "nbformat": 4,
 "nbformat_minor": 4
}
