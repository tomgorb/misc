{
 "cells": [
  {
   "cell_type": "code",
   "execution_count": 1,
   "id": "f0b725ba-0944-4901-a9e2-91b77337ce25",
   "metadata": {},
   "outputs": [],
   "source": [
    "import json\n",
    "import subprocess\n",
    "keys = json.loads(subprocess.run([\"sops\", \"decrypt\", \"API_keys.enc.json\"], capture_output=True).stdout)"
   ]
  },
  {
   "cell_type": "markdown",
   "id": "11d788b0",
   "metadata": {},
   "source": [
    "# [LangChain](https://docs.langchain.com/docs/)"
   ]
  },
  {
   "cell_type": "code",
   "execution_count": 2,
   "id": "13659e82-e1c3-4e53-bb26-30a420153b29",
   "metadata": {},
   "outputs": [
    {
     "data": {
      "text/plain": [
       "'0.3.26'"
      ]
     },
     "execution_count": 2,
     "metadata": {},
     "output_type": "execute_result"
    }
   ],
   "source": [
    "import langchain\n",
    "langchain.__version__"
   ]
  },
  {
   "cell_type": "markdown",
   "id": "07373c1e-403e-4356-b0fb-75f40bd9d72f",
   "metadata": {},
   "source": [
    "## [Components](https://python.langchain.com/docs/how_to/) are the core building blocks you can use when building applications:\n",
    "\n",
    "### Prompt templates\n",
    "\n",
    "Prompt Templates are responsible for formatting user input into a format that can be passed to a language model.\n",
    "\n",
    "### Example selectors\n",
    "\n",
    "Example Selectors are responsible for selecting the correct few shot examples to pass to the prompt.\n",
    "\n",
    "### Chat models\n",
    "\n",
    "Chat Models are newer forms of language models that take messages in and output a message (taking care of special tokens).\n",
    "> message in ➡️ message out\n",
    "\n",
    "### Messages\n",
    "\n",
    "Messages are the input and output of chat models. They have some content and a role, which describes the source of the message.\n",
    "\n",
    "### LLMs\n",
    "\n",
    "What LangChain calls LLMs are older forms of language models that take a string in and output a string.\n",
    "> text in ➡️ text out\n",
    "\n",
    "### Output parsers\n",
    "\n",
    "Output Parsers are responsible for taking the output of an LLM and parsing into more structured format (e.g. prompt instructions + string parsing, Pydantic models...).\n",
    "\n",
    "### Document loaders\n",
    "\n",
    "Document Loaders are responsible for loading documents from a variety of sources.\n",
    "\n",
    "### Text splitters\n",
    "\n",
    "Text Splitters take a document and split into chunks that can be used for retrieval.\n",
    "> documents in ➡️ chunks out\n",
    "\n",
    "### Embedding models\n",
    "\n",
    "Embedding Models take a piece of text and create a numerical representation of it. \n",
    "> text in ➡️ vector out\n",
    "\n",
    "### Vector stores\n",
    "\n",
    "  - [Pinecone](https://www.pinecone.io/)\n",
    "  - [Weaviate](https://weaviate.io/)\n",
    "  - [Chroma](https://www.trychroma.com/)\n",
    "  - [FAISS](https://engineering.fb.com/2017/03/29/data-infrastructure/faiss-a-library-for-efficient-similarity-search/)\n",
    "\n",
    "Vector Stores are databases that can efficiently store and retrieve embeddings.\n",
    "\n",
    "### Retrievers\n",
    "\n",
    "Retrievers are responsible for taking a query and returning relevant documents.\n",
    "\n",
    "### Tools\n",
    "\n",
    "LangChain Tools contain a description of the tool (to pass to the language model) as well as the implementation of the function to call. \n",
    "\n",
    "### ⛓️ Chains\n",
    "\n",
    "One point about LangChain Expression Language is that any two runnables can be \"chained\" together into sequences. The output of the previous runnable's ```.invoke()``` call is passed as input to the next runnable. This can be done using the pipe operator ( **|** ).\n",
    "\n",
    "### 🤖 Agents\n",
    "\n",
    "By themselves, language models can't take actions - they just output text. A big use case for LangChain is creating agents. Agents are systems that use LLMs as reasoning engines to determine which actions to take and the inputs necessary to perform the action. After executing actions, the results can be fed back into the LLM to determine whether more actions are needed, or whether it is okay to finish."
   ]
  },
  {
   "cell_type": "markdown",
   "id": "c242d959-b0f6-4767-87a6-03edc7eb8b01",
   "metadata": {},
   "source": [
    "## Usage"
   ]
  },
  {
   "cell_type": "code",
   "execution_count": 3,
   "id": "ae4bc1ab-c8f4-4a96-92bc-6bcd31563fd5",
   "metadata": {},
   "outputs": [],
   "source": [
    "from langchain_openai import ChatOpenAI\n",
    "llm = ChatOpenAI(openai_api_key=keys['OpenAI']) #, temperature=.7)"
   ]
  },
  {
   "cell_type": "code",
   "execution_count": 4,
   "id": "2f7fda21-c744-416f-a792-68016fac7706",
   "metadata": {},
   "outputs": [
    {
     "name": "stdout",
     "output_type": "stream",
     "text": [
      "The Gen AI framework landscape encompasses a diverse range of tools, platforms, and technologies designed to enable the development of artificial intelligence systems that can adapt, evolve, and learn like humans. These frameworks often leverage advanced machine learning algorithms, deep learning techniques, and neural networks to simulate human-like cognitive abilities such as reasoning, problem-solving, and decision-making. Some popular Gen AI frameworks include TensorFlow, PyTorch, and Keras, which provide developers with the tools and resources needed to create intelligent systems that can perform complex tasks and continuously improve over time. This dynamic and rapidly evolving field is driving innovation in various industries, from healthcare to finance to entertainment.\n"
     ]
    }
   ],
   "source": [
    "print( llm.invoke(\"In less than 100 words, tell me more about the Gen AI framework landscape.\").content )"
   ]
  },
  {
   "cell_type": "markdown",
   "id": "88b272c5-d094-4c42-9b1d-3ddb7cc44930",
   "metadata": {},
   "source": [
    "### Few-shot prompting"
   ]
  },
  {
   "cell_type": "code",
   "execution_count": 5,
   "id": "99b0935b",
   "metadata": {},
   "outputs": [],
   "source": [
    "from langchain.schema import HumanMessage, SystemMessage, AIMessage\n",
    "from langchain_ollama import ChatOllama"
   ]
  },
  {
   "cell_type": "code",
   "execution_count": 6,
   "id": "a65127d7-5f0a-4a13-8ea5-921162b29855",
   "metadata": {},
   "outputs": [],
   "source": [
    "chat_openai = ChatOpenAI(openai_api_key=keys['OpenAI'])\n",
    "chat_ollama = ChatOllama(model=\"llama3.2\")"
   ]
  },
  {
   "cell_type": "code",
   "execution_count": 7,
   "id": "aaf36cd9",
   "metadata": {},
   "outputs": [],
   "source": [
    "from langchain.prompts.example_selector import SemanticSimilarityExampleSelector\n",
    "from langchain.prompts import PromptTemplate, FewShotPromptTemplate\n",
    "from langchain_ollama import OllamaEmbeddings\n",
    "from langchain.vectorstores import Chroma"
   ]
  },
  {
   "cell_type": "code",
   "execution_count": 8,
   "id": "d892d2e6-d9a5-4490-bd7b-40e0fba09e60",
   "metadata": {},
   "outputs": [],
   "source": [
    "example_prompt = PromptTemplate(\n",
    "    input_variables=[\"input\", \"output\"],\n",
    "    template=\"Example Input: {input}\\nExample Output: {output}\",\n",
    ")\n",
    "\n",
    "examples = [\n",
    "    {\"input\": \"blue\", \"output\": \"sky\"},\n",
    "    {\"input\": \"green\", \"output\": \"grass\"},\n",
    "    {\"input\": \"red\", \"output\": \"tomato\"},\n",
    "    {\"input\": \"orange\", \"output\": \"basketball\"},\n",
    "    {\"input\": \"yellow\", \"output\": \"banana\"},\n",
    "]"
   ]
  },
  {
   "cell_type": "code",
   "execution_count": 9,
   "id": "12b4798b",
   "metadata": {},
   "outputs": [],
   "source": [
    "example_selector = SemanticSimilarityExampleSelector.from_examples(\n",
    "    examples, \n",
    "    OllamaEmbeddings(model=\"nomic-embed-text\"),\n",
    "    Chroma, \n",
    "    k=2\n",
    ")"
   ]
  },
  {
   "cell_type": "code",
   "execution_count": 10,
   "id": "2cf30107",
   "metadata": {},
   "outputs": [],
   "source": [
    "similar_prompt = FewShotPromptTemplate(\n",
    "    example_selector=example_selector,\n",
    "    example_prompt=example_prompt,\n",
    "    prefix=\"Find an object that often matches the provided color.\",\n",
    "    suffix=\"Input: {noun}\\nOutput:\",\n",
    "    input_variables=[\"noun\"],\n",
    ")"
   ]
  },
  {
   "cell_type": "code",
   "execution_count": 11,
   "id": "369442bb",
   "metadata": {},
   "outputs": [
    {
     "name": "stdout",
     "output_type": "stream",
     "text": [
      "Find an object that often matches the provided color.\n",
      "\n",
      "Example Input: blue\n",
      "Example Output: sky\n",
      "\n",
      "Example Input: orange\n",
      "Example Output: basketball\n",
      "\n",
      "Input: purple\n",
      "Output:\n"
     ]
    }
   ],
   "source": [
    "my_noun = \"purple\"\n",
    "print(similar_prompt.format(noun=my_noun))"
   ]
  },
  {
   "cell_type": "code",
   "execution_count": 12,
   "id": "9c29d741-aa05-486c-be99-580d4db7a071",
   "metadata": {},
   "outputs": [
    {
     "name": "stdout",
     "output_type": "stream",
     "text": [
      "lavender\n"
     ]
    }
   ],
   "source": [
    "print (chat_openai.invoke(similar_prompt.format(noun=my_noun)).content)"
   ]
  },
  {
   "cell_type": "code",
   "execution_count": 13,
   "id": "9bb910f2",
   "metadata": {},
   "outputs": [
    {
     "name": "stdout",
     "output_type": "stream",
     "text": [
      "Lambs\n"
     ]
    }
   ],
   "source": [
    "print (chat_ollama.invoke(similar_prompt.format(noun=my_noun)).content)"
   ]
  },
  {
   "cell_type": "markdown",
   "id": "576d0138-a9fd-4acc-8d5e-1db160ed89f9",
   "metadata": {},
   "source": [
    "### Structured Output"
   ]
  },
  {
   "cell_type": "code",
   "execution_count": 14,
   "id": "58353756",
   "metadata": {},
   "outputs": [
    {
     "name": "stdout",
     "output_type": "stream",
     "text": [
      "The output should be a markdown code snippet formatted in the following schema, including the leading and trailing \"```json\" and \"```\":\n",
      "\n",
      "```json\n",
      "{\n",
      "\t\"good_string\": string  // This is your response, a reformatted response.\n",
      "}\n",
      "```\n"
     ]
    }
   ],
   "source": [
    "from langchain.output_parsers import ResponseSchema, StructuredOutputParser\n",
    "\n",
    "response_schemas = [\n",
    "    ResponseSchema(name=\"good_string\", description=\"This is your response, a reformatted response.\")\n",
    "]\n",
    "\n",
    "output_parser = StructuredOutputParser.from_response_schemas(response_schemas)\n",
    "\n",
    "format_instructions = output_parser.get_format_instructions()\n",
    "\n",
    "print (format_instructions)"
   ]
  },
  {
   "cell_type": "code",
   "execution_count": 15,
   "id": "9aaae5be",
   "metadata": {},
   "outputs": [],
   "source": [
    "template = \"\"\"\n",
    "You will be given a poorly formatted string from a user.\n",
    "Reformat it and make sure all the words are spelled correctly\n",
    "\n",
    "{format_instructions}\n",
    "\n",
    "% USER INPUT:\n",
    "{user_input}\n",
    "\n",
    "YOUR RESPONSE:\n",
    "\"\"\"\n",
    "\n",
    "prompt = PromptTemplate(\n",
    "    input_variables=[\"user_input\"],\n",
    "    partial_variables={\"format_instructions\": format_instructions},\n",
    "    template=template\n",
    ")"
   ]
  },
  {
   "cell_type": "code",
   "execution_count": 16,
   "id": "1372cec2-eb5f-4337-8563-9b0ef9ae4c3f",
   "metadata": {},
   "outputs": [],
   "source": [
    "chat_ollama = ChatOllama(model=\"llama3.2\")\n",
    "chain = prompt | chat_ollama | output_parser"
   ]
  },
  {
   "cell_type": "code",
   "execution_count": 17,
   "id": "b083ade1-aef4-4483-9558-f9b18b38ed5e",
   "metadata": {},
   "outputs": [
    {
     "name": "stdout",
     "output_type": "stream",
     "text": [
      "{'good_string': 'Welcome to California!'}\n"
     ]
    }
   ],
   "source": [
    "print (chain.invoke({\"user_input\": \"welcom to califonya!\"}))"
   ]
  },
  {
   "cell_type": "markdown",
   "id": "0cc3d9af-f176-4e98-9780-5d6a29b3bcba",
   "metadata": {},
   "source": [
    "### Configurable Fields"
   ]
  },
  {
   "cell_type": "code",
   "execution_count": 18,
   "id": "276ab88e-3cb4-4f26-bf32-de8704e60423",
   "metadata": {},
   "outputs": [
    {
     "name": "stdout",
     "output_type": "stream",
     "text": [
      "max_tokens_20:  Chess is a strategic board game that has been played for centuries. It is believed to have originated in\n",
      "max_tokens_200:  Chess is a strategic board game that has been played for centuries. It is believed to have originated in India during the 6th century and has since spread to become a popular game played worldwide. The objective of the game is to checkmate the opponent's king, which means putting the king in a position where it cannot escape capture. Chess is played on an 8x8 board with 16 pieces for each player, including pawns, rooks, knights, bishops, a queen, and a king. It is a game of skill, strategy, and foresight, requiring players to anticipate their opponent's moves and plan several steps ahead. Chess is often used as a tool to improve critical thinking, problem-solving, and decision-making skills.\n"
     ]
    }
   ],
   "source": [
    "from langchain_core.runnables import ConfigurableField\n",
    "model = ChatOpenAI(openai_api_key=keys['OpenAI'], max_tokens=20).configurable_fields(\n",
    "    max_tokens=ConfigurableField(\n",
    "        id=\"output_token_number\",\n",
    "        name=\"Max tokens in the output\",\n",
    "        description=\"The maximum number of tokens in the output\",\n",
    "    )\n",
    ")\n",
    "\n",
    "# max_tokens = 20\n",
    "print(\n",
    "    \"max_tokens_20: \",\n",
    "    model.invoke(\"tell me something about chess\").content\n",
    ")\n",
    "\n",
    "# max_tokens = 200\n",
    "print(\"max_tokens_200: \", model.with_config(\n",
    "    configurable={\"output_token_number\": 200}\n",
    "    ).invoke(\"tell me something about chess\").content\n",
    ")\n"
   ]
  },
  {
   "cell_type": "markdown",
   "id": "fbabe350-0ed9-43fe-bd2b-4cbe02e64c56",
   "metadata": {},
   "source": [
    "### Chain"
   ]
  },
  {
   "cell_type": "code",
   "execution_count": 19,
   "id": "306f0e02-e3a9-4ef9-8304-20164541c484",
   "metadata": {},
   "outputs": [],
   "source": [
    "from langchain_core.output_parsers import StrOutputParser\n",
    "chat_ollama = ChatOllama(model=\"llama3.2\")"
   ]
  },
  {
   "cell_type": "code",
   "execution_count": 20,
   "id": "43d4494a",
   "metadata": {},
   "outputs": [],
   "source": [
    "template = \"\"\"Your role is to return a dish typical of the location (city or region) chosen by the user. Return the name of the dish only and nothing else.  \n",
    "Location: {location}\n",
    "Dish: \n",
    "\"\"\"\n",
    "part1 = PromptTemplate(input_variables=[\"location\"], template=template) | chat_ollama | StrOutputParser()"
   ]
  },
  {
   "cell_type": "code",
   "execution_count": 21,
   "id": "b6c8e00f",
   "metadata": {},
   "outputs": [],
   "source": [
    "template = \"\"\"Given a dish, give a short and simple recipe on how to make that dish at home.\n",
    "Dish: {dish}\n",
    "Recipe: \n",
    "\"\"\"\n",
    "part2 = PromptTemplate(input_variables=[\"dish\"], template=template) | chat_ollama | StrOutputParser()"
   ]
  },
  {
   "cell_type": "code",
   "execution_count": 22,
   "id": "3c66e8c0-ad44-441e-a68c-cab8c77c8a98",
   "metadata": {},
   "outputs": [],
   "source": [
    "from langchain.schema.runnable import RunnablePassthrough\n",
    "chain = (\n",
    "    {\"dish\": part1} \n",
    "    | RunnablePassthrough.assign(recipe=part2)\n",
    ")"
   ]
  },
  {
   "cell_type": "code",
   "execution_count": 23,
   "id": "ae959f24-4ccb-4720-9e1f-c18af44707c0",
   "metadata": {},
   "outputs": [],
   "source": [
    "result = chain.invoke({\"location\": \"Munich, Germany\"})"
   ]
  },
  {
   "cell_type": "code",
   "execution_count": 24,
   "id": "4d941a3e-c0f9-44e5-bed5-931a7530af0d",
   "metadata": {},
   "outputs": [
    {
     "name": "stdout",
     "output_type": "stream",
     "text": [
      "Output:\n",
      "_____\n",
      "Dish:\n",
      "Weisswurst\n",
      "\n",
      "Recipe:\n",
      "Weisswurst is a traditional German dish! Here's a simplified recipe to make\n",
      "Weisswurst at home:\n",
      "\n",
      "Ingredients:\n",
      "\n",
      "* 1 lb (450g) veal sausage meat (or pork sausage meat as a substitute) * 2 eggs\n",
      "* 1/4 cup (60ml) milk * 1 tsp (5g) salt * 1/4 tsp (1.25g) white pepper * 1 tbsp\n",
      "(15g) butter, melted * Weisswurst seasoning mix (or use a combination of nutmeg,\n",
      "cardamom, and coriander) * Pretzel rods or soft pretzels for serving\n",
      "\n",
      "Instructions:\n",
      "\n",
      "1. In a large bowl, combine the sausage meat, eggs, milk, salt, white pepper,\n",
      "and melted butter. Mix well with your hands until just combined. 2. Cover the\n",
      "mixture and refrigerate for at least 30 minutes to allow the flavors to meld. 3.\n",
      "Using a sausage stuffer or a piping bag, fill natural casings (you can purchase\n",
      "these at most butcher shops or online) with the meat mixture. Twist the filled\n",
      "casings into individual Weisswurst sausages. 4. Cook the Weisswurst in simmering\n",
      "water for 10-15 minutes, or until cooked through. 5. Remove the Weisswurst from\n",
      "the water and serve with a traditional Weissbier (wheat beer) and a side of soft\n",
      "pretzels.\n",
      "\n",
      "Note: Traditional Weisswurst is made with natural casings, which are not easily\n",
      "found in most supermarkets. If you can't find them, you can still make the dish\n",
      "using a sausage stuffer or piping bag to create individual sausages.\n",
      "\n"
     ]
    }
   ],
   "source": [
    "import textwrap\n",
    "wrap_width = 80\n",
    "print(\"Output:\\n_____\")\n",
    "for key, value in result.items():\n",
    "    print(f\"{key.capitalize()}:\")\n",
    "    paragraphs = value.split('\\n\\n')\n",
    "    for paragraph in paragraphs:\n",
    "        wrapped_paragraph = textwrap.fill(paragraph, width=wrap_width)\n",
    "        print(wrapped_paragraph)\n",
    "        print()"
   ]
  },
  {
   "cell_type": "markdown",
   "id": "74c6b829-bfa7-407e-a225-5f8419a4b74e",
   "metadata": {},
   "source": [
    "### Tools"
   ]
  },
  {
   "cell_type": "code",
   "execution_count": 25,
   "id": "c52e4276-e21c-424e-b828-d44efb1fe08b",
   "metadata": {},
   "outputs": [],
   "source": [
    "import requests\n",
    "from langchain_core.tools import tool\n",
    "\n",
    "@tool\n",
    "def convert(currency_in: str, currency_out: str, amount: float) -> float:\n",
    "    \"\"\"Convert an amount between two currencies.\n",
    "    Args:\n",
    "      currency_in (str): The current currency eg USD\n",
    "      currency_out (str): The target currency eg EUR\n",
    "      amount (float): The amount to convert.\n",
    "    \"\"\"\n",
    "    url = 'https://v6.exchangerate-api.com/v6/%s/pair/%s/%s'%(keys['ExchangeRate'],currency_in,currency_out)\n",
    "    response = requests.get(url)\n",
    "    data = response.json()\n",
    "    return json.dumps(float(amount)*data['conversion_rate'])"
   ]
  },
  {
   "cell_type": "code",
   "execution_count": 26,
   "id": "ceb3eb49-80b4-4be5-bf2d-c5572921d3cb",
   "metadata": {},
   "outputs": [],
   "source": [
    "messages= [\n",
    "    SystemMessage(content=\"You are an helpful AI bot specialized in converting currencies. You are able to use the given tool to make some api call.\"),\n",
    "    HumanMessage(content=\"How much is $100 in euros?\")\n",
    "]"
   ]
  },
  {
   "cell_type": "code",
   "execution_count": 27,
   "id": "1debd14d-eb0e-404a-baac-7796ab3e1999",
   "metadata": {},
   "outputs": [],
   "source": [
    "chat_ollama = ChatOllama(model=\"llama3.2\")\n",
    "chat_ollama_with_tools = chat_ollama.bind_tools([convert])\n",
    "output = chat_ollama_with_tools.invoke(messages)\n",
    "messages.append(output)"
   ]
  },
  {
   "cell_type": "code",
   "execution_count": 28,
   "id": "fe4d3612-b5ce-4034-8c7e-9ee17bbad876",
   "metadata": {},
   "outputs": [],
   "source": [
    "for tool in output.tool_calls:\n",
    "    selected_tool = {\"convert\": convert}[tool[\"name\"].lower()]\n",
    "    resp = selected_tool.invoke(tool[\"args\"])\n",
    "    messages.append({\"role\": \"tool\", \"content\":resp, \"tool_call_id\": tool[\"id\"]})"
   ]
  },
  {
   "cell_type": "code",
   "execution_count": 29,
   "id": "41e56c98-c54f-4e69-8217-0acc1147c7f2",
   "metadata": {},
   "outputs": [
    {
     "name": "stdout",
     "output_type": "stream",
     "text": [
      "The value of $100 is approximately €85.55.\n"
     ]
    }
   ],
   "source": [
    "output = chat_ollama_with_tools.invoke(messages)\n",
    "print (output.content)"
   ]
  },
  {
   "cell_type": "markdown",
   "id": "0e4b8e35-56c4-4b21-be93-be794b69f561",
   "metadata": {},
   "source": [
    "### Agent"
   ]
  },
  {
   "cell_type": "code",
   "execution_count": 30,
   "id": "e3ffd77e-8867-4f0a-b2ca-fa5f0844ad41",
   "metadata": {},
   "outputs": [],
   "source": [
    "from langchain_community.utilities import SerpAPIWrapper\n",
    "from langchain_google_community import GooglePlacesAPIWrapper\n",
    "\n",
    "llm = ChatOpenAI(temperature=0, api_key=keys['OpenAI'])\n",
    "search = SerpAPIWrapper(serpapi_api_key=keys['SerpApi'])\n",
    "places = GooglePlacesAPIWrapper(gplaces_api_key=keys['GoogleMaps'])"
   ]
  },
  {
   "cell_type": "code",
   "execution_count": 31,
   "id": "885a15b1-c09e-40dc-be36-5adacc52fcd3",
   "metadata": {},
   "outputs": [],
   "source": [
    "from langchain_core.tools import tool\n",
    "\n",
    "@tool\n",
    "def SearchWeb(question):\n",
    "    \"\"\"Useful for when you need to answer questions about current events or the current state of the world. You should ask targeted questions. Do NOT use this tool if you already have enough information to answer the question or if you've already searched once.\"\"\"\n",
    "    return search.run(question)"
   ]
  },
  {
   "cell_type": "code",
   "execution_count": 32,
   "id": "1d3c6765-0b5c-4ca8-894e-6403d3c3c953",
   "metadata": {},
   "outputs": [],
   "source": [
    "@tool\n",
    "def GooglePlaces(location):\n",
    "    \"\"\"Finds information about places. The input MUST include the location in the format 'query - location', for example: 'Italian restaurants - Rome, Italy' or 'coffee shops - Times Square, New York City, NY'. Do NOT rely on your current location; always specify the place.\"\"\"\n",
    "    return places.run(location)"
   ]
  },
  {
   "cell_type": "code",
   "execution_count": 33,
   "id": "bde11fb1-5551-418c-a2aa-cff01bd16790",
   "metadata": {},
   "outputs": [],
   "source": [
    "tools = [SearchWeb, GooglePlaces]"
   ]
  },
  {
   "cell_type": "code",
   "execution_count": 34,
   "id": "2eefdc8a-1927-45d8-bcea-38835a641211",
   "metadata": {},
   "outputs": [],
   "source": [
    "from langgraph.prebuilt import create_react_agent\n",
    "graph = create_react_agent(model=llm, tools=tools)"
   ]
  },
  {
   "cell_type": "code",
   "execution_count": 35,
   "id": "dd9716f9-1190-4dea-bba8-428f07788cb0",
   "metadata": {},
   "outputs": [
    {
     "data": {
      "image/png": "[encoded data removed]",
      "text/plain": [
       "<IPython.core.display.Image object>"
      ]
     },
     "metadata": {},
     "output_type": "display_data"
    }
   ],
   "source": [
    "from IPython.display import Image, display, Markdown\n",
    "\n",
    "display(Image(graph.get_graph().draw_mermaid_png()))"
   ]
  },
  {
   "cell_type": "code",
   "execution_count": 36,
   "id": "267bf310-8ccd-4bb8-aa53-1aaa8080a297",
   "metadata": {},
   "outputs": [],
   "source": [
    "def print_stream(stream):\n",
    "    for s in stream:\n",
    "        message = s[\"messages\"][-1]\n",
    "        if isinstance(message, tuple):\n",
    "            print(message)\n",
    "        else:\n",
    "            message.pretty_print()"
   ]
  },
  {
   "cell_type": "code",
   "execution_count": 37,
   "id": "d62f2291-db61-4636-864d-fd65ce7d2a85",
   "metadata": {},
   "outputs": [],
   "source": [
    "# Example query\n",
    "question = \"Where could I eat a nice pizza close to the Buttes Chaumont in Paris? (limited to 10 addresses sorted by reputation)\"\n",
    "inputs = {\"messages\": [(\"user\", \"%s\"%question)]}"
   ]
  },
  {
   "cell_type": "code",
   "execution_count": 38,
   "id": "8766fa68-536d-4cc6-9101-fb76bdd144be",
   "metadata": {},
   "outputs": [
    {
     "name": "stdout",
     "output_type": "stream",
     "text": [
      "================================\u001b[1m Human Message \u001b[0m=================================\n",
      "\n",
      "Where could I eat a nice pizza close to the Buttes Chaumont in Paris? (limited to 10 addresses sorted by reputation)\n",
      "==================================\u001b[1m Ai Message \u001b[0m==================================\n",
      "Tool Calls:\n",
      "  GooglePlaces (call_mdDlfQJNwTHDC7J1rSLIGMzn)\n",
      " Call ID: call_mdDlfQJNwTHDC7J1rSLIGMzn\n",
      "  Args:\n",
      "    location: pizza restaurants - Buttes Chaumont, Paris\n",
      "    limit: 10\n",
      "    sort_by: reputation\n",
      "=================================\u001b[1m Tool Message \u001b[0m=================================\n",
      "Name: GooglePlaces\n",
      "\n",
      "1. BOTZA - Paris 19\n",
      "Address: 86 Rue Botzaris, 75019 Paris, France\n",
      "Google place ID: ChIJZyteKvtt5kcRs2-itzAoD-w\n",
      "Phone: 01 83 89 31 13\n",
      "Website: http://botza.fr/\n",
      "\n",
      "\n",
      "2. Casa di Marco Paris\n",
      "Address: 50 Av. Simon Bolivar, 75019 Paris, France\n",
      "Google place ID: ChIJ42dzeABt5kcRZEPw9aReTF4\n",
      "Phone: 09 56 00 99 18\n",
      "Website: https://casa-di-marco.com/\n",
      "\n",
      "\n",
      "3. Da Paride\n",
      "Address: 41 Av. Secrétan, 75019 Paris, France\n",
      "Google place ID: ChIJH6llttRt5kcRBYgfJjfwOZc\n",
      "Phone: 07 65 18 28 78\n",
      "Website: http://www.daparide.com/\n",
      "\n",
      "\n",
      "4. Yum's Paris - Restaurant\n",
      "Address: 2 Rue des Alouettes, 75019 Paris, France\n",
      "Google place ID: ChIJDe39wL1t5kcRDJyjtAUOdyE\n",
      "Phone: 09 52 39 90 14\n",
      "Website: https://linktr.ee/yumsparis\n",
      "\n",
      "\n",
      "5. Bistro Gusto\n",
      "Address: 98 Quai de la Loire, 75019 Paris, France\n",
      "Google place ID: ChIJscfV0ctt5kcRFQV-X8fBZ3s\n",
      "Phone: 01 72 34 50 84\n",
      "Website: https://bistro-gusto.fr/\n",
      "\n",
      "\n",
      "6. Rosa Bonheur Buttes Chaumont\n",
      "Address: 2 Av. de la Cascade, 75019 Paris, France\n",
      "Google place ID: ChIJJV7aHIAN5kcRNcr8CD6974k\n",
      "Phone: 01 42 00 00 45\n",
      "Website: http://rosabonheur.fr/\n",
      "\n",
      "\n",
      "7. Pizza del parco\n",
      "Address: 1 Rue de l'Encheval, 75019 Paris, France\n",
      "Google place ID: ChIJm3XzH8Ft5kcRAY68WCkEXKQ\n",
      "Phone: 09 83 77 04 01\n",
      "Website: https://pizza-del-parco-paris-19.fr/\n",
      "\n",
      "\n",
      "8. Allo Pizza\n",
      "Address: 60 Av. Simon Bolivar, 75019 Paris, France\n",
      "Google place ID: ChIJ_SfAdt1t5kcRRKSGfqObsmo\n",
      "Phone: 01 42 08 42 80\n",
      "Website: https://allopizza-paris.fr/\n",
      "\n",
      "\n",
      "9. Mamagaya Pizza\n",
      "Address: 132 Bd de la Villette, 75019 Paris, France\n",
      "Google place ID: ChIJUSO0sstt5kcRHKpA4yUUeP4\n",
      "Phone: 06 09 40 96 89\n",
      "Website: https://www.mamagaya-pizza.fr/\n",
      "\n",
      "\n",
      "10. Au Comptoir Du Temps\n",
      "Address: 35 Av. Corentin Cariou, 75019 Paris, France\n",
      "Google place ID: ChIJKXr6GzNs5kcRgsbEKogs7kU\n",
      "Phone: 01 77 10 03 34\n",
      "Website: https://wiicmenu-qrcode.com/app/restaurantWebSite.html?resto=190\n",
      "\n",
      "\n",
      "11. Piatto\n",
      "Address: 32 Av. de Flandre, 75019 Paris, France\n",
      "Google place ID: ChIJgU8dA1Nt5kcRHDZVsy4YC5w\n",
      "Phone: 01 70 69 24 30\n",
      "Website: Unknown\n",
      "\n",
      "\n",
      "12. Simonetta\n",
      "Address: 32 Quai de la Marne, 75019 Paris, France\n",
      "Google place ID: ChIJR4qlfc5t5kcRtSNB0k7Aqvw\n",
      "Phone: 01 42 81 32 63\n",
      "Website: http://simonetta-paris.com/\n",
      "\n",
      "\n",
      "13. Wanted paris\n",
      "Address: 46Bis Rue de Meaux, 75019 Paris, France\n",
      "Google place ID: ChIJW2uQOdlt5kcR1eTky8m9hrs\n",
      "Phone: 01 40 18 33 72\n",
      "Website: http://wanted-paris.com/\n",
      "\n",
      "\n",
      "14. Les Comédiens\n",
      "Address: 33 Rue des Alouettes, 75019 Paris, France\n",
      "Google place ID: ChIJd0N31sNt5kcRb6qWxKfFmqw\n",
      "Phone: 01 42 39 14 13\n",
      "Website: https://lescomediensparis.com/\n",
      "\n",
      "\n",
      "15. La Piccola Sicilia\n",
      "Address: 79 Av. Jean Jaurès, 75019 Paris, France\n",
      "Google place ID: ChIJaRU6kNpt5kcRih7z5jXfYGw\n",
      "Phone: 01 42 38 99 90\n",
      "Website: https://www.ubereats.com/fr/store/la-piccola-sicilia/q6eIoosWXMOUkIxXH2jpUA\n",
      "\n",
      "\n",
      "16. Casa Giorgio\n",
      "Address: 10 Rue du Général Brunet, 75019 Paris, France\n",
      "Google place ID: ChIJC1YRrcBt5kcRhyyIAl3bjh4\n",
      "Phone: 01 40 40 03 30\n",
      "Website: https://casagiorgio.net/\n",
      "\n",
      "\n",
      "17. LA PLACE ITALIENNE by DaFaustino Paris 19\n",
      "Address: 5 Av. Corentin Cariou, 75019 Paris, France\n",
      "Google place ID: ChIJS-VdRc1t5kcRaRQZnrPJ6v8\n",
      "Phone: 01 44 52 91 31\n",
      "Website: https://dafaustino.com/la-place-italienne/\n",
      "\n",
      "\n",
      "18. Pizzwich\n",
      "Address: 67 Rue de l'Ourcq, 75019 Paris, France\n",
      "Google place ID: ChIJHRQyTxht5kcR3VKrOEuNrJE\n",
      "Phone: 09 87 08 00 26\n",
      "Website: https://m.facebook.com/Pizzwich-497227484015138/?ref=py_c\n",
      "\n",
      "\n",
      "19. Pizza Center Milano Jaures\n",
      "Address: 11 Av. Jean Jaurès, 75019 Paris, France\n",
      "Google place ID: ChIJb40vnKVt5kcRtv_wYtKx1-E\n",
      "Phone: 07 64 68 96 91\n",
      "Website: http://www.pizzacentermilano-paris19.com/\n",
      "\n",
      "\n",
      "20. Buono Sano Bello\n",
      "Address: 14 Rue de la Villette, 75019 Paris, France\n",
      "Google place ID: ChIJ_aPYd-pt5kcRW568PKcFoMc\n",
      "Phone: 01 74 30 63 22\n",
      "Website: https://buonosanobello.fr/\n",
      "\n",
      "\n",
      "==================================\u001b[1m Ai Message \u001b[0m==================================\n",
      "\n",
      "Here are 10 pizza restaurants close to the Buttes Chaumont in Paris, sorted by reputation:\n",
      "\n",
      "1. **BOTZA - Paris 19**\n",
      "   - Address: 86 Rue Botzaris, 75019 Paris, France\n",
      "   - Phone: 01 83 89 31 13\n",
      "   - Website: [botza.fr](http://botza.fr/)\n",
      "\n",
      "2. **Casa di Marco Paris**\n",
      "   - Address: 50 Av. Simon Bolivar, 75019 Paris, France\n",
      "   - Phone: 09 56 00 99 18\n",
      "   - Website: [casa-di-marco.com](https://casa-di-marco.com/)\n",
      "\n",
      "3. **Da Paride**\n",
      "   - Address: 41 Av. Secrétan, 75019 Paris, France\n",
      "   - Phone: 07 65 18 28 78\n",
      "   - Website: [daparide.com](http://www.daparide.com/)\n",
      "\n",
      "4. **Yum's Paris - Restaurant**\n",
      "   - Address: 2 Rue des Alouettes, 75019 Paris, France\n",
      "   - Phone: 09 52 39 90 14\n",
      "   - Website: [linktr.ee/yumsparis](https://linktr.ee/yumsparis)\n",
      "\n",
      "5. **Bistro Gusto**\n",
      "   - Address: 98 Quai de la Loire, 75019 Paris, France\n",
      "   - Phone: 01 72 34 50 84\n",
      "   - Website: [bistro-gusto.fr](https://bistro-gusto.fr/)\n",
      "\n",
      "6. **Rosa Bonheur Buttes Chaumont**\n",
      "   - Address: 2 Av. de la Cascade, 75019 Paris, France\n",
      "   - Phone: 01 42 00 00 45\n",
      "   - Website: [rosabonheur.fr](http://rosabonheur.fr/)\n",
      "\n",
      "7. **Pizza del parco**\n",
      "   - Address: 1 Rue de l'Encheval, 75019 Paris, France\n",
      "   - Phone: 09 83 77 04 01\n",
      "   - Website: [pizza-del-parco-paris-19.fr](https://pizza-del-parco-paris-19.fr/)\n",
      "\n",
      "8. **Allo Pizza**\n",
      "   - Address: 60 Av. Simon Bolivar, 75019 Paris, France\n",
      "   - Phone: 01 42 08 42 80\n",
      "   - Website: [allopizza-paris.fr](https://allopizza-paris.fr/)\n",
      "\n",
      "9. **Mamagaya Pizza**\n",
      "   - Address: 132 Bd de la Villette, 75019 Paris, France\n",
      "   - Phone: 06 09 40 96 89\n",
      "   - Website: [mamagaya-pizza.fr](https://www.mamagaya-pizza.fr/)\n",
      "\n",
      "10. **Au Comptoir Du Temps**\n",
      "    - Address: 35 Av. Corentin Cariou, 75019 Paris, France\n",
      "    - Phone: 01 77 10 03 34\n",
      "    - Website: [wiicmenu-qrcode.com](https://wiicmenu-qrcode.com/app/restaurantWebSite.html?resto=190)\n"
     ]
    }
   ],
   "source": [
    "print_stream(graph.stream(inputs, stream_mode=\"values\"))"
   ]
  },
  {
   "cell_type": "markdown",
   "id": "34482454-441d-45ff-9b48-24c3272ddb10",
   "metadata": {},
   "source": [
    "## [LangSmith](https://smith.langchain.com)\n",
    "\n",
    "https://eu.smith.langchain.com"
   ]
  },
  {
   "cell_type": "code",
   "execution_count": 39,
   "id": "43195ff6-8bcf-41a4-9913-ba1026dca2dd",
   "metadata": {},
   "outputs": [],
   "source": [
    "import os"
   ]
  },
  {
   "cell_type": "code",
   "execution_count": 40,
   "id": "9b13548c-5120-4c2c-b15e-a5050d166fbf",
   "metadata": {},
   "outputs": [],
   "source": [
    "os.environ['LANGCHAIN_TRACING_V2']=\"true\"\n",
    "os.environ['LANGCHAIN_ENDPOINT']=\"https://eu.api.smith.langchain.com\"\n",
    "os.environ['LANGCHAIN_API_KEY']=keys['LangSmithEU']\n",
    "os.environ['LANGCHAIN_PROJECT']=\"randomstate42\""
   ]
  },
  {
   "cell_type": "code",
   "execution_count": 41,
   "id": "8ad2b0ac-8c23-497d-839e-feca02dee1ed",
   "metadata": {},
   "outputs": [
    {
     "data": {
      "text/plain": [
       "False"
      ]
     },
     "execution_count": 41,
     "metadata": {},
     "output_type": "execute_result"
    }
   ],
   "source": [
    "from langsmith import utils\n",
    "utils.tracing_is_enabled()"
   ]
  },
  {
   "cell_type": "markdown",
   "id": "f7f94b8f-d921-43d2-adfa-572171cde92e",
   "metadata": {},
   "source": [
    "## LangGraph"
   ]
  },
  {
   "cell_type": "markdown",
   "id": "c6661104-4d47-4b71-8694-e8ea37cf4395",
   "metadata": {},
   "source": [
    "At its core, LangGraph uses a directed graph structure to define the flow of your application:\n",
    "\n",
    "1. **State**\n",
    "\n",
    "State is the central concept in LangGraph. It represents all the information that flows through your application.\n",
    "\n",
    "The state is User defined, hence the fields should carefully be crafted to contain all data needed for decision-making process!\n",
    "\n",
    "2. **Nodes**\n",
    "\n",
    "Nodes represent individual processing steps.\n",
    "\n",
    "Nodes are *python functions*. \n",
    "\n",
    "Each node:\n",
    "\n",
    "- Takes the state as input\n",
    "- Performs some operation\n",
    "- Returns updates to the state\n",
    "\n",
    "For example, Nodes can contain:\n",
    "\n",
    "- LLM calls: Generate text or make decisions\n",
    "- Tool calls: Interact with external systems\n",
    "- Conditional logic: Determine next steps\n",
    "- Human intervention: Get input from users\n",
    "\n",
    "3. **Edges**\n",
    "\n",
    "Edges connect nodes and define the possible paths through your graph.\n",
    "\n",
    "Edges can be:\n",
    "\n",
    "- Direct: Always go from node A to node B\n",
    "- Conditional: Choose the next node based on the current state\n",
    "\n",
    "4. **StateGraph**\n",
    "\n",
    "The StateGraph is the container that holds your entire agent workflow."
   ]
  },
  {
   "cell_type": "code",
   "execution_count": 42,
   "id": "dab37cfc-898e-4bba-998d-b1734f10587c",
   "metadata": {},
   "outputs": [],
   "source": [
    "from typing import TypedDict, List, Dict, Any, Optional\n",
    "from langgraph.graph import StateGraph, START, END"
   ]
  },
  {
   "cell_type": "code",
   "execution_count": 43,
   "id": "6803f9bf-1735-4cf6-958d-d5e6c49f3960",
   "metadata": {},
   "outputs": [],
   "source": [
    "os.environ[\"OPENAI_API_KEY\"] = keys['OpenAI']\n",
    "model = ChatOpenAI(model=\"gpt-4o\", temperature=0)"
   ]
  },
  {
   "cell_type": "code",
   "execution_count": 44,
   "id": "34065387-d12d-407b-a51d-a9c8ae52eb86",
   "metadata": {},
   "outputs": [],
   "source": [
    "#Step 1: Define Our State\n",
    "\n",
    "class EmailState(TypedDict):\n",
    "    email: Dict[str, Any]           \n",
    "    is_spam: Optional[bool]         \n",
    "    spam_reason: Optional[str]      \n",
    "    email_category: Optional[str]   \n",
    "    draft_response: Optional[str]   \n",
    "    messages: List[Dict[str, Any]]  "
   ]
  },
  {
   "cell_type": "code",
   "execution_count": 45,
   "id": "2d49e9b7-34a9-4b69-beec-a28db2b401de",
   "metadata": {},
   "outputs": [],
   "source": [
    "#  Step 2: Define Our Nodes\n",
    "\n",
    "class EmailState(TypedDict):\n",
    "    email: Dict[str, Any]\n",
    "    is_spam: Optional[bool]\n",
    "    draft_response: Optional[str]\n",
    "    messages: List[Dict[str, Any]]\n",
    "\n",
    "# Define nodes\n",
    "def read_email(state: EmailState):\n",
    "    email = state[\"email\"]\n",
    "    print(f\"Alfred is processing an email from {email['sender']} with subject: {email['subject']}\")\n",
    "    return {}\n",
    "\n",
    "def classify_email(state: EmailState):\n",
    "    email = state[\"email\"]\n",
    "    \n",
    "    prompt = f\"\"\"\n",
    "As Alfred the butler of Mr wayne and it's SECRET identity Batman, analyze this email and determine if it is spam or legitimate and should be brought to Mr wayne's attention.\n",
    "\n",
    "Email:\n",
    "From: {email['sender']}\n",
    "Subject: {email['subject']}\n",
    "Body: {email['body']}\n",
    "\n",
    "First, determine if this email is spam.\n",
    "answer with SPAM or HAM if it's legitimate. Only reurn the answer\n",
    "Answer :\n",
    "    \"\"\"\n",
    "    messages = [HumanMessage(content=prompt)]\n",
    "    response = model.invoke(messages)\n",
    "    \n",
    "    response_text = response.content.lower()\n",
    "    print(response_text)\n",
    "    is_spam = \"spam\" in response_text and \"ham\" not in response_text\n",
    "    \n",
    "    if not is_spam:\n",
    "        new_messages = state.get(\"messages\", []) + [\n",
    "            {\"role\": \"user\", \"content\": prompt},\n",
    "            {\"role\": \"assistant\", \"content\": response.content}\n",
    "        ]\n",
    "    else :\n",
    "        new_messages = state.get(\"messages\", [])\n",
    "    \n",
    "    return {\n",
    "        \"is_spam\": is_spam,\n",
    "        \"messages\": new_messages\n",
    "    }\n",
    "\n",
    "def handle_spam(state: EmailState):\n",
    "    print(f\"Alfred has marked the email as spam.\")\n",
    "    print(\"The email has been moved to the spam folder.\")\n",
    "    return {}\n",
    "\n",
    "def drafting_response(state: EmailState):\n",
    "    email = state[\"email\"]\n",
    "    \n",
    "    prompt = f\"\"\"\n",
    "As Alfred the butler, draft a polite preliminary response to this email.\n",
    "\n",
    "Email:\n",
    "From: {email['sender']}\n",
    "Subject: {email['subject']}\n",
    "Body: {email['body']}\n",
    "\n",
    "Draft a brief, professional response that Mr. Wayne can review and personalize before sending.\n",
    "    \"\"\"\n",
    "    \n",
    "    messages = [HumanMessage(content=prompt)]\n",
    "    response = model.invoke(messages)\n",
    "    \n",
    "    new_messages = state.get(\"messages\", []) + [\n",
    "        {\"role\": \"user\", \"content\": prompt},\n",
    "        {\"role\": \"assistant\", \"content\": response.content}\n",
    "    ]\n",
    "    \n",
    "    return {\n",
    "        \"draft_response\": response.content,\n",
    "        \"messages\": new_messages\n",
    "    }\n",
    "\n",
    "def notify_mr_wayne(state: EmailState):\n",
    "    email = state[\"email\"]\n",
    "    \n",
    "    print(\"\\n\" + \"=\"*50)\n",
    "    print(f\"Sir, you've received an email from {email['sender']}.\")\n",
    "    print(f\"Subject: {email['subject']}\")\n",
    "    print(\"\\nI've prepared a draft response for your review:\")\n",
    "    print(\"-\"*50)\n",
    "    print(state[\"draft_response\"])\n",
    "    print(\"=\"*50 + \"\\n\")\n",
    "    \n",
    "    return {}\n",
    "\n",
    "# Define routing logic\n",
    "def route_email(state: EmailState) -> str:\n",
    "    if state[\"is_spam\"]:\n",
    "        return \"spam\"\n",
    "    else:\n",
    "        return \"legitimate\""
   ]
  },
  {
   "cell_type": "code",
   "execution_count": 46,
   "id": "f33dbc3f-1273-4b58-9ddb-8e3af5e9220e",
   "metadata": {},
   "outputs": [
    {
     "data": {
      "text/plain": [
       "<langgraph.graph.state.StateGraph at 0x7ce0881748f0>"
      ]
     },
     "execution_count": 46,
     "metadata": {},
     "output_type": "execute_result"
    }
   ],
   "source": [
    "# Create the graph\n",
    "email_graph = StateGraph(EmailState)\n",
    "\n",
    "# Add nodes\n",
    "email_graph.add_node(\"read_email\", read_email) # the read_email node executes the read_mail function\n",
    "email_graph.add_node(\"classify_email\", classify_email) # the classify_email node will execute the classify_email function\n",
    "email_graph.add_node(\"handle_spam\", handle_spam) #same logic \n",
    "email_graph.add_node(\"drafting_response\", drafting_response) #same logic\n",
    "email_graph.add_node(\"notify_mr_wayne\", notify_mr_wayne) # same logic"
   ]
  },
  {
   "cell_type": "code",
   "execution_count": 47,
   "id": "b32ab157-7357-4e43-96a5-265da0edb0d3",
   "metadata": {},
   "outputs": [
    {
     "data": {
      "text/plain": [
       "<langgraph.graph.state.StateGraph at 0x7ce0881748f0>"
      ]
     },
     "execution_count": 47,
     "metadata": {},
     "output_type": "execute_result"
    }
   ],
   "source": [
    "# Step 3: Define Our Routing Logic\n",
    "\n",
    "# Add edges\n",
    "email_graph.add_edge(START, \"read_email\") # After starting we go to the \"read_email\" node\n",
    "\n",
    "email_graph.add_edge(\"read_email\", \"classify_email\") # after_reading we classify\n",
    "\n",
    "# Add conditional edges\n",
    "email_graph.add_conditional_edges(\n",
    "    \"classify_email\", # after classify, we run the \"route_email\" function\"\n",
    "    route_email,\n",
    "    {\n",
    "        \"spam\": \"handle_spam\", # if it return \"Spam\", we go the \"handle_span\" node\n",
    "        \"legitimate\": \"drafting_response\" # and if it's legitimate, we go to the \"drafting response\" node\n",
    "    }\n",
    ")\n",
    "\n",
    "# Add final edges\n",
    "email_graph.add_edge(\"handle_spam\", END) # after handling spam we always end\n",
    "email_graph.add_edge(\"drafting_response\", \"notify_mr_wayne\")\n",
    "email_graph.add_edge(\"notify_mr_wayne\", END) # after notifyinf Me wayne, we can end  too"
   ]
  },
  {
   "cell_type": "code",
   "execution_count": 48,
   "id": "342e556a-d930-48e2-a6fd-88dc367c878e",
   "metadata": {},
   "outputs": [],
   "source": [
    "# Compile the graph\n",
    "compiled_graph = email_graph.compile()"
   ]
  },
  {
   "cell_type": "code",
   "execution_count": 49,
   "id": "778282d9-77d3-4b31-8d5a-5fbbed660588",
   "metadata": {},
   "outputs": [
    {
     "data": {
      "image/png": "[encoded data removed]",
      "text/plain": [
       "<IPython.core.display.Image object>"
      ]
     },
     "metadata": {},
     "output_type": "display_data"
    }
   ],
   "source": [
    "display(Image(compiled_graph.get_graph().draw_mermaid_png()))"
   ]
  },
  {
   "cell_type": "code",
   "execution_count": 50,
   "id": "a73d8f7d-2742-485f-89da-eccb0490ce6b",
   "metadata": {},
   "outputs": [
    {
     "name": "stdout",
     "output_type": "stream",
     "text": [
      "\n",
      "Processing legitimate email...\n",
      "Alfred is processing an email from Joker with subject: Found you Batman ! \n",
      "ham\n",
      "\n",
      "==================================================\n",
      "Sir, you've received an email from Joker.\n",
      "Subject: Found you Batman ! \n",
      "\n",
      "I've prepared a draft response for your review:\n",
      "--------------------------------------------------\n",
      "Subject: Re: Found you Batman!\n",
      "\n",
      "Dear Mr. Joker,\n",
      "\n",
      "Thank you for reaching out. Your message has been received and noted. Mr. Wayne values privacy and discretion, and any matters of concern will be addressed with the utmost seriousness.\n",
      "\n",
      "Kind regards,\n",
      "\n",
      "Alfred Pennyworth  \n",
      "On behalf of Bruce Wayne\n",
      "==================================================\n",
      "\n",
      "\n",
      "Processing spam email...\n",
      "Alfred is processing an email from Crypto bro with subject: The best investment of 2025\n",
      "spam\n",
      "Alfred has marked the email as spam.\n",
      "The email has been moved to the spam folder.\n"
     ]
    }
   ],
   "source": [
    "# Example emails for testing\n",
    "legitimate_email = {\n",
    "    \"sender\": \"Joker\",\n",
    "    \"subject\": \"Found you Batman ! \",\n",
    "    \"body\": \"Mr. Wayne,I found your secret identity ! I know you're batman ! Ther's no denying it, I have proof of that and I'm coming to find you soon. I'll get my revenge. JOKER\"\n",
    "}\n",
    "\n",
    "spam_email = {\n",
    "    \"sender\": \"Crypto bro\",\n",
    "    \"subject\": \"The best investment of 2025\",\n",
    "    \"body\": \"Mr Wayne, I just launched an ALT coin and want you to buy some !\"\n",
    "}\n",
    "# Process legitimate email\n",
    "print(\"\\nProcessing legitimate email...\")\n",
    "legitimate_result = compiled_graph.invoke({\n",
    "    \"email\": legitimate_email,\n",
    "    \"is_spam\": None,\n",
    "    \"draft_response\": None,\n",
    "    \"messages\": []\n",
    "})\n",
    "\n",
    "# Process spam email\n",
    "print(\"\\nProcessing spam email...\")\n",
    "spam_result = compiled_graph.invoke({\n",
    "    \"email\": spam_email,\n",
    "    \"is_spam\": None,\n",
    "    \"draft_response\": None,\n",
    "    \"messages\": []\n",
    "}) "
   ]
  },
  {
   "cell_type": "markdown",
   "id": "3f6a439c-14dc-4589-a620-c31a63c896a0",
   "metadata": {},
   "source": [
    "## LangFuse"
   ]
  },
  {
   "cell_type": "code",
   "execution_count": 51,
   "id": "6f49c773-d571-4839-b0a4-c58c2fbb6417",
   "metadata": {},
   "outputs": [
    {
     "name": "stdout",
     "output_type": "stream",
     "text": [
      "Alfred is processing an email from Joker with subject: Found you Batman ! \n",
      "ham\n",
      "\n",
      "==================================================\n",
      "Sir, you've received an email from Joker.\n",
      "Subject: Found you Batman ! \n",
      "\n",
      "I've prepared a draft response for your review:\n",
      "--------------------------------------------------\n",
      "Subject: Re: Your Recent Correspondence\n",
      "\n",
      "Dear Mr. Joker,\n",
      "\n",
      "Thank you for reaching out. Your message has been received and noted. Mr. Wayne values privacy and discretion, and he will review your claims in due course. \n",
      "\n",
      "Kind regards,\n",
      "\n",
      "Alfred Pennyworth  \n",
      "Wayne Manor Estate\n",
      "==================================================\n",
      "\n"
     ]
    }
   ],
   "source": [
    "# Get keys for your project from the project settings page: https://cloud.langfuse.com\n",
    "LANGFUSE_PUBLIC_KEY=\"pk-lf-1f1b4ddb-8e93-43e9-8dae-c9512da60adf\"\n",
    "LANGFUSE_SECRET_KEY=keys['Langfuse']\n",
    "os.environ[\"LANGFUSE_PUBLIC_KEY\"] = LANGFUSE_PUBLIC_KEY\n",
    "os.environ[\"LANGFUSE_SECRET_KEY\"] = LANGFUSE_SECRET_KEY\n",
    "os.environ[\"LANGFUSE_HOST\"] = \"https://cloud.langfuse.com\" # 🇪🇺 EU region\n",
    "# os.environ[\"LANGFUSE_HOST\"] = \"https://us.cloud.langfuse.com\" # 🇺🇸 US region\n",
    "\n",
    "from langfuse.callback import CallbackHandler\n",
    "\n",
    "# Initialize Langfuse CallbackHandler for LangGraph/Langchain (tracing)\n",
    "langfuse_handler = CallbackHandler()\n",
    "\n",
    "# Process legitimate email\n",
    "legitimate_result = compiled_graph.invoke(\n",
    "    input={\"email\": legitimate_email, \"is_spam\": None, \"spam_reason\": None, \"email_category\": None, \"draft_response\": None, \"messages\": []},\n",
    "    config={\"callbacks\": [langfuse_handler]}\n",
    ")"
   ]
  },
  {
   "cell_type": "markdown",
   "id": "a5b72ddf-65e1-4c8c-85da-08cd085bf83e",
   "metadata": {},
   "source": [
    "# [Hugging Face](https://huggingface.co/)"
   ]
  },
  {
   "cell_type": "code",
   "execution_count": 52,
   "id": "972a9062-4304-43af-bda6-67a90600122d",
   "metadata": {},
   "outputs": [],
   "source": [
    "def convert_to_markdown(content):\n",
    "    markdown = content.replace(\"\\\\(\", \"$\").replace(\"\\\\)\", \"$\")\n",
    "    markdown = markdown.replace(\"\\\\[\", \"$$\").replace(\"\\\\]\", \"$$\")\n",
    "    markdown = markdown.replace(\"\\\\,\", \" \")  # optional LaTeX cleanup\n",
    "    return markdown"
   ]
  },
  {
   "cell_type": "markdown",
   "id": "d1530c9f-7e64-4ee3-9ae5-b0d4924c5c43",
   "metadata": {},
   "source": [
    "## using LangChain"
   ]
  },
  {
   "cell_type": "code",
   "execution_count": 53,
   "id": "670cc459-f10a-410a-bac9-54956f3a2f84",
   "metadata": {},
   "outputs": [],
   "source": [
    "from langchain_huggingface import HuggingFaceEndpoint, ChatHuggingFace"
   ]
  },
  {
   "cell_type": "code",
   "execution_count": 54,
   "id": "5053c50f-6c96-44b4-bacd-cbd31648fcad",
   "metadata": {},
   "outputs": [],
   "source": [
    "model = \"Qwen/Qwen2.5-Coder-32B-Instruct\"\n",
    "provider = 'together'"
   ]
  },
  {
   "cell_type": "code",
   "execution_count": 55,
   "id": "ccb151a7-b28a-40c8-a119-d0b19e1c9bcd",
   "metadata": {},
   "outputs": [],
   "source": [
    "question = \"How do you compute the integral of x between 1 and 2\"\n",
    "\n",
    "template = \"\"\"Question: {question}\n",
    "\n",
    "Answer: Let's think step by step.\"\"\"\n",
    "\n",
    "prompt = PromptTemplate.from_template(template)\n",
    "\n",
    "llm = HuggingFaceEndpoint(\n",
    "    repo_id=model,\n",
    "    provider=provider, # mandatory as of mid-april 2025\n",
    "    task=\"text-generation\",\n",
    "    max_new_tokens=1000,\n",
    "    temperature=0.5,\n",
    "    huggingfacehub_api_token=keys['HuggingFace']\n",
    ")\n",
    "\n",
    "chat_model = ChatHuggingFace(llm=llm)"
   ]
  },
  {
   "cell_type": "code",
   "execution_count": 56,
   "id": "4effda2d-5308-4154-9675-559fb8d6c43e",
   "metadata": {},
   "outputs": [],
   "source": [
    "llm_chain = prompt | chat_model\n",
    "answer = llm_chain.invoke({\"question\": question})"
   ]
  },
  {
   "cell_type": "code",
   "execution_count": 57,
   "id": "c7d3bf46-1721-40c5-9247-0b6093443f25",
   "metadata": {},
   "outputs": [
    {
     "data": {
      "text/markdown": [
       "Certainly! To compute the integral of $ x $ from 1 to 2, we need to evaluate the definite integral:\n",
       "\n",
       "$$\n",
       "\\int_{1}^{2} x   dx\n",
       "$$\n",
       "\n",
       "Here are the steps:\n",
       "\n",
       "1. **Find the antiderivative of the integrand**: The integrand here is $ x $. The antiderivative of $ x $ is $ \\frac{x^2}{2} $. This is because the derivative of $ \\frac{x^2}{2} $ is $ x $.\n",
       "\n",
       "2. **Apply the Fundamental Theorem of Calculus**: The Fundamental Theorem of Calculus states that if $ F(x) $ is an antiderivative of $ f(x) $, then:\n",
       "\n",
       "$$\n",
       "\\int_{a}^{b} f(x)   dx = F(b) - F(a)\n",
       "$$\n",
       "\n",
       "In our case, $ f(x) = x $ and $ F(x) = \\frac{x^2}{2} $. So, we need to evaluate $ F(x) $ at the upper limit (2) and subtract the value of $ F(x) $ at the lower limit (1).\n",
       "\n",
       "3. **Evaluate the antiderivative at the limits of integration**:\n",
       "\n",
       "$$\n",
       "\\int_{1}^{2} x   dx = \\left[ \\frac{x^2}{2} \\right]_{1}^{2} = \\frac{2^2}{2} - \\frac{1^2}{2} = \\frac{4}{2} - \\frac{1}{2} = 2 - 0.5 = 1.5\n",
       "$$\n",
       "\n",
       "So, the integral of $ x $ from 1 to 2 is $ 1.5 $."
      ],
      "text/plain": [
       "<IPython.core.display.Markdown object>"
      ]
     },
     "metadata": {},
     "output_type": "display_data"
    }
   ],
   "source": [
    "# Assuming `response.content` contains the model output\n",
    "markdown_output = convert_to_markdown(answer.content)\n",
    "\n",
    "# Display in notebook\n",
    "display(Markdown(markdown_output))"
   ]
  },
  {
   "cell_type": "markdown",
   "id": "259cee09-f526-458d-b881-f04512e80184",
   "metadata": {},
   "source": [
    "## using InferenceClient"
   ]
  },
  {
   "cell_type": "code",
   "execution_count": 58,
   "id": "911402cb-6aa3-4449-847d-6ae488050c84",
   "metadata": {},
   "outputs": [],
   "source": [
    "from huggingface_hub import InferenceClient\n",
    "\n",
    "client = InferenceClient(\n",
    "    model = model,\n",
    "    provider=provider,\n",
    "\tapi_key=keys[\"HuggingFace\"]\n",
    ")"
   ]
  },
  {
   "cell_type": "code",
   "execution_count": 59,
   "id": "9cdcb21b-b965-4644-be9c-84c909289f1f",
   "metadata": {},
   "outputs": [],
   "source": [
    "messages = [\n",
    "\t{\n",
    "\t\t\"role\": \"user\",\n",
    "\t\t\"content\": \"How do you compute the integral of x between 2 and 3\"\n",
    "\t}\n",
    "]"
   ]
  },
  {
   "cell_type": "code",
   "execution_count": 60,
   "id": "5dde56be-5407-400f-86d6-150e4041e95b",
   "metadata": {},
   "outputs": [],
   "source": [
    "completion = client.chat.completions.create(\n",
    "\tmodel=model,\n",
    "\tmessages=messages, \n",
    "\tmax_tokens=500\n",
    ")"
   ]
  },
  {
   "cell_type": "code",
   "execution_count": 61,
   "id": "09bf7d4a-d77b-4a71-a4d7-c042b4d01d31",
   "metadata": {},
   "outputs": [
    {
     "data": {
      "text/markdown": [
       "To compute the definite integral of $ x $ from 2 to 3, you can follow these steps:\n",
       "\n",
       "1. **Find the antiderivative of $ x $:**\n",
       "   The antiderivative of $ x $ is $ \\frac{x^2}{2} $. This is because the derivative of $ \\frac{x^2}{2} $ is $ x $.\n",
       "\n",
       "2. **Evaluate the antiderivative at the upper and lower limits of integration:**\n",
       "   - At the upper limit (3):\n",
       "     $$\n",
       "     \\left. \\frac{x^2}{2} \\right|_{x=3} = \\frac{3^2}{2} = \\frac{9}{2}\n",
       "     $$\n",
       "   - At the lower limit (2):\n",
       "     $$\n",
       "     \\left. \\frac{x^2}{2} \\right|_{x=2} = \\frac{2^2}{2} = \\frac{4}{2} = 2\n",
       "     $$\n",
       "\n",
       "3. **Subtract the value of the antiderivative at the lower limit from the value at the upper limit:**\n",
       "   $$\n",
       "   \\int_{2}^{3} x   dx = \\left[ \\frac{x^2}{2} \\right]_{2}^{3} = \\frac{9}{2} - 2 = \\frac{9}{2} - \\frac{4}{2} = \\frac{5}{2}\n",
       "   $$\n",
       "\n",
       "So, the integral of $ x $ from 2 to 3 is $ \\frac{5}{2} $ or 2.5."
      ],
      "text/plain": [
       "<IPython.core.display.Markdown object>"
      ]
     },
     "metadata": {},
     "output_type": "display_data"
    }
   ],
   "source": [
    "# Assuming `response.content` contains the model output\n",
    "markdown_output = convert_to_markdown(completion.choices[0].message.content)\n",
    "\n",
    "# Display in notebook\n",
    "display(Markdown(markdown_output))"
   ]
  }
 ],
 "metadata": {
  "kernelspec": {
   "display_name": "AI (LLMs)",
   "language": "python",
   "name": "ai"
  },
  "language_info": {
   "codemirror_mode": {
    "name": "ipython",
    "version": 3
   },
   "file_extension": ".py",
   "mimetype": "text/x-python",
   "name": "python",
   "nbconvert_exporter": "python",
   "pygments_lexer": "ipython3",
   "version": "3.12.7"
  }
 },
 "nbformat": 4,
 "nbformat_minor": 5
}
