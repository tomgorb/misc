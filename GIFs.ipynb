{
 "cells": [
  {
   "cell_type": "markdown",
   "metadata": {},
   "source": [
    "### Requirements\n",
    "-----"
   ]
  },
  {
   "cell_type": "code",
   "execution_count": 1,
   "metadata": {},
   "outputs": [
    {
     "data": {
      "text/plain": [
       "'1.5.3'"
      ]
     },
     "execution_count": 1,
     "metadata": {},
     "output_type": "execute_result"
    }
   ],
   "source": [
    "import pandas as pd\n",
    "pd.__version__"
   ]
  },
  {
   "cell_type": "code",
   "execution_count": 2,
   "metadata": {},
   "outputs": [
    {
     "data": {
      "text/plain": [
       "'1.26.4'"
      ]
     },
     "execution_count": 2,
     "metadata": {},
     "output_type": "execute_result"
    }
   ],
   "source": [
    "import numpy as np\n",
    "np.__version__"
   ]
  },
  {
   "cell_type": "code",
   "execution_count": 3,
   "metadata": {},
   "outputs": [
    {
     "data": {
      "text/plain": [
       "'3.9.0'"
      ]
     },
     "execution_count": 3,
     "metadata": {},
     "output_type": "execute_result"
    }
   ],
   "source": [
    "import matplotlib\n",
    "matplotlib.__version__"
   ]
  },
  {
   "cell_type": "markdown",
   "metadata": {},
   "source": [
    "-----"
   ]
  },
  {
   "cell_type": "markdown",
   "metadata": {},
   "source": [
    "### Make GIFs Great Again!\n",
    "\n",
    "*Original blog post by [Sivakar Sivarajah](https://towardsdatascience.com/creating-beautiful-gif-with-python-for-your-data-analysis-ac50c618b559)*"
   ]
  },
  {
   "cell_type": "code",
   "execution_count": 4,
   "metadata": {},
   "outputs": [],
   "source": [
    "import matplotlib.pyplot as plt\n",
    "import matplotlib.ticker as mtick\n",
    "plt.style.use('fivethirtyeight')\n",
    "\n",
    "# Matplotlib XKCD Style Plots\n",
    "# plt.xkcd()"
   ]
  },
  {
   "cell_type": "code",
   "execution_count": 5,
   "metadata": {},
   "outputs": [
    {
     "data": {
      "text/html": [
       "<div>\n",
       "<style scoped>\n",
       "    .dataframe tbody tr th:only-of-type {\n",
       "        vertical-align: middle;\n",
       "    }\n",
       "\n",
       "    .dataframe tbody tr th {\n",
       "        vertical-align: top;\n",
       "    }\n",
       "\n",
       "    .dataframe thead th {\n",
       "        text-align: right;\n",
       "    }\n",
       "</style>\n",
       "<table border=\"1\" class=\"dataframe\">\n",
       "  <thead>\n",
       "    <tr style=\"text-align: right;\">\n",
       "      <th></th>\n",
       "      <th>hits</th>\n",
       "      <th>visits</th>\n",
       "      <th>day</th>\n",
       "      <th>identifier</th>\n",
       "      <th>orders</th>\n",
       "      <th>amount</th>\n",
       "      <th>product_pages</th>\n",
       "      <th>direct_visit</th>\n",
       "      <th>organic_visit</th>\n",
       "      <th>paid_search_visit</th>\n",
       "      <th>email_visit</th>\n",
       "    </tr>\n",
       "  </thead>\n",
       "  <tbody>\n",
       "    <tr>\n",
       "      <th>0</th>\n",
       "      <td>1084135</td>\n",
       "      <td>145634</td>\n",
       "      <td>2020-04-27</td>\n",
       "      <td>96</td>\n",
       "      <td>45986</td>\n",
       "      <td>3061233.89</td>\n",
       "      <td>707126</td>\n",
       "      <td>400028</td>\n",
       "      <td>260021</td>\n",
       "      <td>846</td>\n",
       "      <td>6</td>\n",
       "    </tr>\n",
       "    <tr>\n",
       "      <th>1</th>\n",
       "      <td>734485</td>\n",
       "      <td>111792</td>\n",
       "      <td>2020-04-30</td>\n",
       "      <td>96</td>\n",
       "      <td>53344</td>\n",
       "      <td>3271520.39</td>\n",
       "      <td>479824</td>\n",
       "      <td>255051</td>\n",
       "      <td>159261</td>\n",
       "      <td>431</td>\n",
       "      <td>0</td>\n",
       "    </tr>\n",
       "    <tr>\n",
       "      <th>2</th>\n",
       "      <td>2084615</td>\n",
       "      <td>182338</td>\n",
       "      <td>2020-04-08</td>\n",
       "      <td>96</td>\n",
       "      <td>11576</td>\n",
       "      <td>908171.75</td>\n",
       "      <td>1319358</td>\n",
       "      <td>675851</td>\n",
       "      <td>337172</td>\n",
       "      <td>37056</td>\n",
       "      <td>12</td>\n",
       "    </tr>\n",
       "    <tr>\n",
       "      <th>3</th>\n",
       "      <td>1133765</td>\n",
       "      <td>157161</td>\n",
       "      <td>2020-04-25</td>\n",
       "      <td>96</td>\n",
       "      <td>49829</td>\n",
       "      <td>3398320.87</td>\n",
       "      <td>720391</td>\n",
       "      <td>416621</td>\n",
       "      <td>237090</td>\n",
       "      <td>801</td>\n",
       "      <td>7</td>\n",
       "    </tr>\n",
       "    <tr>\n",
       "      <th>4</th>\n",
       "      <td>2473217</td>\n",
       "      <td>254864</td>\n",
       "      <td>2020-04-14</td>\n",
       "      <td>96</td>\n",
       "      <td>24317</td>\n",
       "      <td>2029124.65</td>\n",
       "      <td>1503301</td>\n",
       "      <td>736847</td>\n",
       "      <td>523907</td>\n",
       "      <td>75793</td>\n",
       "      <td>0</td>\n",
       "    </tr>\n",
       "  </tbody>\n",
       "</table>\n",
       "</div>"
      ],
      "text/plain": [
       "      hits  visits         day  identifier  orders      amount  product_pages  \\\n",
       "0  1084135  145634  2020-04-27          96   45986  3061233.89         707126   \n",
       "1   734485  111792  2020-04-30          96   53344  3271520.39         479824   \n",
       "2  2084615  182338  2020-04-08          96   11576   908171.75        1319358   \n",
       "3  1133765  157161  2020-04-25          96   49829  3398320.87         720391   \n",
       "4  2473217  254864  2020-04-14          96   24317  2029124.65        1503301   \n",
       "\n",
       "   direct_visit  organic_visit  paid_search_visit  email_visit  \n",
       "0        400028         260021                846            6  \n",
       "1        255051         159261                431            0  \n",
       "2        675851         337172              37056           12  \n",
       "3        416621         237090                801            7  \n",
       "4        736847         523907              75793            0  "
      ]
     },
     "execution_count": 5,
     "metadata": {},
     "output_type": "execute_result"
    }
   ],
   "source": [
    "df = pd.read_csv('data/data.csv', header=0, sep='|')\n",
    "df.head()"
   ]
  },
  {
   "cell_type": "code",
   "execution_count": 6,
   "metadata": {},
   "outputs": [],
   "source": [
    "# filter on a single time series\n",
    "df = df[(df.identifier==36)]"
   ]
  },
  {
   "cell_type": "code",
   "execution_count": 7,
   "metadata": {},
   "outputs": [],
   "source": [
    "# transform day as a datetime object\n",
    "df['day']=pd.to_datetime(df['day'])\n",
    "# set day as an index \n",
    "df.set_index('day',drop=True, inplace=True)"
   ]
  },
  {
   "cell_type": "code",
   "execution_count": 8,
   "metadata": {},
   "outputs": [
    {
     "data": {
      "text/html": [
       "<div>\n",
       "<style scoped>\n",
       "    .dataframe tbody tr th:only-of-type {\n",
       "        vertical-align: middle;\n",
       "    }\n",
       "\n",
       "    .dataframe tbody tr th {\n",
       "        vertical-align: top;\n",
       "    }\n",
       "\n",
       "    .dataframe thead th {\n",
       "        text-align: right;\n",
       "    }\n",
       "</style>\n",
       "<table border=\"1\" class=\"dataframe\">\n",
       "  <thead>\n",
       "    <tr style=\"text-align: right;\">\n",
       "      <th></th>\n",
       "      <th>hits</th>\n",
       "      <th>visits</th>\n",
       "      <th>identifier</th>\n",
       "      <th>orders</th>\n",
       "      <th>amount</th>\n",
       "      <th>product_pages</th>\n",
       "      <th>direct_visit</th>\n",
       "      <th>organic_visit</th>\n",
       "      <th>paid_search_visit</th>\n",
       "      <th>email_visit</th>\n",
       "    </tr>\n",
       "    <tr>\n",
       "      <th>day</th>\n",
       "      <th></th>\n",
       "      <th></th>\n",
       "      <th></th>\n",
       "      <th></th>\n",
       "      <th></th>\n",
       "      <th></th>\n",
       "      <th></th>\n",
       "      <th></th>\n",
       "      <th></th>\n",
       "      <th></th>\n",
       "    </tr>\n",
       "  </thead>\n",
       "  <tbody>\n",
       "    <tr>\n",
       "      <th>2019-08-22</th>\n",
       "      <td>1633273</td>\n",
       "      <td>323468</td>\n",
       "      <td>36</td>\n",
       "      <td>28822</td>\n",
       "      <td>5.442457e+06</td>\n",
       "      <td>535614</td>\n",
       "      <td>246413</td>\n",
       "      <td>108930</td>\n",
       "      <td>143351</td>\n",
       "      <td>5095</td>\n",
       "    </tr>\n",
       "    <tr>\n",
       "      <th>2019-05-09</th>\n",
       "      <td>1722637</td>\n",
       "      <td>350463</td>\n",
       "      <td>36</td>\n",
       "      <td>30086</td>\n",
       "      <td>5.278870e+06</td>\n",
       "      <td>555791</td>\n",
       "      <td>264586</td>\n",
       "      <td>108284</td>\n",
       "      <td>125806</td>\n",
       "      <td>13444</td>\n",
       "    </tr>\n",
       "    <tr>\n",
       "      <th>2019-12-22</th>\n",
       "      <td>3732463</td>\n",
       "      <td>734510</td>\n",
       "      <td>36</td>\n",
       "      <td>71886</td>\n",
       "      <td>1.448650e+07</td>\n",
       "      <td>1235813</td>\n",
       "      <td>480195</td>\n",
       "      <td>245872</td>\n",
       "      <td>415754</td>\n",
       "      <td>20915</td>\n",
       "    </tr>\n",
       "    <tr>\n",
       "      <th>2020-04-25</th>\n",
       "      <td>3246407</td>\n",
       "      <td>510123</td>\n",
       "      <td>36</td>\n",
       "      <td>13570</td>\n",
       "      <td>2.951195e+06</td>\n",
       "      <td>949286</td>\n",
       "      <td>478942</td>\n",
       "      <td>263048</td>\n",
       "      <td>146732</td>\n",
       "      <td>9686</td>\n",
       "    </tr>\n",
       "    <tr>\n",
       "      <th>2020-02-19</th>\n",
       "      <td>1661310</td>\n",
       "      <td>345783</td>\n",
       "      <td>36</td>\n",
       "      <td>28985</td>\n",
       "      <td>5.066071e+06</td>\n",
       "      <td>557016</td>\n",
       "      <td>233672</td>\n",
       "      <td>105473</td>\n",
       "      <td>163391</td>\n",
       "      <td>8884</td>\n",
       "    </tr>\n",
       "  </tbody>\n",
       "</table>\n",
       "</div>"
      ],
      "text/plain": [
       "               hits  visits  identifier  orders        amount  product_pages  \\\n",
       "day                                                                            \n",
       "2019-08-22  1633273  323468          36   28822  5.442457e+06         535614   \n",
       "2019-05-09  1722637  350463          36   30086  5.278870e+06         555791   \n",
       "2019-12-22  3732463  734510          36   71886  1.448650e+07        1235813   \n",
       "2020-04-25  3246407  510123          36   13570  2.951195e+06         949286   \n",
       "2020-02-19  1661310  345783          36   28985  5.066071e+06         557016   \n",
       "\n",
       "            direct_visit  organic_visit  paid_search_visit  email_visit  \n",
       "day                                                                      \n",
       "2019-08-22        246413         108930             143351         5095  \n",
       "2019-05-09        264586         108284             125806        13444  \n",
       "2019-12-22        480195         245872             415754        20915  \n",
       "2020-04-25        478942         263048             146732         9686  \n",
       "2020-02-19        233672         105473             163391         8884  "
      ]
     },
     "execution_count": 8,
     "metadata": {},
     "output_type": "execute_result"
    }
   ],
   "source": [
    "df.head()"
   ]
  },
  {
   "cell_type": "code",
   "execution_count": 9,
   "metadata": {},
   "outputs": [
    {
     "data": {
      "text/plain": [
       "(57, 10)"
      ]
     },
     "execution_count": 9,
     "metadata": {},
     "output_type": "execute_result"
    }
   ],
   "source": [
    "# resample dataframe on a week basis\n",
    "df=df.resample('W').sum()\n",
    "df.shape"
   ]
  },
  {
   "cell_type": "code",
   "execution_count": 10,
   "metadata": {},
   "outputs": [],
   "source": [
    "#Defining the start and end dates\n",
    "START=df.index[0]\n",
    "END=df.index[-1]"
   ]
  },
  {
   "cell_type": "code",
   "execution_count": 11,
   "metadata": {},
   "outputs": [],
   "source": [
    "import gif"
   ]
  },
  {
   "cell_type": "code",
   "execution_count": 12,
   "metadata": {},
   "outputs": [],
   "source": [
    "@gif.frame\n",
    "def plot(df,date):\n",
    "    \n",
    "    maxi1=round(df.orders.max()*1.5)\n",
    "\n",
    "    df=df.loc[df.index[0]:pd.Timestamp(date)]\n",
    "    fig, (ax1) = plt.subplots(1,figsize=(5,3),dpi=100)\n",
    "    ax1.plot(df.orders,marker='o', linestyle='--', linewidth=2,markersize=3, color='tab:green')\n",
    "\n",
    "    ax1.set_xlim([START, END])\n",
    "    ax1.set_ylim([0, maxi1])\n",
    "    ax1.tick_params(axis='x', labelsize=7)\n",
    "    ax1.tick_params(axis='y', labelsize=7 , rotation=33)    \n",
    "    ax1.yaxis.set_major_formatter(mtick.FormatStrFormatter('%.0e'))\n",
    "\n",
    "    plt.title('Nb. of orders per week', fontsize=11)\n",
    "    plt.tight_layout()\n"
   ]
  },
  {
   "cell_type": "code",
   "execution_count": 13,
   "metadata": {},
   "outputs": [],
   "source": [
    "#### ANIMATION CREATION ####\n",
    "frames = []\n",
    "for date in pd.date_range(start = START, end = END,freq = '1W'):\n",
    "    frame = plot(df,date)\n",
    "    frames.append(frame)"
   ]
  },
  {
   "cell_type": "code",
   "execution_count": 14,
   "metadata": {},
   "outputs": [],
   "source": [
    "#saving the GIF\n",
    "gif.save(frames, \"data/output1.gif\", duration=150) # ms"
   ]
  },
  {
   "cell_type": "code",
   "execution_count": 15,
   "metadata": {},
   "outputs": [
    {
     "data": {
      "text/html": [
       "<img src=\"data/output1.gif\" />"
      ],
      "text/plain": [
       "<IPython.core.display.HTML object>"
      ]
     },
     "execution_count": 15,
     "metadata": {},
     "output_type": "execute_result"
    }
   ],
   "source": [
    "#visualizing the GIF\n",
    "from IPython.display import HTML\n",
    "HTML('<img src=\"data/output1.gif\" />')"
   ]
  },
  {
   "cell_type": "code",
   "execution_count": 16,
   "metadata": {},
   "outputs": [
    {
     "data": {
      "text/html": [
       "<img src=\"data/output2.gif\" />"
      ],
      "text/plain": [
       "<IPython.core.display.HTML object>"
      ]
     },
     "execution_count": 16,
     "metadata": {},
     "output_type": "execute_result"
    }
   ],
   "source": [
    "@gif.frame\n",
    "def plot_split(df,date,split_date='2019-12-31'):\n",
    "    \n",
    "    maxi1=round(df.orders.max()*1.5)\n",
    "\n",
    "    df=df.loc[df.index[0]:pd.Timestamp(date)]\n",
    "    fig, (ax1) = plt.subplots(1,figsize=(7,5),dpi=100)\n",
    "    \n",
    "    #2019\n",
    "    if date <= pd.Timestamp(split_date):\n",
    "        ax1.axvspan(START,date, alpha = 0.5, color = '#33FF92')\n",
    "        ax1.text(pd.Timestamp('2019-05'),y= 10000, s = '2019',fontsize=11)\n",
    "\n",
    "    #2020\n",
    "    if (date > pd.Timestamp(split_date)):\n",
    "        ax1.axvspan(pd.Timestamp(split_date),date, alpha = 0.5,   color = '#F933FF')\n",
    "        ax1.text(pd.Timestamp('2020-01'),y= 10000, s = '2020',fontsize=11)\n",
    "    \n",
    "    ax1.plot(df.orders,marker='o', linestyle='--', linewidth=2,markersize=3, color = 'tab:orange')\n",
    "    ax1.set_ylabel('orders',color = 'blue',fontsize=7)    \n",
    "\n",
    "    ax1.set_xlim([START, END])\n",
    "    ax1.set_ylim([0, maxi1])\n",
    "    ax1.tick_params(axis='x', labelsize=7)\n",
    "    ax1.tick_params(axis='y', labelsize=7 , rotation=33)    \n",
    "    ax1.yaxis.set_major_formatter(mtick.FormatStrFormatter('%.0e'))\n",
    "\n",
    "    plt.title('2019/2020 Split',fontsize=11)\n",
    "    plt.tight_layout()\n",
    "\n",
    "frames = []\n",
    "for date in pd.date_range(start = START, end = END,freq = '1W'):\n",
    "    frame = plot_split(df,date)\n",
    "    frames.append(frame)\n",
    "\n",
    "gif.save(frames, \"data/output2.gif\", duration=150)\n",
    "\n",
    "HTML('<img src=\"data/output2.gif\" />')"
   ]
  },
  {
   "cell_type": "code",
   "execution_count": 17,
   "metadata": {},
   "outputs": [
    {
     "data": {
      "text/html": [
       "<img src=\"data/output3.gif\" />"
      ],
      "text/plain": [
       "<IPython.core.display.HTML object>"
      ]
     },
     "execution_count": 17,
     "metadata": {},
     "output_type": "execute_result"
    }
   ],
   "source": [
    "@gif.frame\n",
    "def plot(df,date):\n",
    "    \n",
    "    maxi1=round(df.orders.max()*1.5)\n",
    "    maxi2=round(df.amount.max()*1.5)\n",
    "        \n",
    "    df=df.loc[df.index[0]:pd.Timestamp(date)]\n",
    "    fig, ax1 = plt.subplots(1,figsize=(7,5),dpi=100)\n",
    "    \n",
    "    ax1.plot(df.orders, color = 'tab:orange',marker='o', linestyle='--', linewidth=2,markersize=3)\n",
    "    ax1.set_ylabel('orders',color = 'tab:orange',fontsize=11)\n",
    "\n",
    "    ax2 = ax1.twinx()\n",
    "    ax2.plot(df.amount, color = 'tab:blue',marker='o', linestyle='--', linewidth=2,markersize=3)\n",
    "    ax2.set_ylabel('amount',color = 'tab:blue',fontsize=11)\n",
    "    \n",
    "    ax1.set_xlim([START, END])\n",
    "    ax1.set_ylim([0, maxi1])\n",
    "    ax1.tick_params(axis='x', labelsize=7)\n",
    "    ax1.tick_params(axis='y', labelsize=7 , rotation=33)    \n",
    "    ax1.yaxis.set_major_formatter(mtick.FormatStrFormatter('%.0e'))\n",
    "\n",
    "    ax2.set_ylim([0, maxi2])\n",
    "    ax2.tick_params(axis='x', labelsize=7)\n",
    "    ax2.tick_params(axis='y', labelsize=7 , rotation=33)    \n",
    "    ax2.yaxis.set_major_formatter(mtick.FormatStrFormatter('%.0e'))\n",
    "\n",
    "    plt.title('Nb. of orders & Amount in €', fontsize=11)\n",
    "    plt.tight_layout()\n",
    "\n",
    "frames = []\n",
    "for date in pd.date_range(start = START, end = END,freq = '1W'):\n",
    "    frame = plot(df,date)\n",
    "    frames.append(frame)\n",
    "\n",
    "gif.save(frames, \"data/output3.gif\", duration=150)\n",
    "\n",
    "HTML('<img src=\"data/output3.gif\" />')"
   ]
  },
  {
   "cell_type": "code",
   "execution_count": 18,
   "metadata": {},
   "outputs": [
    {
     "data": {
      "text/html": [
       "<img src=\"data/output4.gif\" />"
      ],
      "text/plain": [
       "<IPython.core.display.HTML object>"
      ]
     },
     "execution_count": 18,
     "metadata": {},
     "output_type": "execute_result"
    }
   ],
   "source": [
    "@gif.frame\n",
    "def plot(df,date):\n",
    "    \n",
    "    maxi1=round(df.orders.max()*1.2)\n",
    "    maxi2=round(df.amount.max()*1.2)        \n",
    "    maxi3=round(df.product_pages.max()*1.2)        \n",
    "\n",
    "    df=df.loc[df.index[0]:pd.Timestamp(date)]\n",
    "    fig, (ax1,ax2,ax3) = plt.subplots(3,figsize=(11,7),dpi=100)\n",
    "    \n",
    "    ax1.plot(df.orders,marker='o', linestyle='--', linewidth=2,markersize=3, color='g')\n",
    "    ax1.set_ylabel('orders',color = 'green',fontsize=11)\n",
    "    \n",
    "    ax2.plot(df.amount,marker='o', linestyle='--', linewidth=2,markersize=5, color='r')\n",
    "    ax2.set_ylabel('amount',color = 'red',fontsize=11)\n",
    "    \n",
    "    ax3.plot(df.product_pages,marker='o', linestyle='--', linewidth=2,markersize=3, color='b')\n",
    "    ax3.set_ylabel('product pages',color = 'blue',fontsize=11)\n",
    "\n",
    "    ax1.set_xlim([START, END])\n",
    "    ax1.set_ylim([0, maxi1])\n",
    "    ax1.tick_params(axis='x', labelsize=7)\n",
    "    ax1.tick_params(axis='y', labelsize=7 , rotation=33)    \n",
    "    ax1.yaxis.set_major_formatter(mtick.FormatStrFormatter('%.0e'))\n",
    "\n",
    "    ax2.set_xlim([START, END])\n",
    "    ax2.set_ylim([0, maxi2])\n",
    "    ax2.tick_params(axis='x', labelsize=7)\n",
    "    ax2.tick_params(axis='y', labelsize=7 , rotation=33)    \n",
    "    ax2.yaxis.set_major_formatter(mtick.FormatStrFormatter('%.0e'))\n",
    "\n",
    "    ax3.set_xlim([START, END])\n",
    "    ax3.set_ylim([0,maxi3])\n",
    "    ax3.tick_params(axis='x', labelsize=7)\n",
    "    ax3.tick_params(axis='y', labelsize=7 , rotation=33)    \n",
    "    ax3.yaxis.set_major_formatter(mtick.FormatStrFormatter('%.0e'))\n",
    "\n",
    "    plt.tight_layout()\n",
    "\n",
    "frames = []\n",
    "for date in pd.date_range(start = START, end = END,freq = '1W'):\n",
    "    frame = plot(df,date)\n",
    "    frames.append(frame)\n",
    "\n",
    "gif.save(frames, \"data/output4.gif\", duration=150)\n",
    "    \n",
    "HTML('<img src=\"data/output4.gif\" />')"
   ]
  },
  {
   "cell_type": "code",
   "execution_count": null,
   "metadata": {},
   "outputs": [],
   "source": []
  }
 ],
 "metadata": {
  "kernelspec": {
   "display_name": "sandbox",
   "language": "python",
   "name": "sandbox"
  },
  "language_info": {
   "codemirror_mode": {
    "name": "ipython",
    "version": 3
   },
   "file_extension": ".py",
   "mimetype": "text/x-python",
   "name": "python",
   "nbconvert_exporter": "python",
   "pygments_lexer": "ipython3",
   "version": "3.12.3"
  }
 },
 "nbformat": 4,
 "nbformat_minor": 4
}
