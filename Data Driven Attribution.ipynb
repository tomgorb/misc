{
 "cells": [
  {
   "cell_type": "markdown",
   "metadata": {},
   "source": [
    "### [Data Driven Attribution using Shapley value](https://towardsdatascience.com/data-driven-marketing-attribution-1a28d2e613a0)"
   ]
  },
  {
   "cell_type": "code",
   "execution_count": 1,
   "metadata": {},
   "outputs": [],
   "source": [
    "channels = [\n",
    "    'F',\n",
    "    'O',\n",
    "    'L'\n",
    "]\n",
    "\n",
    "coalitions = [\n",
    "    'F',\n",
    "    'O',\n",
    "    'L',\n",
    "    'F+O',\n",
    "    'F+L',\n",
    "    'L+O',\n",
    "    'F+L+O'\n",
    "]\n",
    "\n",
    "conversion_ratio = [\n",
    "    0.2,\n",
    "    0.1,\n",
    "    0.17,\n",
    "    0.17,\n",
    "    0.3,\n",
    "    0.,\n",
    "    0.06\n",
    "]"
   ]
  },
  {
   "cell_type": "code",
   "execution_count": 2,
   "metadata": {},
   "outputs": [],
   "source": [
    "from itertools import combinations, chain\n",
    "data = list(\n",
    "    chain(* [20*['+'.join(sorted(['F']))] + \n",
    "             10*['+'.join(sorted(['O']))] + \n",
    "             17*['+'.join(sorted(['L']))] + \n",
    "             17*['+'.join(sorted(['O','F']))] + \n",
    "             30*['+'.join(sorted(['L','F']))] + \n",
    "              0*['+'.join(sorted(['O','L']))] + \n",
    "              6*['+'.join(sorted(['F','O','L']))] ]\n",
    "         )\n",
    ")"
   ]
  },
  {
   "cell_type": "markdown",
   "metadata": {},
   "source": [
    "data:\n",
    "\n",
    "```sql\n",
    "id|         path          |conversion\n",
    "_____________________________________\n",
    " 1|O(rganic)>F(acebook)   |    0\n",
    " 2|O(rganic)              |    1\n",
    " 3|L(inkedIn)             |    1\n",
    "...\n",
    "```"
   ]
  },
  {
   "cell_type": "code",
   "execution_count": 3,
   "metadata": {},
   "outputs": [
    {
     "data": {
      "text/plain": [
       "['F+L+O', 'F+O', 'F+L', 'L', 'L', 'F+O', 'L', 'F+O', 'F+L', 'F+L']"
      ]
     },
     "execution_count": 3,
     "metadata": {},
     "output_type": "execute_result"
    }
   ],
   "source": [
    "from random import sample \n",
    "sample(data, 10)"
   ]
  },
  {
   "cell_type": "code",
   "execution_count": 4,
   "metadata": {},
   "outputs": [],
   "source": [
    "auto_coalitions = ['+'.join(sorted(x)) for x in list(chain(*[combinations(channels,l+1) for l in range(len(channels))]))]\n",
    "assert coalitions == auto_coalitions"
   ]
  },
  {
   "cell_type": "code",
   "execution_count": 5,
   "metadata": {},
   "outputs": [],
   "source": [
    "auto_conversion_ratio = [data.count(i)/len(data) for i in auto_coalitions]\n",
    "assert conversion_ratio == auto_conversion_ratio"
   ]
  },
  {
   "cell_type": "code",
   "execution_count": 6,
   "metadata": {},
   "outputs": [
    {
     "data": {
      "text/plain": [
       "[0.2, 0.1, 0.17, 0.47, 0.67, 0.27, 1.0]"
      ]
     },
     "execution_count": 6,
     "metadata": {},
     "output_type": "execute_result"
    }
   ],
   "source": [
    "worth = []\n",
    "\n",
    "for i, c1 in enumerate(auto_coalitions):\n",
    "    w = auto_conversion_ratio[i]\n",
    "    for j, c2 in enumerate(auto_coalitions):\n",
    "        if len(c2) < len(c1) and len(list(set(c1.split('+')) & set(c2.split('+')))) > 0:\n",
    "            w += auto_conversion_ratio[j]\n",
    "    worth.append(w)\n",
    "\n",
    "worth"
   ]
  },
  {
   "cell_type": "code",
   "execution_count": 7,
   "metadata": {},
   "outputs": [],
   "source": [
    "from collections import defaultdict\n",
    "from math import factorial\n",
    "import copy\n",
    "\n",
    "# COMPUTATION OF THE SHAPLEY VALUE\n",
    "\n",
    "shapley = defaultdict(float)\n",
    "n = len(channels)\n",
    "\n",
    "for i in channels:\n",
    "    for A in auto_coalitions:\n",
    "        S = A.split('+')\n",
    "        if i not in S:\n",
    "            k = len(S) # Cardinality of set |S|\n",
    "            Si = copy.deepcopy(S)\n",
    "            Si.append(i)\n",
    "            Si = '+'.join(sorted(Si))\n",
    "            # Weight = |S|!(n-|S|-1)!/n!\n",
    "            weight = (factorial(k) * factorial(n-k-1)) / factorial(n)\n",
    "            # Marginal contribution = v(S U {i})-v(S)\n",
    "            contrib = worth[auto_coalitions.index(Si)] - worth[auto_coalitions.index(A)]\n",
    "            shapley[i] += weight * contrib\n",
    "    shapley[i] += worth[auto_coalitions.index(i)]/n\n",
    "\n",
    "shapley = { k: round(v, 3) for k, v in shapley.items() }"
   ]
  },
  {
   "cell_type": "code",
   "execution_count": 8,
   "metadata": {},
   "outputs": [
    {
     "data": {
      "text/plain": [
       "{'F': 0.455, 'O': 0.205, 'L': 0.34}"
      ]
     },
     "execution_count": 8,
     "metadata": {},
     "output_type": "execute_result"
    }
   ],
   "source": [
    "shapley"
   ]
  },
  {
   "cell_type": "code",
   "execution_count": null,
   "metadata": {},
   "outputs": [],
   "source": []
  }
 ],
 "metadata": {
  "kernelspec": {
   "display_name": "sandbox",
   "language": "python",
   "name": "sandbox"
  },
  "language_info": {
   "codemirror_mode": {
    "name": "ipython",
    "version": 3
   },
   "file_extension": ".py",
   "mimetype": "text/x-python",
   "name": "python",
   "nbconvert_exporter": "python",
   "pygments_lexer": "ipython3",
   "version": "3.12.3"
  }
 },
 "nbformat": 4,
 "nbformat_minor": 4
}
