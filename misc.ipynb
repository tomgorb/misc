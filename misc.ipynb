{
 "cells": [
  {
   "cell_type": "markdown",
   "metadata": {},
   "source": [
    "# CatBoost\n",
    "--------"
   ]
  },
  {
   "cell_type": "markdown",
   "metadata": {},
   "source": [
    "[https://catboost.ai/](https://catboost.ai/)\n",
    "\n",
    "> Not only does it build one of the most accurate model on whatever dataset you feed it with — requiring minimal data prep — **CatBoost** also gives by far the best open source interpretation tools available today AND a way to productionize your model fast.\n",
    "\n",
    "> That’s why **CatBoost** is revolutionising the game of *Machine Learning*, forever. And that’s why learning to use it is a fantastic opportunity to up-skill and remain relevant as a *data scientist*. \n",
    "\n",
    "```python\n",
    "class MetricVisualizer(train_dirs,\n",
    "                       subdirs=False)\n",
    "```\n",
    "\n",
    "<img src=\"data/catboost.png\" alt=\"drawing\" width=\"600mm\"/> \n",
    "\n",
    "\n",
    "```python                       \n",
    "import shap\n",
    "\n",
    "shap_values = model.get_feature_importance(Pool(X, y), type='ShapValues')\n",
    "\n",
    "expected_value = shap_values[0,-1]\n",
    "shap_values = shap_values[:,:-1]\n",
    "\n",
    "shap.summary_plot(shap_values, X)\n",
    "```\n",
    "\n",
    "<img src=\"data/shap.png\" alt=\"drawing\" style=\"background-color:white;\" width=\"600mm\"/>"
   ]
  },
  {
   "cell_type": "markdown",
   "metadata": {},
   "source": [
    "# TIPS\n",
    "----\n",
    "- **Data pre-processing**\n",
    "\n",
    "  - **Normalization:** \n",
    "> Normalization / Scaling (often used interchangeably with standardization) is used to transform the actual values of numeric variables in a way that provides helpful properties for machine learning. Many algorithms such as Logistic Regression, Support Vector Machine, K Nearest Neighbors and Naive Bayes assume that all features are centered around zero and have variances that are at at the same level of order. If a particular feature in a dataset has a variance that is larger in order of magnitude than other features, the model may not understand all features correctly and could perform poorly.\n",
    "\n",
    "  - **Transformation:** \n",
    "> While normalization transforms the range of data to remove the impact of magnitude in variance, transformation is a more radical technique as it changes the shape of the distribution so that transformed data can be represented by a normal or approximate normal distirbution. In general, you should transform the data if using algorithms that assume normality or a gaussian distribution. Examples of such models are Logistic Regression, Linear Discriminant Analysis (LDA) and Gaussian Naive Bayes. (Pro tip: any method with “Gaussian” in the name probably assumes normality.)\n",
    "\n",
    "  - **Ignore Low Variance:** \n",
    "> Datasets can sometimes contain categorical features that have a single unique or small number of values across samples. This kind of features are not only non-informative and add no value but are also sometimes harmful for few algorithms.\n",
    "\n",
    "  - **Multi-collinearity:** \n",
    "> Multi-collinearity is a state of very high intercorrelations or inter-associations among the independent features in the dataset. It is a type of disturbance in the data that is not handled well by machine learning models (mostly linear algorithms). Multi-collinearity may reduce overall coefficient of the model and cause unpredictable variance. This will lead to overfitting where the model may do great on a known training set but will fail with an unknown testing set.\n",
    "\n",
    "  - **Group Features:** \n",
    "> Sometimes datasets may contain features that are related at a sample level. Such features can be used to extract additional features based on the statistical properties of the distribution such as mean, median, variance, standard deviation etc.\n",
    "\n",
    "  - **Bin Numeric Variables:** \n",
    "> Binning or discretization is the process of transforming numerical variables into categorical features. An example would be the Age variable which is a continious distribution of numeric values that can be discretized into intervals (10-20 years, 21-30 etc.). Binning may improve the accuracy of a predictive model by reducing the noise or non-linearity in the data. (Sturges rule: data should be split into $k$ equally spaced classes where $k = ceil(1+\\log _{2}N)$)\n",
    "\n",
    "  - **Model Ensembling and Stacking:** \n",
    "> Ensemble modeling is a process where multiple diverse models are created to predict an outcome. This is achieved either by using many different modeling algorithms or using different samples of training data sets. The ensemble model then aggregates the predictions of each base model resulting in one final prediction for the unseen data. The motivation for using ensemble models is to reduce the generalization error of the prediction. As long as the base models are diverse and independent, the prediction error of the model decreases when the ensemble approach is used. The two most common methods in ensemble learning are `Bagging` and `Boosting`. Stacking is also a type of ensemble learning where predictions from multiple models are used as input features for a meta model that predicts the final outcome.\n",
    "\n",
    "  - **Tuning Hyperparameters of Ensemblers:** \n",
    "> Similar to hyperparameter tuning for a single machine learning model."
   ]
  },
  {
   "cell_type": "markdown",
   "metadata": {},
   "source": [
    "-----\n",
    "- **Features from _DatePart_**\n",
    "\n",
    "> One-hot encoding on the month is a good idea but it is a bit rigid. Indeed the value of each feature is going to be 0 or 1, depending on the month of each observation. We're basically saying that the month of September is as distant to the month of August as it is to the month of March. Of course this isn't true, and it would be nice if our features would reflect this. To do so we can simply calculate the distance between the month of each observation and all the months in the calendar. Instead of simply computing the distance linearly, we're going to use a so-called *Gaussian radial basic function kernel*. This computes a similarity between two months -- denoted by $i$ and $j$ -- which decreases the further apart they are from each other. The $sigma$ parameter can be seen as a hyperparameter than can be tuned.\n",
    "\n",
    "$$d(i, j) = exp(-\\frac{(i - j)^2}{2\\sigma^2})$$\n",
    "or \n",
    "\n",
    "$$d(i, j) = exp(-\\frac{\\text{min}(|i - j|, N - |i - j|)^2}{2\\sigma^2})$$ \n",
    "with $N = 12$ for months and $N = 7$ for days."
   ]
  },
  {
   "cell_type": "markdown",
   "metadata": {},
   "source": [
    "-----\n",
    "- **running Statistics**\n",
    "\n",
    "> The simple fact that we are getting the data in a stream means that we can't do a lot of things the same way as in a batch setting. For example let's say we want to scale the data so that it has mean 0 and variance 1, as we did earlier. To do so we simply have to subtract the mean of each feature to each value and then divide the result by the standard deviation of the feature. The problem is that we can't possible known the values of the mean and the standard deviation before actually going through all the data! The way we do feature scaling involves computing *running statistics*. The idea is that we use a data structure that estimates the mean and updates itself when it is provided with a value. The same goes for the variance (and thus the standard deviation). For example, if we denote $\\mu_t$ the mean, $n_t$ the count, $s_t$ the running sum of squares and $\\sigma_t$ the running variance at any moment $t$, then updating can be done as so:\n",
    "\n",
    "$$\n",
    "\\begin{cases}\n",
    "n_{t+1} = n_t + 1 \\\\\n",
    "\\mu_{t+1} = \\mu_t + \\frac{x - \\mu_t}{n_{t+1}} \\\\\n",
    "s_{t+1} = s_t + (x - \\mu_t) \\times (x - \\mu_{t+1}) \\\\\n",
    "\\sigma_{t+1} = \\frac{s_{t+1}}{n_{t+1}}\n",
    "\\end{cases}\n",
    "$$"
   ]
  },
  {
   "cell_type": "markdown",
   "metadata": {},
   "source": [
    "-----\n",
    "- **Apriori**\n",
    "\n",
    "```python\n",
    "from apyori import apriori\n",
    "rules = apriori(data, \n",
    "                min_support = 0.0001, \n",
    "                min_confidence = 0.5, \n",
    "                min_lift = 3, \n",
    "                min_length = 2,\n",
    "                max_length = 10)\n",
    "rules = list(rules)\n",
    "```\n",
    "\n",
    "data = [ transaction$_1$, transaction$_2 \\dots$, transaction$_n$] \n",
    "\n",
    "where transaction$_i$ = [ product$_1$, product$_2 \\dots$, product$_n$ ]\n"
   ]
  },
  {
   "cell_type": "markdown",
   "metadata": {},
   "source": [
    "-----\n",
    "- **logging**"
   ]
  },
  {
   "cell_type": "code",
   "execution_count": 1,
   "metadata": {},
   "outputs": [
    {
     "name": "stdout",
     "output_type": "stream",
     "text": [
      "2020-07-20 16:41:46,329 | INFO : Hello world!\n"
     ]
    }
   ],
   "source": [
    "import logging\n",
    "import sys\n",
    "logging.basicConfig(format='%(asctime)s | %(levelname)s : %(message)s',\n",
    "                     level=logging.INFO, stream=sys.stdout)\n",
    "logging.info('Hello world!')"
   ]
  },
  {
   "cell_type": "markdown",
   "metadata": {},
   "source": [
    "-----\n",
    "- **ASCII**"
   ]
  },
  {
   "cell_type": "code",
   "execution_count": 2,
   "metadata": {},
   "outputs": [
    {
     "name": "stdout",
     "output_type": "stream",
     "text": [
      "ord(a) = 97\n",
      "chr(97) = a\n",
      "abcdefghijklmnopqrstuvwxyz\n",
      "ABCDEFGHIJKLMNOPQRSTUVWXYZ\n",
      "['a', 'b', 'c', 'd', 'e', 'f', 'g', 'h', 'i', 'j', 'k', 'l', 'm', 'n', 'o', 'p', 'q', 'r', 's', 't', 'u', 'v', 'w', 'x', 'y', 'z']\n",
      "['A', 'B', 'C', 'D', 'E', 'F', 'G', 'H', 'I', 'J', 'K', 'L', 'M', 'N', 'O', 'P', 'Q', 'R', 'S', 'T', 'U', 'V', 'W', 'X', 'Y', 'Z']\n"
     ]
    }
   ],
   "source": [
    "import string\n",
    "print(\"ord(a) =\", ord('a'))\n",
    "print(\"chr(97) =\",chr(97))\n",
    "print(string.ascii_lowercase)\n",
    "print(string.ascii_uppercase)\n",
    "print(list(map(chr, range(97, 123))))\n",
    "print(list(map(chr, range(65, 91))))"
   ]
  },
  {
   "cell_type": "markdown",
   "metadata": {},
   "source": [
    "# GCP \n",
    "-----"
   ]
  },
  {
   "cell_type": "markdown",
   "metadata": {},
   "source": [
    "## AI Platform\n",
    "\n",
    "Before you can deploy your model for serving, AI Platform needs access to the following files in Cloud Storage:\n",
    "\n",
    "* `model.joblib` (model artifact)\n",
    "* `preprocessor.pkl` (model artifact)\n",
    "* `my_custom_code-0.1.tar.gz` (custom code)\n",
    "\n",
    "Model artifacts must be stored together in a model directory, which your Predictor can access as `model_dir` argument in its `from_path` class method. The custom code does not need to be in the same directory."
   ]
  },
  {
   "cell_type": "markdown",
   "metadata": {},
   "source": [
    "```python \n",
    "# predictor.py\n",
    "\n",
    "import os\n",
    "import pickle\n",
    "\n",
    "import numpy as np\n",
    "from sklearn.datasets import load_iris\n",
    "from sklearn.externals import joblib\n",
    "\n",
    "class MyPredictor(object):\n",
    "    def __init__(self, model, preprocessor):\n",
    "        self._model = model\n",
    "        self._preprocessor = preprocessor\n",
    "        self._class_names = [..., ...]\n",
    "\n",
    "    def predict(self, instances, **kwargs):\n",
    "        inputs = np.asarray(instances)\n",
    "        preprocessed_inputs = self._preprocessor.preprocess(inputs)\n",
    "        if kwargs.get('probabilities'):\n",
    "            probabilities = self._model.predict_proba(preprocessed_inputs)\n",
    "            return probabilities.tolist()\n",
    "        else:\n",
    "            outputs = self._model.predict(preprocessed_inputs)\n",
    "            return [self._class_names[class_num] for class_num in outputs]\n",
    "\n",
    "    @classmethod\n",
    "    def from_path(cls, model_dir):\n",
    "        model_path = os.path.join(model_dir, 'model.joblib')\n",
    "        model = joblib.load(model_path)\n",
    "\n",
    "        preprocessor_path = os.path.join(model_dir, 'preprocessor.pkl')\n",
    "        with open(preprocessor_path, 'rb') as f:\n",
    "            preprocessor = pickle.load(f)\n",
    "\n",
    "        return cls(model, preprocessor)\n",
    "```"
   ]
  },
  {
   "cell_type": "markdown",
   "metadata": {},
   "source": [
    "```bash\n",
    "MODEL_NAME = 'Predictor'\n",
    "VERSION_NAME = 'v1'\n",
    "! gcloud ai-platform models create $MODEL_NAME \\\n",
    "  --regions $REGION\n",
    "# --quiet automatically installs the beta component if it isn't already installed \n",
    "! gcloud --quiet beta ai-platform versions create $VERSION_NAME \\\n",
    "  --model $MODEL_NAME \\\n",
    "  --runtime-version 1.13 \\\n",
    "  --python-version 3.5 \\\n",
    "  --origin gs://$BUCKET_NAME/.../model/ \\\n",
    "  --package-uris gs://$BUCKET_NAME/.../my_custom_code-0.1.tar.gz \\\n",
    "  --prediction-class predictor.MyPredictor\n",
    "```"
   ]
  },
  {
   "cell_type": "markdown",
   "metadata": {},
   "source": [
    "```python\n",
    "import googleapiclient.discovery\n",
    "\n",
    "instances = [\n",
    "  [ ],\n",
    "  [ ],\n",
    "]\n",
    "\n",
    "service = googleapiclient.discovery.build('ml', 'v1')\n",
    "name = 'projects/{}/models/{}/versions/{}'.format(PROJECT_ID, MODEL_NAME, VERSION_NAME)\n",
    "\n",
    "response = service.projects().predict(\n",
    "    name=name,\n",
    "    body={'instances': instances} #, 'probabilities': True\n",
    ").execute()\n",
    "\n",
    "if 'error' in response:\n",
    "    raise RuntimeError(response['error'])\n",
    "else:\n",
    "    print(response['predictions'])\n",
    "\n",
    "```"
   ]
  },
  {
   "cell_type": "markdown",
   "metadata": {},
   "source": [
    "## BigQuery ML"
   ]
  },
  {
   "cell_type": "code",
   "execution_count": 3,
   "metadata": {},
   "outputs": [
    {
     "data": {
      "text/html": [
       "<div>\n",
       "<style scoped>\n",
       "    .dataframe tbody tr th:only-of-type {\n",
       "        vertical-align: middle;\n",
       "    }\n",
       "\n",
       "    .dataframe tbody tr th {\n",
       "        vertical-align: top;\n",
       "    }\n",
       "\n",
       "    .dataframe thead th {\n",
       "        text-align: right;\n",
       "    }\n",
       "</style>\n",
       "<table border=\"1\" class=\"dataframe\">\n",
       "  <thead>\n",
       "    <tr style=\"text-align: right;\">\n",
       "      <th></th>\n",
       "      <th>key</th>\n",
       "      <th>proba</th>\n",
       "    </tr>\n",
       "  </thead>\n",
       "  <tbody>\n",
       "    <tr>\n",
       "      <th>0</th>\n",
       "      <td>8bc0fa99cad0977549c20999af190285</td>\n",
       "      <td>0.015562</td>\n",
       "    </tr>\n",
       "    <tr>\n",
       "      <th>1</th>\n",
       "      <td>2a822b0cf8c5555c692a0771d3bf2464</td>\n",
       "      <td>0.019358</td>\n",
       "    </tr>\n",
       "    <tr>\n",
       "      <th>2</th>\n",
       "      <td>39bbc7eebdc7ef757fa18a6afd27448f</td>\n",
       "      <td>0.009329</td>\n",
       "    </tr>\n",
       "    <tr>\n",
       "      <th>3</th>\n",
       "      <td>0ed44fc0f3125b5b2ab4273d32d196ea</td>\n",
       "      <td>0.006009</td>\n",
       "    </tr>\n",
       "    <tr>\n",
       "      <th>4</th>\n",
       "      <td>0c699260585e04a11ffa484e65a02fa8</td>\n",
       "      <td>0.008650</td>\n",
       "    </tr>\n",
       "  </tbody>\n",
       "</table>\n",
       "</div>"
      ],
      "text/plain": [
       "                                key     proba\n",
       "0  8bc0fa99cad0977549c20999af190285  0.015562\n",
       "1  2a822b0cf8c5555c692a0771d3bf2464  0.019358\n",
       "2  39bbc7eebdc7ef757fa18a6afd27448f  0.009329\n",
       "3  0ed44fc0f3125b5b2ab4273d32d196ea  0.006009\n",
       "4  0c699260585e04a11ffa484e65a02fa8  0.008650"
      ]
     },
     "execution_count": 3,
     "metadata": {},
     "output_type": "execute_result"
    }
   ],
   "source": [
    "# logistic regression\n",
    "import pandas as pd\n",
    "df = pd.read_csv('data/bigqueryml.csv')\n",
    "df.head()"
   ]
  },
  {
   "cell_type": "code",
   "execution_count": 4,
   "metadata": {},
   "outputs": [
    {
     "data": {
      "text/plain": [
       "(9999, 2)"
      ]
     },
     "execution_count": 4,
     "metadata": {},
     "output_type": "execute_result"
    }
   ],
   "source": [
    "df = df.sort_values(by='proba', ascending=False)\n",
    "df.drop_duplicates('key', inplace=True)\n",
    "df.shape"
   ]
  },
  {
   "cell_type": "code",
   "execution_count": 5,
   "metadata": {},
   "outputs": [
    {
     "data": {
      "text/plain": [
       "0    0.978062\n",
       "1    1.798625\n",
       "2    2.533630\n",
       "3    3.261560\n",
       "4    3.982085\n",
       "Name: proba, dtype: float64"
      ]
     },
     "execution_count": 5,
     "metadata": {},
     "output_type": "execute_result"
    }
   ],
   "source": [
    "data = df.proba.cumsum().reset_index(drop=True)\n",
    "data.head()"
   ]
  },
  {
   "cell_type": "code",
   "execution_count": 6,
   "metadata": {},
   "outputs": [
    {
     "data": {
      "text/plain": [
       "<matplotlib.axes._subplots.AxesSubplot at 0x7f82dc11eb00>"
      ]
     },
     "execution_count": 6,
     "metadata": {},
     "output_type": "execute_result"
    },
    {
     "data": {
      "image/png": "[encoded data removed]",
      "text/plain": [
       "<Figure size 432x288 with 1 Axes>"
      ]
     },
     "metadata": {
      "needs_background": "light"
     },
     "output_type": "display_data"
    }
   ],
   "source": [
    "%matplotlib inline\n",
    "data.plot()"
   ]
  },
  {
   "cell_type": "code",
   "execution_count": 7,
   "metadata": {},
   "outputs": [
    {
     "data": {
      "text/plain": [
       "<matplotlib.axes._subplots.AxesSubplot at 0x7f82d9bb19b0>"
      ]
     },
     "execution_count": 7,
     "metadata": {},
     "output_type": "execute_result"
    },
    {
     "data": {
      "image/png": "[encoded data removed]",
      "text/plain": [
       "<Figure size 432x288 with 1 Axes>"
      ]
     },
     "metadata": {
      "needs_background": "light"
     },
     "output_type": "display_data"
    }
   ],
   "source": [
    "df.proba.plot(kind='density',xlim=(0,0.2), ylim=(0.01,70), logy=False)"
   ]
  },
  {
   "cell_type": "code",
   "execution_count": 8,
   "metadata": {},
   "outputs": [],
   "source": [
    "from sklearn import preprocessing\n",
    "x = df[['proba']].cumsum().values.astype(float)\n",
    "min_max_scaler = preprocessing.MinMaxScaler()\n",
    "x_scaled = min_max_scaler.fit_transform(x)\n",
    "df_normalized = pd.DataFrame(x_scaled)"
   ]
  },
  {
   "cell_type": "code",
   "execution_count": 9,
   "metadata": {},
   "outputs": [
    {
     "data": {
      "text/plain": [
       "<matplotlib.axes._subplots.AxesSubplot at 0x7f82ba5b3a20>"
      ]
     },
     "execution_count": 9,
     "metadata": {},
     "output_type": "execute_result"
    },
    {
     "data": {
      "image/png": "[encoded data removed]",
      "text/plain": [
       "<Figure size 432x288 with 1 Axes>"
      ]
     },
     "metadata": {
      "needs_background": "light"
     },
     "output_type": "display_data"
    }
   ],
   "source": [
    "df_normalized.plot()"
   ]
  },
  {
   "cell_type": "markdown",
   "metadata": {},
   "source": [
    "**LINEAR OR LOGISTIC REGRESSION**\n",
    "\n",
    "```sql\n",
    "%load_ext google.cloud.bigquery\n",
    "\n",
    "%%bigquery --project dmp-y-tests\n",
    "CREATE OR REPLACE MODEL\n",
    "  `project.ml.model`\n",
    "OPTIONS\n",
    "  ( model_type='logistic_reg', -- OR \"linear_reg\"\n",
    "    input_label_cols=['Target'],\n",
    "    learn_rate_strategy=\"line_search\",\n",
    "    ls_init_learn_rate=.15,\n",
    "    -- learn_rate_strategy=\"constant\",\n",
    "    -- learn_rate=0.1,\n",
    "    max_iterations=100,\n",
    "    data_split_method='random',\n",
    "    data_split_eval_fraction=0.3,\n",
    "    l1_reg=0.05,\n",
    "    l2_reg=0.05,\n",
    "    early_stop=False,\n",
    "    warm_start=False) AS\n",
    "SELECT * FROM `project.ml.train`;\n",
    "\n",
    "%%bigquery --project project\n",
    "SELECT * FROM ML.EVALUATE(MODEL `project.ml.model`, TABLE `project.ml.train`;\n",
    "\n",
    "%%bigquery --project project roc\n",
    "SELECT * FROM ML.ROC_CURVE(MODEL `project.ml.model`, TABLE `project.ml.train`);\n",
    "\n",
    "%%bigquery --project project params\n",
    "SELECT * FROM ML.WEIGHTS(MODEL `project.ml.model`);\n",
    "\n",
    "%%bigquery --project project                          \n",
    "SELECT * FROM ML.EVALUATE(MODEL `project.ml.model`, TABLE `project.validation`);\n",
    "\n",
    "%%bigquery --project project results\n",
    "SELECT * FROM ML.PREDICT(MODEL `project.ml.model`, TABLE ml.test);\n",
    "```"
   ]
  },
  {
   "cell_type": "markdown",
   "metadata": {},
   "source": [
    "**MATRIX_FACTORIZATION**\n",
    "\n",
    "```sql\n",
    "{CREATE MODEL | CREATE MODEL IF NOT EXISTS | CREATE OR REPLACE MODEL}\n",
    "model_name\n",
    "OPTIONS(MODEL_TYPE = 'MATRIX_FACTORIZATION'\n",
    "[, FEEDBACK_TYPE = {'EXPLICIT' | 'IMPLICIT'} ]\n",
    "[, NUM_FACTORS = int64_value ]\n",
    "[, USER_COL = string_value ]\n",
    "[, ITEM_COL = string_value ]\n",
    "[, RATING_COL = string_value ]\n",
    "[, WALS_ALPHA = float64_value ]\n",
    "[, L2_REG = float64_value ]\n",
    "[, MAX_ITERATIONS = int64_value ]\n",
    "[, EARLY_STOP = { TRUE | FALSE } ]\n",
    "[, MIN_REL_PROGRESS = float64_value ]\n",
    "[, DATA_SPLIT_METHOD = { 'AUTO_SPLIT' | 'RANDOM' | 'CUSTOM' | 'SEQ' | 'NO_SPLIT' } ]\n",
    "[, DATA_SPLIT_EVAL_FRACTION = float64_value ]\n",
    "[, DATA_SPLIT_COL = string_value ])\n",
    "AS query_statement\n",
    "```"
   ]
  },
  {
   "cell_type": "markdown",
   "metadata": {},
   "source": [
    "## Google Maps API"
   ]
  },
  {
   "cell_type": "code",
   "execution_count": 10,
   "metadata": {},
   "outputs": [],
   "source": [
    "import argparse\n",
    "import googlemaps\n",
    "\n",
    "API_KEY = 'xxxxxxxxxxxxxxxxxxxxxxxxxxxxxxxxxxxxxxx'\n",
    "\n",
    "def gmaps(address):\n",
    "    geocode_result = googlemaps.Client(key=API_KEY).geocode(address=address)\n",
    "    print(geocode_result)"
   ]
  },
  {
   "cell_type": "code",
   "execution_count": 11,
   "metadata": {},
   "outputs": [
    {
     "name": "stdout",
     "output_type": "stream",
     "text": [
      "[{'address_components': [{'long_name': '6', 'short_name': '6', 'types': ['street_number']}, {'long_name': 'Rue Ménars', 'short_name': 'Rue Ménars', 'types': ['route']}, {'long_name': 'Paris', 'short_name': 'Paris', 'types': ['locality', 'political']}, {'long_name': 'Arrondissement de Paris', 'short_name': 'Arrondissement de Paris', 'types': ['administrative_area_level_2', 'political']}, {'long_name': 'Île-de-France', 'short_name': 'IDF', 'types': ['administrative_area_level_1', 'political']}, {'long_name': 'France', 'short_name': 'FR', 'types': ['country', 'political']}, {'long_name': '75002', 'short_name': '75002', 'types': ['postal_code']}], 'formatted_address': '6 Rue Ménars, 75002 Paris, France', 'geometry': {'location': {'lat': 48.8697986, 'lng': 2.3378816}, 'location_type': 'ROOFTOP', 'viewport': {'northeast': {'lat': 48.8711475802915, 'lng': 2.339230580291502}, 'southwest': {'lat': 48.8684496197085, 'lng': 2.336532619708498}}}, 'place_id': 'ChIJg4IjpTtu5kcRozwTN4YMcSQ', 'plus_code': {'compound_code': 'V89Q+W5 Paris, France', 'global_code': '8FW4V89Q+W5'}, 'types': ['establishment', 'point_of_interest']}]\n"
     ]
    }
   ],
   "source": [
    "gmaps(\"Facebook Paris\")"
   ]
  },
  {
   "cell_type": "markdown",
   "metadata": {},
   "source": [
    "# Genetic Algorithms\n",
    "------------------\n",
    "\n",
    "> 1. Initialization\n",
    "\n",
    "> 2. Selection (fitness function)\n",
    "\n",
    "> 3. Genetic operators (crossover/recombination and mutation)\n",
    "\n",
    "> 4. Back to 2. until Termination"
   ]
  },
  {
   "cell_type": "code",
   "execution_count": 12,
   "metadata": {},
   "outputs": [],
   "source": [
    "import functools\n",
    "from random import randint, random\n",
    "from operator import add"
   ]
  },
  {
   "cell_type": "code",
   "execution_count": 13,
   "metadata": {},
   "outputs": [],
   "source": [
    "def individual(length, min, max):\n",
    "    return [ randint(min,max) for x in range(length) ]"
   ]
  },
  {
   "cell_type": "code",
   "execution_count": 14,
   "metadata": {},
   "outputs": [],
   "source": [
    "def population(count, length, min, max):\n",
    "    return [ individual(length, min, max) for x in range(count) ]"
   ]
  },
  {
   "cell_type": "code",
   "execution_count": 15,
   "metadata": {},
   "outputs": [],
   "source": [
    "def fitness(individual, target):\n",
    "    sum = functools.reduce(add, individual, 0)\n",
    "    return abs(target-sum)"
   ]
  },
  {
   "cell_type": "code",
   "execution_count": 16,
   "metadata": {},
   "outputs": [],
   "source": [
    "def grade(pop, target):\n",
    "    summed = functools.reduce(add, (fitness(x, target) for x in pop), 0)\n",
    "    return summed / (len(pop) * 1.0)"
   ]
  },
  {
   "cell_type": "code",
   "execution_count": 17,
   "metadata": {},
   "outputs": [],
   "source": [
    "def evolve(pop, target, retain=0.2, random_select=0.05, mutate=0.01):\n",
    "    graded = [ (fitness(x, target), x) for x in pop]\n",
    "    graded = [ x[1] for x in sorted(graded)]\n",
    "    retain_length = int(len(graded)*retain)\n",
    "    parents = graded[:retain_length]\n",
    "    for individual in graded[retain_length:]:\n",
    "        if random_select > random():\n",
    "            parents.append(individual)\n",
    "    for individual in parents:\n",
    "        if mutate > random():\n",
    "            pos_to_mutate = randint(0, len(individual)-1)\n",
    "            individual[pos_to_mutate] = randint(\n",
    "                min(individual), max(individual))\n",
    "    parents_length = len(parents)\n",
    "    desired_length = len(pop) - parents_length\n",
    "    children = []\n",
    "    while len(children) < desired_length:\n",
    "        male = randint(0, parents_length-1)\n",
    "        female = randint(0, parents_length-1)\n",
    "        if male != female:\n",
    "            male = parents[male]\n",
    "            female = parents[female]\n",
    "            half = int(len(male) / 2)\n",
    "            child = male[:half] + female[half:]\n",
    "            children.append(child)\n",
    "\n",
    "    parents.extend(children)\n",
    "    return parents"
   ]
  },
  {
   "cell_type": "code",
   "execution_count": 18,
   "metadata": {},
   "outputs": [
    {
     "name": "stdout",
     "output_type": "stream",
     "text": [
      "[169.59, 96.73, 40.68, 25.08, 10.88, 6.94, 6.0, 6.0, 6.0, 6.0, 6.0, 6.12, 6.0, 6.0, 6.0, 6.0, 6.0, 6.0, 6.0, 6.0, 6.05, 6.0, 6.0, 6.0, 6.55, 6.0, 6.0, 6.0, 6.0, 6.0]\n"
     ]
    }
   ],
   "source": [
    "target = 467\n",
    "p_count = 100\n",
    "i_length = 6\n",
    "i_min = 0\n",
    "i_max = 100\n",
    "p = population(p_count, i_length, i_min, i_max)\n",
    "fitness_history = [grade(p, target),]\n",
    "for i in range(29):\n",
    "    p = evolve(p, target)\n",
    "    fitness_history.append(grade(p, target))\n",
    "print(fitness_history)"
   ]
  },
  {
   "cell_type": "markdown",
   "metadata": {},
   "source": [
    "# pool.map\n",
    "--------"
   ]
  },
  {
   "cell_type": "code",
   "execution_count": 19,
   "metadata": {},
   "outputs": [],
   "source": [
    "import multiprocessing\n",
    "def f(i):\n",
    "    return i**0.5"
   ]
  },
  {
   "cell_type": "code",
   "execution_count": 20,
   "metadata": {},
   "outputs": [
    {
     "name": "stdout",
     "output_type": "stream",
     "text": [
      "<class 'list'>\n",
      "CPU times: user 49.8 s, sys: 1.86 s, total: 51.7 s\n",
      "Wall time: 51.7 s\n"
     ]
    }
   ],
   "source": [
    "%%time\n",
    "r = []\n",
    "for i in range(1, 200000000):\n",
    "    r.append(f(i))\n",
    "print(type(r))\n",
    "del r"
   ]
  },
  {
   "cell_type": "code",
   "execution_count": 21,
   "metadata": {},
   "outputs": [
    {
     "name": "stdout",
     "output_type": "stream",
     "text": [
      "<class 'map'>\n",
      "CPU times: user 31.1 s, sys: 1.37 s, total: 32.5 s\n",
      "Wall time: 32.5 s\n"
     ]
    }
   ],
   "source": [
    "%%time\n",
    "r = map(f, range(1,200000000))\n",
    "print(type(r))\n",
    "_ = list(r)\n",
    "del r"
   ]
  },
  {
   "cell_type": "code",
   "execution_count": 22,
   "metadata": {},
   "outputs": [
    {
     "name": "stdout",
     "output_type": "stream",
     "text": [
      "<class 'list'>\n",
      "CPU times: user 29.1 s, sys: 4.54 s, total: 33.6 s\n",
      "Wall time: 34 s\n"
     ]
    }
   ],
   "source": [
    "%%time\n",
    "pool = multiprocessing.Pool(7)\n",
    "r = pool.map(f, range(1,200000000), chunksize=20000)\n",
    "print(type(r))\n",
    "pool.close()\n",
    "pool.join()\n",
    "del r"
   ]
  },
  {
   "cell_type": "code",
   "execution_count": 38,
   "metadata": {},
   "outputs": [],
   "source": [
    "def a(x, y, z):\n",
    "    return x*y*z\n",
    "def b(args, x):\n",
    "    y, z = args\n",
    "    return a(x, y, z)"
   ]
  },
  {
   "cell_type": "code",
   "execution_count": 39,
   "metadata": {},
   "outputs": [
    {
     "data": {
      "text/plain": [
       "[0, 100, 200, 300, 400, 500, 600, 700, 800, 900]"
      ]
     },
     "execution_count": 39,
     "metadata": {},
     "output_type": "execute_result"
    }
   ],
   "source": [
    "import multiprocessing\n",
    "from functools import partial\n",
    "pool = multiprocessing.Pool()\n",
    "r = pool.map(partial(b,(10, 10)), range(10))\n",
    "pool.close()\n",
    "pool.join()\n",
    "r"
   ]
  },
  {
   "cell_type": "markdown",
   "metadata": {},
   "source": [
    "# User Agent\n",
    "------------"
   ]
  },
  {
   "cell_type": "code",
   "execution_count": 25,
   "metadata": {},
   "outputs": [],
   "source": [
    "from ua_parser import user_agent_parser"
   ]
  },
  {
   "cell_type": "code",
   "execution_count": 26,
   "metadata": {},
   "outputs": [],
   "source": [
    "examples = [\n",
    "    'Mozilla/5.0 (Windows NT 10.0; WOW64; Trident/7.0; sYqizbDC-45; rv:11.0) like Gecko',\n",
    "    'Mozilla/5.0 (iPhone; CPU iPhone OS 13_1_3 like Mac OS X) AppleWebKit/605.1.15 (KHTML, like Gecko) Mobile/15E148 imoiPhone/2019.11.0216; (iPhone9,3; U; iPhone OS 13.1.3)',\n",
    "    'Mozilla/5.0 (Windows NT 10.0; Win64; x64) AppleWebKit/537.36 (KHTML, like Gecko) Chrome/80.0.3987.16 Safari/537.36 Edg/80.0.361.14',\n",
    "    'Mozilla/5.0 (Linux armv7l) AppleWebKit/537.36 (KHTML, like Gecko) Chrome/53.0.2785.143 Safari/537.36 OPR/40.0.2207.0 OMI/4.9.0.237.DOM3.217 Model/Vestel-MB130 VSTVB MB100 HbbTV/1.2.1 (; ESSENTIELB; MB130; 3.62.24.0; _TV_G10_2017;) SmartTvA/3.0.0',\n",
    "    'Mozilla/5.0 (Linux; Android 9; SM-G950F Build/PPR1.180610.011; wv) AppleWebKit/537.36 (KHTML, like Gecko) Version/4.0 Chrome/78.0.3904.108 Mobile Safari/537.36 Line/9.22.1/IAB',\n",
    "    'Opera/9.80 (Windows NT 6.1) Presto/2.12.388 Version/12.15',\n",
    "    'Mozilla/5.0 (Macintosh; Intel Mac OS X 10_11_0) AppleWebKit/537.36 (KHTML, like Gecko) Chrome/77.0.3865.120 Safari/537.36 OPR/64.0.3417.92',\n",
    "    'Mozilla/5.0 (Windows NT 6.2; WOW64) AppleWebKit/537.36 (KHTML, like Gecko) Chrome/80.0.3987.122 Safari/537.36 SECSSOBrowserChrome',\n",
    "    'Mozilla/5.0 (Linux; Android 8.1.0; Redmi Note 6 Pro Build/OPM1.171019.011; wv) AppleWebKit/537.36 (KHTML, like Gecko) Version/4.0 Chrome/74.0.3729.112 Mobile Safari/537.36'\n",
    "]"
   ]
  },
  {
   "cell_type": "code",
   "execution_count": 27,
   "metadata": {},
   "outputs": [
    {
     "name": "stdout",
     "output_type": "stream",
     "text": [
      "IE ; Other, None, None\n",
      "Mobile Safari UI/WKWebView ; iPhone, Apple, iPhone9,3\n",
      "Edge ; Other, None, None\n",
      "HbbTV ; HbbTV, ESSENTIELB, MB130\n",
      "LINE ; Samsung SM-G950F, Samsung, SM-G950F\n",
      "Opera ; Other, None, None\n",
      "Opera ; Mac, Apple, Mac\n",
      "Chrome ; Other, None, None\n",
      "Chrome Mobile WebView ; XiaoMi Redmi Note 6 Pro, XiaoMi, Redmi Note 6 Pro\n"
     ]
    }
   ],
   "source": [
    "for example in examples:\n",
    "    resp = user_agent_parser.Parse(example)\n",
    "    print('%s ; %s, %s, %s'%(resp['user_agent']['family'], resp['device']['family'], resp['device']['brand'], resp['device']['model']))"
   ]
  },
  {
   "cell_type": "markdown",
   "metadata": {},
   "source": [
    "# Iterators\n",
    "-----------"
   ]
  },
  {
   "cell_type": "code",
   "execution_count": 28,
   "metadata": {},
   "outputs": [],
   "source": [
    "import itertools\n",
    "def sqr(n):\n",
    "    return n*n"
   ]
  },
  {
   "cell_type": "code",
   "execution_count": 29,
   "metadata": {},
   "outputs": [
    {
     "name": "stdout",
     "output_type": "stream",
     "text": [
      "529\n",
      "576\n",
      "625\n",
      "676\n",
      "729\n",
      "784\n",
      "841\n",
      "900\n",
      "961\n"
     ]
    }
   ],
   "source": [
    "for i in map(sqr, itertools.count(start=23)):\n",
    "    if i > 1000:\n",
    "        break\n",
    "    print(i)"
   ]
  },
  {
   "cell_type": "code",
   "execution_count": 30,
   "metadata": {},
   "outputs": [
    {
     "name": "stdout",
     "output_type": "stream",
     "text": [
      "[('A', 0), ('B', 1), ('C', 2), ('D', 0), ('E', 1), ('F', 2), ('G', 0), ('H', 1)]\n"
     ]
    }
   ],
   "source": [
    "a = 'ABCDEFGH'\n",
    "print(list(zip(a, itertools.cycle(range(3)))))"
   ]
  },
  {
   "cell_type": "code",
   "execution_count": 31,
   "metadata": {},
   "outputs": [
    {
     "name": "stdout",
     "output_type": "stream",
     "text": [
      "['A', 'B', 'C', 'D', 'E', 'F', 'G', 'H']\n"
     ]
    }
   ],
   "source": [
    "a = 'ABCD'\n",
    "b = ['E', 'F', 'G', 'H']\n",
    "print(list(itertools.chain(a,b)))"
   ]
  },
  {
   "cell_type": "code",
   "execution_count": 32,
   "metadata": {},
   "outputs": [
    {
     "name": "stdout",
     "output_type": "stream",
     "text": [
      "[1, 5, 13, 25]\n"
     ]
    }
   ],
   "source": [
    "def compute_sqr_sum(x, y):\n",
    "    return x**2 + y**2\n",
    "\n",
    "a = [(x,x+1) for x in range(4)]\n",
    "print(list(itertools.starmap(compute_sqr_sum, a)))"
   ]
  },
  {
   "cell_type": "code",
   "execution_count": 33,
   "metadata": {},
   "outputs": [
    {
     "name": "stdout",
     "output_type": "stream",
     "text": [
      "[(1, 1), (1, 2), (1, 3), (2, 1), (2, 2), (2, 3), (3, 1), (3, 2), (3, 3)]\n"
     ]
    }
   ],
   "source": [
    "a = [1, 2, 3]\n",
    "print(list(itertools.product(a,repeat=2)))"
   ]
  },
  {
   "cell_type": "code",
   "execution_count": 34,
   "metadata": {},
   "outputs": [
    {
     "name": "stdout",
     "output_type": "stream",
     "text": [
      "[2, 3, 4]\n"
     ]
    }
   ],
   "source": [
    "gen = itertools.count()\n",
    "print(list(itertools.islice(gen, 2, 5)))"
   ]
  },
  {
   "cell_type": "code",
   "execution_count": 35,
   "metadata": {},
   "outputs": [
    {
     "name": "stdout",
     "output_type": "stream",
     "text": [
      "[(2, 2), (3, 6), (4, 24), (5, 120)]\n"
     ]
    }
   ],
   "source": [
    "import operator\n",
    "\n",
    "gen = itertools.count(1)\n",
    "\n",
    "factorials = itertools.accumulate(itertools.count(1), func=operator.mul)\n",
    "\n",
    "fac_and_nums = zip(gen, factorials)\n",
    "\n",
    "print(list(itertools.islice(fac_and_nums, 1, 5)))"
   ]
  },
  {
   "cell_type": "markdown",
   "metadata": {},
   "source": [
    "By the way, you have to be careful when using *iterators*, since they get incremented every time the **next()** function is called on them."
   ]
  },
  {
   "cell_type": "markdown",
   "metadata": {},
   "source": [
    "# ❤️\n",
    "---"
   ]
  },
  {
   "cell_type": "code",
   "execution_count": 36,
   "metadata": {},
   "outputs": [
    {
     "data": {
      "image/png": "[encoded data removed]",
      "text/plain": [
       "<Figure size 504x504 with 1 Axes>"
      ]
     },
     "metadata": {
      "needs_background": "light"
     },
     "output_type": "display_data"
    }
   ],
   "source": [
    "%matplotlib inline\n",
    "import matplotlib.pyplot as plt\n",
    "from math import cos, sin\n",
    "x = [16 * pow(sin(t), 3) for t in range (-314,314)]\n",
    "y = [13 * cos(t) - 5 * cos(2*t) - 2 * cos(3*t) - cos(4*t) for t in range (-314,314)]\n",
    "plt.rcParams['figure.figsize'] = [7, 7]\n",
    "plt.scatter(x,y,)\n",
    "plt.show()"
   ]
  }
 ],
 "metadata": {
  "kernelspec": {
   "display_name": "Python 3",
   "language": "python",
   "name": "python3"
  },
  "language_info": {
   "codemirror_mode": {
    "name": "ipython",
    "version": 3
   },
   "file_extension": ".py",
   "mimetype": "text/x-python",
   "name": "python",
   "nbconvert_exporter": "python",
   "pygments_lexer": "ipython3",
   "version": "3.6.9"
  },
  "toc-autonumbering": true,
  "toc-showcode": false,
  "toc-showmarkdowntxt": false,
  "toc-showtags": false
 },
 "nbformat": 4,
 "nbformat_minor": 4
}
