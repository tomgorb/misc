{
 "cells": [
  {
   "cell_type": "markdown",
   "metadata": {
    "cell_id": "d25b16da-cb29-4d40-a3ef-8f16d63022b7",
    "tags": []
   },
   "source": [
    "# Pingouin library for statistical modeling in Python\n",
    "\n",
    "[Notebook for Medium article: New Python library for statistical tests — simpler than statsmodels, richer than scipy.stats](https://towardsdatascience.com/new-python-library-for-statistical-tests-simpler-than-statsmodels-richer-than-scipy-stats-ff380d4673c0)"
   ]
  },
  {
   "cell_type": "code",
   "execution_count": 1,
   "metadata": {
    "cell_id": "26063bb7-9f2d-4523-a689-42e0e6ba0d3d",
    "tags": []
   },
   "outputs": [],
   "source": [
    "import pingouin as pg"
   ]
  },
  {
   "cell_type": "markdown",
   "metadata": {
    "cell_id": "afac8b20-e6ee-4177-9622-d4b174f935af",
    "tags": []
   },
   "source": [
    "# t-test"
   ]
  },
  {
   "cell_type": "code",
   "execution_count": 2,
   "metadata": {
    "cell_id": "5853e404-98d9-42c0-8674-2edeefa376c2",
    "tags": []
   },
   "outputs": [
    {
     "name": "stdout",
     "output_type": "stream",
     "text": [
      "               T  dof       tail     p-val          CI95%   cohen-d   BF10  \\\n",
      "T-test  0.480384    8  two-sided  0.643815  [-2.28, 3.48]  0.303822  0.529   \n",
      "\n",
      "           power  \n",
      "T-test  0.070989  \n"
     ]
    }
   ],
   "source": [
    "x = [1, 2, 3, 4, 5]\n",
    "y = [0, 1, 2, 3, 6]\n",
    "model = pg.ttest(x, y)\n",
    "print(model)"
   ]
  },
  {
   "cell_type": "code",
   "execution_count": 3,
   "metadata": {
    "cell_id": "3fcc6df0-6a45-4c2f-a0c2-87d993a140cc",
    "tags": []
   },
   "outputs": [
    {
     "name": "stdout",
     "output_type": "stream",
     "text": [
      "<class 'pandas.core.frame.DataFrame'>\n"
     ]
    }
   ],
   "source": [
    "print(type(model)) # pandas dataframe"
   ]
  },
  {
   "cell_type": "code",
   "execution_count": 4,
   "metadata": {
    "cell_id": "e0dea256-3f71-400b-80b4-705982f81578",
    "tags": []
   },
   "outputs": [
    {
     "name": "stdout",
     "output_type": "stream",
     "text": [
      "t(8) = 0.4803844614152615, p = 0.6438149793118909, Bayes factor = 0.529\n"
     ]
    }
   ],
   "source": [
    "print(f\"t({model['dof'][0]}) = {model['T'][0]}, p = {model['p-val'][0]}, Bayes factor = {model['BF10'][0]}\")"
   ]
  },
  {
   "cell_type": "markdown",
   "metadata": {
    "cell_id": "456562ab-d8a2-46b5-b3da-2a567622d942",
    "tags": []
   },
   "source": [
    "## Analysis of variance (ANOVA)"
   ]
  },
  {
   "cell_type": "code",
   "execution_count": 5,
   "metadata": {
    "cell_id": "30efb601-c223-4692-8d68-5a4ee45e0ff8",
    "tags": []
   },
   "outputs": [
    {
     "data": {
      "text/html": [
       "<div>\n",
       "<style scoped>\n",
       "    .dataframe tbody tr th:only-of-type {\n",
       "        vertical-align: middle;\n",
       "    }\n",
       "\n",
       "    .dataframe tbody tr th {\n",
       "        vertical-align: top;\n",
       "    }\n",
       "\n",
       "    .dataframe thead th {\n",
       "        text-align: right;\n",
       "    }\n",
       "</style>\n",
       "<table border=\"1\" class=\"dataframe\">\n",
       "  <thead>\n",
       "    <tr style=\"text-align: right;\">\n",
       "      <th></th>\n",
       "      <th>Source</th>\n",
       "      <th>SS</th>\n",
       "      <th>DF</th>\n",
       "      <th>MS</th>\n",
       "      <th>F</th>\n",
       "      <th>p-unc</th>\n",
       "      <th>np2</th>\n",
       "    </tr>\n",
       "  </thead>\n",
       "  <tbody>\n",
       "    <tr>\n",
       "      <th>0</th>\n",
       "      <td>Sex</td>\n",
       "      <td>2.075</td>\n",
       "      <td>1</td>\n",
       "      <td>2.075</td>\n",
       "      <td>1.994</td>\n",
       "      <td>0.164</td>\n",
       "      <td>0.036</td>\n",
       "    </tr>\n",
       "    <tr>\n",
       "      <th>1</th>\n",
       "      <td>Drug</td>\n",
       "      <td>0.816</td>\n",
       "      <td>2</td>\n",
       "      <td>0.408</td>\n",
       "      <td>0.392</td>\n",
       "      <td>0.678</td>\n",
       "      <td>0.014</td>\n",
       "    </tr>\n",
       "    <tr>\n",
       "      <th>2</th>\n",
       "      <td>Sex * Drug</td>\n",
       "      <td>2.564</td>\n",
       "      <td>2</td>\n",
       "      <td>1.282</td>\n",
       "      <td>1.232</td>\n",
       "      <td>0.300</td>\n",
       "      <td>0.044</td>\n",
       "    </tr>\n",
       "    <tr>\n",
       "      <th>3</th>\n",
       "      <td>Residual</td>\n",
       "      <td>56.175</td>\n",
       "      <td>54</td>\n",
       "      <td>1.040</td>\n",
       "      <td>NaN</td>\n",
       "      <td>NaN</td>\n",
       "      <td>NaN</td>\n",
       "    </tr>\n",
       "  </tbody>\n",
       "</table>\n",
       "</div>"
      ],
      "text/plain": [
       "       Source      SS  DF     MS      F  p-unc    np2\n",
       "0         Sex   2.075   1  2.075  1.994  0.164  0.036\n",
       "1        Drug   0.816   2  0.408  0.392  0.678  0.014\n",
       "2  Sex * Drug   2.564   2  1.282  1.232  0.300  0.044\n",
       "3    Residual  56.175  54  1.040    NaN    NaN    NaN"
      ]
     },
     "execution_count": 5,
     "metadata": {},
     "output_type": "execute_result"
    }
   ],
   "source": [
    "dt = pg.read_dataset('anova3') \n",
    "dt.anova(dv=\"Cholesterol\", between=[\"Sex\", \"Drug\"]).round(3) # pandas method"
   ]
  },
  {
   "cell_type": "code",
   "execution_count": 6,
   "metadata": {
    "cell_id": "1c76683f-8de1-4194-9e75-3bc64a4dc92d",
    "tags": []
   },
   "outputs": [
    {
     "data": {
      "text/html": [
       "<div>\n",
       "<style scoped>\n",
       "    .dataframe tbody tr th:only-of-type {\n",
       "        vertical-align: middle;\n",
       "    }\n",
       "\n",
       "    .dataframe tbody tr th {\n",
       "        vertical-align: top;\n",
       "    }\n",
       "\n",
       "    .dataframe thead th {\n",
       "        text-align: right;\n",
       "    }\n",
       "</style>\n",
       "<table border=\"1\" class=\"dataframe\">\n",
       "  <thead>\n",
       "    <tr style=\"text-align: right;\">\n",
       "      <th></th>\n",
       "      <th>Source</th>\n",
       "      <th>SS</th>\n",
       "      <th>DF</th>\n",
       "      <th>MS</th>\n",
       "      <th>F</th>\n",
       "      <th>p-unc</th>\n",
       "      <th>np2</th>\n",
       "    </tr>\n",
       "  </thead>\n",
       "  <tbody>\n",
       "    <tr>\n",
       "      <th>0</th>\n",
       "      <td>Sex</td>\n",
       "      <td>2.075</td>\n",
       "      <td>1</td>\n",
       "      <td>2.075</td>\n",
       "      <td>1.994</td>\n",
       "      <td>0.164</td>\n",
       "      <td>0.036</td>\n",
       "    </tr>\n",
       "    <tr>\n",
       "      <th>1</th>\n",
       "      <td>Drug</td>\n",
       "      <td>0.816</td>\n",
       "      <td>2</td>\n",
       "      <td>0.408</td>\n",
       "      <td>0.392</td>\n",
       "      <td>0.678</td>\n",
       "      <td>0.014</td>\n",
       "    </tr>\n",
       "    <tr>\n",
       "      <th>2</th>\n",
       "      <td>Sex * Drug</td>\n",
       "      <td>2.564</td>\n",
       "      <td>2</td>\n",
       "      <td>1.282</td>\n",
       "      <td>1.232</td>\n",
       "      <td>0.300</td>\n",
       "      <td>0.044</td>\n",
       "    </tr>\n",
       "    <tr>\n",
       "      <th>3</th>\n",
       "      <td>Residual</td>\n",
       "      <td>56.175</td>\n",
       "      <td>54</td>\n",
       "      <td>1.040</td>\n",
       "      <td>NaN</td>\n",
       "      <td>NaN</td>\n",
       "      <td>NaN</td>\n",
       "    </tr>\n",
       "  </tbody>\n",
       "</table>\n",
       "</div>"
      ],
      "text/plain": [
       "       Source      SS  DF     MS      F  p-unc    np2\n",
       "0         Sex   2.075   1  2.075  1.994  0.164  0.036\n",
       "1        Drug   0.816   2  0.408  0.392  0.678  0.014\n",
       "2  Sex * Drug   2.564   2  1.282  1.232  0.300  0.044\n",
       "3    Residual  56.175  54  1.040    NaN    NaN    NaN"
      ]
     },
     "execution_count": 6,
     "metadata": {},
     "output_type": "execute_result"
    }
   ],
   "source": [
    "pg.anova(dv=\"Cholesterol\", between=[\"Sex\", \"Drug\"], data=dt).round(3) # pingouin function"
   ]
  },
  {
   "cell_type": "markdown",
   "metadata": {
    "cell_id": "8538342a-e86f-4f81-a65d-ba213bb52f91",
    "tags": []
   },
   "source": [
    "## Linear regression "
   ]
  },
  {
   "cell_type": "code",
   "execution_count": 7,
   "metadata": {
    "cell_id": "e1d3d88b-7d8c-4605-8fa5-dd2270be5aac",
    "tags": []
   },
   "outputs": [
    {
     "data": {
      "text/html": [
       "<div>\n",
       "<style scoped>\n",
       "    .dataframe tbody tr th:only-of-type {\n",
       "        vertical-align: middle;\n",
       "    }\n",
       "\n",
       "    .dataframe tbody tr th {\n",
       "        vertical-align: top;\n",
       "    }\n",
       "\n",
       "    .dataframe thead th {\n",
       "        text-align: right;\n",
       "    }\n",
       "</style>\n",
       "<table border=\"1\" class=\"dataframe\">\n",
       "  <thead>\n",
       "    <tr style=\"text-align: right;\">\n",
       "      <th></th>\n",
       "      <th>names</th>\n",
       "      <th>coef</th>\n",
       "      <th>se</th>\n",
       "      <th>T</th>\n",
       "      <th>pval</th>\n",
       "      <th>r2</th>\n",
       "      <th>adj_r2</th>\n",
       "      <th>CI[2.5%]</th>\n",
       "      <th>CI[97.5%]</th>\n",
       "    </tr>\n",
       "  </thead>\n",
       "  <tbody>\n",
       "    <tr>\n",
       "      <th>0</th>\n",
       "      <td>Intercept</td>\n",
       "      <td>-2.524762</td>\n",
       "      <td>0.563440</td>\n",
       "      <td>-4.480979</td>\n",
       "      <td>1.484032e-05</td>\n",
       "      <td>0.867686</td>\n",
       "      <td>0.865886</td>\n",
       "      <td>-3.638250</td>\n",
       "      <td>-1.411273</td>\n",
       "    </tr>\n",
       "    <tr>\n",
       "      <th>1</th>\n",
       "      <td>sepal_length</td>\n",
       "      <td>1.775593</td>\n",
       "      <td>0.064405</td>\n",
       "      <td>27.569160</td>\n",
       "      <td>5.847914e-60</td>\n",
       "      <td>0.867686</td>\n",
       "      <td>0.865886</td>\n",
       "      <td>1.648313</td>\n",
       "      <td>1.902872</td>\n",
       "    </tr>\n",
       "    <tr>\n",
       "      <th>2</th>\n",
       "      <td>sepal_width</td>\n",
       "      <td>-1.338623</td>\n",
       "      <td>0.122358</td>\n",
       "      <td>-10.940240</td>\n",
       "      <td>9.429194e-21</td>\n",
       "      <td>0.867686</td>\n",
       "      <td>0.865886</td>\n",
       "      <td>-1.580431</td>\n",
       "      <td>-1.096816</td>\n",
       "    </tr>\n",
       "  </tbody>\n",
       "</table>\n",
       "</div>"
      ],
      "text/plain": [
       "          names      coef        se          T          pval        r2  \\\n",
       "0     Intercept -2.524762  0.563440  -4.480979  1.484032e-05  0.867686   \n",
       "1  sepal_length  1.775593  0.064405  27.569160  5.847914e-60  0.867686   \n",
       "2   sepal_width -1.338623  0.122358 -10.940240  9.429194e-21  0.867686   \n",
       "\n",
       "     adj_r2  CI[2.5%]  CI[97.5%]  \n",
       "0  0.865886 -3.638250  -1.411273  \n",
       "1  0.865886  1.648313   1.902872  \n",
       "2  0.865886 -1.580431  -1.096816  "
      ]
     },
     "execution_count": 7,
     "metadata": {},
     "output_type": "execute_result"
    }
   ],
   "source": [
    "import seaborn as sns\n",
    "iris = sns.load_dataset(\"iris\")\n",
    "\n",
    "X = iris[['sepal_length', 'sepal_width']]\n",
    "y = iris['petal_length']\n",
    "pg.linear_regression(X, y)"
   ]
  },
  {
   "cell_type": "code",
   "execution_count": null,
   "metadata": {},
   "outputs": [],
   "source": []
  }
 ],
 "metadata": {
  "deepnote_execution_queue": [],
  "deepnote_notebook_id": "53c3ce14-c73d-4c09-a473-a2efa6e26857",
  "kernelspec": {
   "display_name": "Python 3",
   "language": "python",
   "name": "python3"
  },
  "language_info": {
   "codemirror_mode": {
    "name": "ipython",
    "version": 3
   },
   "file_extension": ".py",
   "mimetype": "text/x-python",
   "name": "python",
   "nbconvert_exporter": "python",
   "pygments_lexer": "ipython3",
   "version": "3.6.9"
  }
 },
 "nbformat": 4,
 "nbformat_minor": 4
}
