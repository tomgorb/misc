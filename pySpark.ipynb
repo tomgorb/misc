{
 "cells": [
  {
   "cell_type": "markdown",
   "metadata": {},
   "source": [
    "### Requirements\n",
    "-----"
   ]
  },
  {
   "cell_type": "code",
   "execution_count": 1,
   "metadata": {},
   "outputs": [
    {
     "data": {
      "text/plain": [
       "'3.5.1'"
      ]
     },
     "execution_count": 1,
     "metadata": {},
     "output_type": "execute_result"
    }
   ],
   "source": [
    "import pyspark\n",
    "pyspark.__version__"
   ]
  },
  {
   "cell_type": "code",
   "execution_count": 2,
   "metadata": {},
   "outputs": [
    {
     "data": {
      "text/plain": [
       "'1.5.3'"
      ]
     },
     "execution_count": 2,
     "metadata": {},
     "output_type": "execute_result"
    }
   ],
   "source": [
    "import pandas\n",
    "pandas.__version__"
   ]
  },
  {
   "cell_type": "markdown",
   "metadata": {},
   "source": [
    "-----"
   ]
  },
  {
   "cell_type": "markdown",
   "metadata": {},
   "source": [
    "IMPORTS"
   ]
  },
  {
   "cell_type": "markdown",
   "metadata": {},
   "source": [
    "```bash\n",
    "Spark session available as 'spark'.\n",
    "Welcome to\n",
    "      ____              __\n",
    "     / __/__  ___ _____/ /__\n",
    "    _\\ \\/ _ \\/ _ `/ __/  '_/\n",
    "   /___/ .__/\\_,_/_/ /_/\\_\\   version 3.5.1\n",
    "      /_/\n",
    "         \n",
    "Using Scala version 2.12.18 (OpenJDK 64-Bit Server VM, Java 21.0.3)\n",
    "```"
   ]
  },
  {
   "cell_type": "code",
   "execution_count": 3,
   "metadata": {},
   "outputs": [],
   "source": [
    "import os\n",
    "import re\n",
    "import shutil\n",
    "\n",
    "from datetime import datetime\n",
    "\n",
    "from pyspark.sql import SparkSession\n",
    "from pyspark.sql.functions import lit\n",
    "from pyspark.sql.types import TimestampType, StringType\n",
    "from pyspark.sql import functions"
   ]
  },
  {
   "cell_type": "markdown",
   "metadata": {},
   "source": [
    "DEFINE & CHECK SPARK ENV"
   ]
  },
  {
   "cell_type": "code",
   "execution_count": 18,
   "metadata": {},
   "outputs": [
    {
     "name": "stdout",
     "output_type": "stream",
     "text": [
      "<SparkContext master=local[*] appName=pyspark-shell> 3.5.1\n"
     ]
    }
   ],
   "source": [
    "try:\n",
    "    sc\n",
    "except NameError:\n",
    "    print('initializing SparkContext...')\n",
    "    sq = SparkSession.builder.getOrCreate()\n",
    "    sc = sq.sparkContext\n",
    "print(sc, sc.version)"
   ]
  },
  {
   "cell_type": "markdown",
   "metadata": {},
   "source": [
    "LOAD DATA INTO RDD"
   ]
  },
  {
   "cell_type": "code",
   "execution_count": 5,
   "metadata": {},
   "outputs": [
    {
     "name": "stderr",
     "output_type": "stream",
     "text": [
      "                                                                                \r"
     ]
    }
   ],
   "source": [
    "dataRDD = sc.textFile(\"data/data.csv\", 1) # 5)\n",
    "header = dataRDD.first()\n",
    "schema = header.split(\"|\")"
   ]
  },
  {
   "cell_type": "markdown",
   "metadata": {},
   "source": [
    "FROM RDD TO DATA FRAME"
   ]
  },
  {
   "cell_type": "code",
   "execution_count": 6,
   "metadata": {},
   "outputs": [],
   "source": [
    "df = sq.createDataFrame(dataRDD.filter(lambda x:x !=header).map(\n",
    "    lambda line: line.split(\"|\")), schema)"
   ]
  },
  {
   "cell_type": "code",
   "execution_count": 7,
   "metadata": {},
   "outputs": [
    {
     "name": "stdout",
     "output_type": "stream",
     "text": [
      "+-------+------+----------+----------+------+------------------+-------------+------------+-------------+-----------------+-----------+\n",
      "|   hits|visits|       day|identifier|orders|            amount|product_pages|direct_visit|organic_visit|paid_search_visit|email_visit|\n",
      "+-------+------+----------+----------+------+------------------+-------------+------------+-------------+-----------------+-----------+\n",
      "|1084135|145634|2020-04-27|        96| 45986| 3061233.890000154|       707126|      400028|       260021|              846|          6|\n",
      "| 734485|111792|2020-04-30|        96| 53344|3271520.3900004006|       479824|      255051|       159261|              431|          0|\n",
      "|2084615|182338|2020-04-08|        96| 11576|  908171.750000054|      1319358|      675851|       337172|            37056|         12|\n",
      "|1133765|157161|2020-04-25|        96| 49829| 3398320.870000415|       720391|      416621|       237090|              801|          7|\n",
      "|2473217|254864|2020-04-14|        96| 24317|2029124.6499999256|      1503301|      736847|       523907|            75793|          0|\n",
      "| 843904| 86451|2020-03-30|        96|  3147| 281467.8600000019|       523875|      285621|       147390|            24293|          0|\n",
      "|1280512|157278|2020-04-23|        96| 40552|2746963.0799991805|       833606|      473178|       298346|             2899|          0|\n",
      "|1409119|138770|2020-04-05|        96|    47|3818.2699999999977|       905227|      483837|       243795|            49249|          0|\n",
      "|2004905|182479|2020-04-06|        96|  9656|  770706.660000026|      1257561|      666327|       379551|            45371|          0|\n",
      "|1089231|103625|2020-04-01|        96|  5076| 431590.4400000292|       666140|      359204|       194030|            22427|         36|\n",
      "|1369592|162391|2020-04-22|        96| 37623| 2569558.269999372|       879595|      502422|       316956|             1102|          0|\n",
      "|2265372|212532|2020-04-10|        96| 15868|1286222.6900000726|      1405633|      731816|       453607|            73642|          0|\n",
      "| 747102|110009|2020-05-01|        96|    10|            268.31|       511343|      277371|       188444|              440|          0|\n",
      "|2110016|201290|2020-04-16|        96| 27586|2101863.7099999227|      1380192|      620390|        82399|            55930|          7|\n",
      "|1825682|187541|2020-04-17|        96| 32823| 2472347.289999566|      1180451|      555720|       132421|            34613|          0|\n",
      "| 529463| 95320|2020-05-11|        96| 63868|3691591.2300010086|       346331|      190111|       124999|              445|          0|\n",
      "| 760074|115850|2020-05-05|        96| 61650| 3496219.720000762|       495084|      272029|       183176|              551|          0|\n",
      "| 127945| 24023|2020-03-06|        96| 55029|2269412.2899990007|        88988|       59401|        23147|             5326|          0|\n",
      "| 136466| 25649|2020-03-05|        96| 48710| 1987798.599999089|        95147|       62948|        24199|             6505|          0|\n",
      "|  40645|  7505|2019-08-31|        96| 66447|2966812.2999994624|        26252|       19466|         6541|              155|          0|\n",
      "+-------+------+----------+----------+------+------------------+-------------+------------+-------------+-----------------+-----------+\n",
      "only showing top 20 rows\n",
      "\n"
     ]
    }
   ],
   "source": [
    "df.show()"
   ]
  },
  {
   "cell_type": "markdown",
   "metadata": {},
   "source": [
    "USER DEFINED FUNCTION "
   ]
  },
  {
   "cell_type": "code",
   "execution_count": 8,
   "metadata": {},
   "outputs": [],
   "source": [
    "# TIME CONVERSION\n",
    "time = functions.udf(lambda x: datetime.strptime(x.replace('-', ''), '%Y%m%d'), TimestampType())\n",
    "\n",
    "# ENCODING\n",
    "encode = functions.udf(lambda x: x.encode(\"utf-8\"), StringType())"
   ]
  },
  {
   "cell_type": "markdown",
   "metadata": {},
   "source": [
    "DATA FRAME PRE-PROCESSING"
   ]
  },
  {
   "cell_type": "code",
   "execution_count": 9,
   "metadata": {},
   "outputs": [],
   "source": [
    "df = (df.replace('96', 'BR', \"identifier\")\n",
    "        .withColumn('date', time(df.day)) \n",
    "        .withColumn('total_visit', df.direct_visit+df.organic_visit+df.paid_search_visit+df.email_visit)\n",
    "        .withColumn('?', lit(None))\n",
    "        .drop('day', 'direct_visit', 'organic_visit', 'paid_search_visit', 'email_visit')\n",
    "        .dropna(subset=['amount'])\n",
    "        .filter((df.hits > 1000000) & ((df.identifier=='03') | (df.identifier=='96')))\n",
    "      )"
   ]
  },
  {
   "cell_type": "code",
   "execution_count": 10,
   "metadata": {},
   "outputs": [
    {
     "name": "stderr",
     "output_type": "stream",
     "text": [
      "[Stage 3:>                                                          (0 + 1) / 1]\r"
     ]
    },
    {
     "name": "stdout",
     "output_type": "stream",
     "text": [
      "+-------+------+----------+------+------------------+-------------+-------------------+-----------+----+\n",
      "|   hits|visits|identifier|orders|            amount|product_pages|               date|total_visit|   ?|\n",
      "+-------+------+----------+------+------------------+-------------+-------------------+-----------+----+\n",
      "|1084135|145634|        BR| 45986| 3061233.890000154|       707126|2020-04-27 00:00:00|   660901.0|NULL|\n",
      "|2084615|182338|        BR| 11576|  908171.750000054|      1319358|2020-04-08 00:00:00|  1050091.0|NULL|\n",
      "|1133765|157161|        BR| 49829| 3398320.870000415|       720391|2020-04-25 00:00:00|   654519.0|NULL|\n",
      "|2473217|254864|        BR| 24317|2029124.6499999256|      1503301|2020-04-14 00:00:00|  1336547.0|NULL|\n",
      "|1280512|157278|        BR| 40552|2746963.0799991805|       833606|2020-04-23 00:00:00|   774423.0|NULL|\n",
      "|1409119|138770|        BR|    47|3818.2699999999977|       905227|2020-04-05 00:00:00|   776881.0|NULL|\n",
      "|2004905|182479|        BR|  9656|  770706.660000026|      1257561|2020-04-06 00:00:00|  1091249.0|NULL|\n",
      "|1089231|103625|        BR|  5076| 431590.4400000292|       666140|2020-04-01 00:00:00|   575697.0|NULL|\n",
      "|1369592|162391|        BR| 37623| 2569558.269999372|       879595|2020-04-22 00:00:00|   820480.0|NULL|\n",
      "|2265372|212532|        BR| 15868|1286222.6900000726|      1405633|2020-04-10 00:00:00|  1259065.0|NULL|\n",
      "|2110016|201290|        BR| 27586|2101863.7099999227|      1380192|2020-04-16 00:00:00|   758726.0|NULL|\n",
      "|1825682|187541|        BR| 32823| 2472347.289999566|      1180451|2020-04-17 00:00:00|   722754.0|NULL|\n",
      "|1504029|153831|        BR|    49|2962.2300000000014|       970908|2020-04-12 00:00:00|   895000.0|NULL|\n",
      "|1548062|171609|        BR| 33660|2500503.3199994955|      1001525|2020-04-18 00:00:00|   680029.0|NULL|\n",
      "|2333616|211914|        BR| 13096|1016932.0900000696|      1453131|2020-04-09 00:00:00|  1272871.0|NULL|\n",
      "|1303829|127650|        BR|  8144| 648931.1700000381|       796092|2020-04-04 00:00:00|   686531.0|NULL|\n",
      "|1698968|181861|        BR| 34393| 2559061.569999407|      1097542|2020-04-20 00:00:00|   698055.0|NULL|\n",
      "|1240065|136959|        BR|    50| 4134.889999999995|       833888|2020-04-19 00:00:00|   741692.0|NULL|\n",
      "|1998887|183149|        BR| 10717| 824465.0000000314|      1244630|2020-04-07 00:00:00|  1083201.0|NULL|\n",
      "|2306569|199146|        BR| 25628| 2034869.259999929|      1499206|2020-04-15 00:00:00|   777773.0|NULL|\n",
      "+-------+------+----------+------+------------------+-------------+-------------------+-----------+----+\n",
      "only showing top 20 rows\n",
      "\n"
     ]
    },
    {
     "name": "stderr",
     "output_type": "stream",
     "text": [
      "                                                                                \r"
     ]
    }
   ],
   "source": [
    "df.show()"
   ]
  },
  {
   "cell_type": "markdown",
   "metadata": {},
   "source": [
    "BACK TO RDD"
   ]
  },
  {
   "cell_type": "code",
   "execution_count": 11,
   "metadata": {},
   "outputs": [],
   "source": [
    "rDD = df.rdd"
   ]
  },
  {
   "cell_type": "markdown",
   "metadata": {},
   "source": [
    "GROUP BY"
   ]
  },
  {
   "cell_type": "code",
   "execution_count": 12,
   "metadata": {},
   "outputs": [],
   "source": [
    "groupedData = rDD.groupBy(lambda x: x[2], \n",
    "                          numPartitions=1) # 5)"
   ]
  },
  {
   "cell_type": "markdown",
   "metadata": {},
   "source": [
    "ALGORITHM"
   ]
  },
  {
   "cell_type": "code",
   "execution_count": 13,
   "metadata": {},
   "outputs": [],
   "source": [
    "def algorithm(rows):\n",
    "    output = []\n",
    "    for i, row in enumerate(rows[:-1]):\n",
    "        output.append((row.identifier, row.date, rows[i+1].date, \"%.2f\"%float(row.amount)))        \n",
    "    return output"
   ]
  },
  {
   "cell_type": "markdown",
   "metadata": {},
   "source": [
    "APPLY ALGORITHM"
   ]
  },
  {
   "cell_type": "code",
   "execution_count": 14,
   "metadata": {},
   "outputs": [],
   "source": [
    "sessions = groupedData.flatMap(lambda kv: algorithm(kv[1].data))"
   ]
  },
  {
   "cell_type": "code",
   "execution_count": 15,
   "metadata": {},
   "outputs": [
    {
     "data": {
      "text/plain": [
       "[('BR',\n",
       "  datetime.datetime(2020, 4, 27, 0, 0),\n",
       "  datetime.datetime(2020, 4, 8, 0, 0),\n",
       "  '3061233.89')]"
      ]
     },
     "execution_count": 15,
     "metadata": {},
     "output_type": "execute_result"
    }
   ],
   "source": [
    "sessions.take(1)"
   ]
  },
  {
   "cell_type": "markdown",
   "metadata": {},
   "source": [
    "COMPUTE & SAVE TO FILE"
   ]
  },
  {
   "cell_type": "code",
   "execution_count": 16,
   "metadata": {},
   "outputs": [],
   "source": [
    "outputDir = \"data/sparkOutput\"\n",
    "_ = sessions.saveAsTextFile(outputDir, \"org.apache.hadoop.io.compress.GzipCodec\")"
   ]
  },
  {
   "cell_type": "code",
   "execution_count": 17,
   "metadata": {},
   "outputs": [
    {
     "name": "stderr",
     "output_type": "stream",
     "text": [
      "24/07/05 17:36:27 WARN GarbageCollectionMetrics: To enable non-built-in garbage collector(s) List(G1 Concurrent GC), users should configure it(them) to spark.eventLog.gcMetrics.youngGenerationGarbageCollectors or spark.eventLog.gcMetrics.oldGenerationGarbageCollectors\n"
     ]
    }
   ],
   "source": [
    "if os.path.exists(outputDir) and os.path.isdir(outputDir):\n",
    "    shutil.rmtree(outputDir)"
   ]
  },
  {
   "cell_type": "markdown",
   "metadata": {},
   "source": [
    "THE END!"
   ]
  }
 ],
 "metadata": {
  "kernelspec": {
   "display_name": "sandbox",
   "language": "python",
   "name": "sandbox"
  },
  "language_info": {
   "codemirror_mode": {
    "name": "ipython",
    "version": 3
   },
   "file_extension": ".py",
   "mimetype": "text/x-python",
   "name": "python",
   "nbconvert_exporter": "python",
   "pygments_lexer": "ipython3",
   "version": "3.12.3"
  }
 },
 "nbformat": 4,
 "nbformat_minor": 4
}
